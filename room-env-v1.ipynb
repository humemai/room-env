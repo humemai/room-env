{
 "cells": [
  {
   "cell_type": "code",
   "execution_count": null,
   "metadata": {},
   "outputs": [],
   "source": [
    "import gymnasium as gym\n",
    "import room_env\n",
    "\n",
    "env = gym.make(\"RoomEnv-v0\")\n",
    "(observation, question), info = env.reset()\n",
    "rewards = 0\n",
    "\n",
    "while True:\n",
    "    (observation, question), reward, done, truncated, info = env.step(\n",
    "        \"This is my answer!\"\n",
    "    )\n",
    "    rewards += reward\n",
    "    if done:\n",
    "        break\n",
    "\n",
    "print(rewards)"
   ]
  },
  {
   "cell_type": "code",
   "execution_count": null,
   "metadata": {},
   "outputs": [],
   "source": [
    "import gymnasium as gym\n",
    "import room_env\n",
    "import random\n",
    "\n",
    "env = gym.make(\"RoomEnv-v1\")\n",
    "observation, info = env.reset()\n",
    "rewards = 0\n",
    "\n",
    "while True:\n",
    "    # There is one different thing in the RoomEnv from the original AAAI-2023 paper:\n",
    "    # The reward is either +1 or -1, instead of +1 or 0.\n",
    "    observation, reward, done, truncated, info = env.step(random.randint(0, 2))\n",
    "    rewards += reward\n",
    "    if done:\n",
    "        break\n",
    "\n",
    "print(rewards)"
   ]
  },
  {
   "cell_type": "code",
   "execution_count": null,
   "metadata": {},
   "outputs": [],
   "source": [
    "import logging\n",
    "\n",
    "logger = logging.getLogger()\n",
    "logger.disabled = True\n",
    "\n",
    "from pprint import pprint\n",
    "from room_env.utils import get_handcrafted\n",
    "\n",
    "\n",
    "results = get_handcrafted(\n",
    "    env=\"RoomEnv-v1\",\n",
    "    des_size=\"l\",\n",
    "    seeds=[0, 1, 2, 3, 4, 5, 6, 7, 8, 9],\n",
    "    question_prob=1.0,\n",
    "    policies={\n",
    "        \"memory_management\": \"rl\",\n",
    "        \"question_answer\": \"episodic_semantic\",\n",
    "        \"encoding\": \"argmax\",\n",
    "    },\n",
    "    capacities=[2, 4, 8, 16, 32, 64],\n",
    "    allow_random_human=False,\n",
    "    allow_random_question=False,\n",
    "    varying_rewards=False,\n",
    "    check_resources=True,\n",
    ")\n",
    "pprint(results)"
   ]
  },
  {
   "cell_type": "code",
   "execution_count": null,
   "metadata": {},
   "outputs": [],
   "source": [
    "import logging\n",
    "\n",
    "logger = logging.getLogger()\n",
    "logger.disabled = True\n",
    "\n",
    "\n",
    "import gymnasium as gym\n",
    "import room_env\n",
    "\n",
    "for capacity in [2, 4, 8, 16, 32, 64]:\n",
    "    for question_prob in [0.5, 1.0]:\n",
    "        for pretrain_semantic in [False, True]:\n",
    "            env = gym.make(\n",
    "                \"RoomEnv-v1\",\n",
    "                capacity={\n",
    "                    \"episodic\": capacity // 2,\n",
    "                    \"semantic\": capacity // 2,\n",
    "                    \"short\": 1,\n",
    "                },\n",
    "                question_prob=question_prob,\n",
    "                pretrain_semantic=pretrain_semantic,\n",
    "            )\n",
    "            observation, info = env.reset()\n",
    "            while True:\n",
    "                observation, reward, done, truncated, info = env.step(0)\n",
    "                if done:\n",
    "                    break"
   ]
  }
 ],
 "metadata": {
  "interpreter": {
   "hash": "c7c14ce45c674ffbe7e3a8bc18299264a1035542c780d18c0e8f0c585e044f28"
  },
  "kernelspec": {
   "display_name": "Python 3.8.12 ('dev-python3.8')",
   "language": "python",
   "name": "python3"
  },
  "language_info": {
   "codemirror_mode": {
    "name": "ipython",
    "version": 3
   },
   "file_extension": ".py",
   "mimetype": "text/x-python",
   "name": "python",
   "nbconvert_exporter": "python",
   "pygments_lexer": "ipython3",
   "version": "3.9.16"
  },
  "orig_nbformat": 4
 },
 "nbformat": 4,
 "nbformat_minor": 2
}
