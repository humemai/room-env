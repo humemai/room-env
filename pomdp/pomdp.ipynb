{
 "cells": [
  {
   "cell_type": "code",
   "execution_count": 59,
   "metadata": {},
   "outputs": [],
   "source": [
    "import random\n",
    "\n",
    "\n",
    "class Object:\n",
    "    def __init__(\n",
    "        self, name: str, type: str, loc_probs: dict, dependent_probs: dict = None\n",
    "    ) -> None:\n",
    "        \"\"\"Entity, e.g. human, object, room.\n",
    "\n",
    "        Args\n",
    "        ----\n",
    "        name: e.g., Tae, laptop, bed\n",
    "        type: e.g., static, independent, dependent\n",
    "        loc_probs: e.g., {\"bedroom\": 0.5, \"living_room\": 0.5}\n",
    "        dependent_probs: This only applies to dependent objects.\n",
    "\n",
    "        \"\"\"\n",
    "        self.name = name\n",
    "        self.type = type\n",
    "        assert self.type in [\"static\", \"independent\", \"dependent\", \"agent\"]\n",
    "        self.loc_probs = loc_probs\n",
    "        self.loc = random.choices(\n",
    "            list(self.loc_probs.keys()),\n",
    "            weights=list(self.loc_probs.values()),\n",
    "            k=1,\n",
    "        )[0]\n",
    "        self.dependent_probs = dependent_probs\n",
    "\n",
    "    def __repr__(self) -> str:\n",
    "        return f\"Entity(name: {self.name}, type: {self.type}, location: {self.loc})\"\n",
    "\n",
    "    def change_location(self, loc: str) -> None:\n",
    "        self.loc = loc\n"
   ]
  },
  {
   "cell_type": "code",
   "execution_count": 77,
   "metadata": {},
   "outputs": [
    {
     "name": "stdout",
     "output_type": "stream",
     "text": [
      "observation: [('table', 'AtLocation', 'livingroom', 0), ('laptop', 'AtLocation', 'livingroom', 0), ('phone', 'AtLocation', 'livingroom', 0), ('agent', 'AtLocation', 'livingroom', 0)]\n",
      "\n",
      "question: ('bed', 'AtLocation', 'bedroom')\n"
     ]
    }
   ],
   "source": [
    "import random\n",
    "from pprint import pprint\n",
    "\n",
    "\n",
    "class Pomdp:\n",
    "    def __init__(\n",
    "        self, rooms: list = [\"bedroom\", \"officeroom\", \"livingroom\"], seed: int = 42\n",
    "    ) -> None:\n",
    "        random.seed(seed)\n",
    "        self.rooms = rooms\n",
    "\n",
    "    def reset(self):\n",
    "        self.objects = []\n",
    "\n",
    "        # add static objects\n",
    "        self.objects.append(\n",
    "            Object(\n",
    "                \"bed\",\n",
    "                \"static\",\n",
    "                {\"officeroom\": 0, \"livingroom\": 0, \"bedroom\": 1},\n",
    "            )\n",
    "        )\n",
    "        self.objects.append(\n",
    "            Object(\n",
    "                \"desk\",\n",
    "                \"static\",\n",
    "                {\"officeroom\": 1, \"livingroom\": 0, \"bedroom\": 0},\n",
    "            )\n",
    "        )\n",
    "        self.objects.append(\n",
    "            Object(\n",
    "                \"table\",\n",
    "                \"static\",\n",
    "                {\"officeroom\": 0, \"livingroom\": 1, \"bedroom\": 0},\n",
    "            )\n",
    "        )\n",
    "\n",
    "        # add independent objects\n",
    "        self.objects.append(\n",
    "            Object(\n",
    "                \"Tae\",\n",
    "                \"independent\",\n",
    "                {\"officeroom\": 0.5, \"livingroom\": 0.5, \"bedroom\": 0},\n",
    "            )\n",
    "        )\n",
    "        self.objects.append(\n",
    "            Object(\n",
    "                \"Michael\",\n",
    "                \"independent\",\n",
    "                {\"officeroom\": 0, \"livingroom\": 0.5, \"bedroom\": 0.5},\n",
    "            )\n",
    "        )\n",
    "        self.objects.append(\n",
    "            Object(\n",
    "                \"Vincent\",\n",
    "                \"independent\",\n",
    "                {\"officeroom\": 0.5, \"livingroom\": 0, \"bedroom\": 0.5},\n",
    "            )\n",
    "        )\n",
    "\n",
    "        # add dependent objects\n",
    "        self.objects.append(\n",
    "            Object(\n",
    "                \"laptop\",\n",
    "                \"dependent\",\n",
    "                {\"officeroom\": 0.5, \"livingroom\": 0.5, \"bedroom\": 0},\n",
    "                {\"Tae\": 0.7, \"Michael\": 0.1, \"Vincent\": 0.3},\n",
    "            )\n",
    "        )\n",
    "        self.objects.append(\n",
    "            Object(\n",
    "                \"phone\",\n",
    "                \"dependent\",\n",
    "                {\"officeroom\": 0, \"livingroom\": 0.5, \"bedroom\": 0.5},\n",
    "                {\"Tae\": 0.3, \"Michael\": 0.1, \"Vincent\": 0.7},\n",
    "            )\n",
    "        )\n",
    "\n",
    "        # add agent\n",
    "        self.objects.append(\n",
    "            Object(\n",
    "                \"agent\",\n",
    "                \"agent\",\n",
    "                {\"officeroom\": 0.333, \"livingroom\": 0.333, \"bedroom\": 0.333},\n",
    "            )\n",
    "        )\n",
    "\n",
    "        # get basic info\n",
    "        self.num_rooms = len(self.rooms)\n",
    "\n",
    "        self.num_static_objects = sum(\n",
    "            [1 for obj in self.objects if obj.type == \"static\"]\n",
    "        )\n",
    "        self.num_independent_objects = sum(\n",
    "            [1 for obj in self.objects if obj.type == \"independent\"]\n",
    "        )\n",
    "        self.num_dependent_objects = sum(\n",
    "            [1 for obj in self.objects if obj.type == \"dependent\"]\n",
    "        )\n",
    "\n",
    "        self.num_hidden_states = self.num_rooms ** (\n",
    "            self.num_independent_objects + self.num_dependent_objects + 1\n",
    "        )\n",
    "        self.num_observations = (\n",
    "            2 ** (self.num_independent_objects + self.num_dependent_objects)\n",
    "            * self.num_rooms\n",
    "        )\n",
    "        self.time = 0\n",
    "\n",
    "        return self._get_observation()\n",
    "\n",
    "    def _compute_hidden_state(self):\n",
    "        if self.time == 0:\n",
    "            self.hidden_state_room_perspective = {room: [] for room in self.rooms}\n",
    "            for obj in self.objects:\n",
    "                self.hidden_state_room_perspective[obj.loc].append(obj)\n",
    "\n",
    "            self.hidden_state_kg_perspective = [\n",
    "                (obj.name, \"AtLocation\", obj.loc)\n",
    "                for room, objects in self.hidden_state_room_perspective.items()\n",
    "                for obj in objects\n",
    "            ]\n",
    "        else:\n",
    "            for room, objects in self.hidden_state_room_perspective.items():\n",
    "                independent_objects = [\n",
    "                    obj for obj in objects if obj.type == \"independent\"\n",
    "                ]\n",
    "                dependent_objects = [obj for obj in objects if obj.type == \"dependent\"]\n",
    "\n",
    "                for do in dependent_objects:\n",
    "                    matches =[]\n",
    "                    for io in independent_objects:\n",
    "                        if io.name in list(do.dependent_probs.keys()):\n",
    "                            matches.append(io)\n",
    "\n",
    "\n",
    "                \n",
    "                for obj in objects:\n",
    "                    if obj.type == \"static\":\n",
    "                        continue\n",
    "\n",
    "                    if obj.type == \"independent\":\n",
    "                        obj.change_location(\n",
    "                            random.choices(\n",
    "                                list(obj.loc_probs.keys()),\n",
    "                                weights=list(obj.loc_probs.values()),\n",
    "                                k=1,\n",
    "                            )[0]\n",
    "                        )\n",
    "                    elif obj.type == \"dependent\":\n",
    "                        if (\n",
    "                            random.random()\n",
    "                            < obj.dependent_probs[\n",
    "                                self.hidden_state_room_perspective[obj.loc][0].name\n",
    "                            ]\n",
    "                        ):\n",
    "                            obj.change_location(\n",
    "                                random.choices(\n",
    "                                    list(obj.loc_probs.keys()),\n",
    "                                    weights=list(obj.loc_probs.values()),\n",
    "                                    k=1,\n",
    "                                )[0]\n",
    "                            )\n",
    "\n",
    "    def _get_observation(self):\n",
    "        self._compute_hidden_state()\n",
    "        for obj in self.objects:\n",
    "            if obj.name == \"agent\":\n",
    "                self.agent_location = obj.loc\n",
    "\n",
    "        self.sub_graph_room_perspective = [\n",
    "            obj for obj in self.objects if obj.loc == self.agent_location\n",
    "        ]\n",
    "        self.sub_graph_kg_perspective = [\n",
    "            (obj.name, \"AtLocation\", obj.loc, self.time)\n",
    "            for obj in self.sub_graph_room_perspective\n",
    "        ]\n",
    "        self.question = random.choice(self.hidden_state_kg_perspective)\n",
    "\n",
    "        return self.sub_graph_kg_perspective, self.question\n",
    "\n",
    "    def step(self):\n",
    "        self.time += 1\n",
    "        self._get_observation()\n",
    "\n",
    "\n",
    "pomdp = Pomdp(seed=42)\n",
    "observation, question = pomdp.reset()\n",
    "print(f\"observation: {observation}\")\n",
    "print()\n",
    "print(f\"question: {question}\")\n",
    "\n",
    "# pprint(f\"objects: {pomdp.objects}\")\n",
    "# print()\n",
    "# pprint(f\"hidden_state_room_perspective: {pomdp.hidden_state_room_perspective}\")\n",
    "# print()\n",
    "# pprint(f\"hidden_state_kg_perspective: {pomdp.hidden_state_kg_perspective}\")\n",
    "# print()\n",
    "# pprint(f\"sub_graph_room_perspective: {pomdp.sub_graph_room_perspective}\")\n",
    "# print()\n",
    "# pprint(f\"sub_graph_kg_perspective: {pomdp.sub_graph_kg_perspective}\")\n",
    "# print()\n",
    "# pprint(f\"question: {pomdp.question}\\n\")\n",
    "# print()\n"
   ]
  },
  {
   "cell_type": "code",
   "execution_count": 78,
   "metadata": {},
   "outputs": [
    {
     "data": {
      "text/plain": [
       "{'bedroom': [Entity(name: bed, type: static, location: bedroom),\n",
       "  Entity(name: Michael, type: independent, location: bedroom),\n",
       "  Entity(name: Vincent, type: independent, location: bedroom)],\n",
       " 'officeroom': [Entity(name: desk, type: static, location: officeroom),\n",
       "  Entity(name: laptop, type: dependent, location: officeroom),\n",
       "  Entity(name: agent, type: agent, location: officeroom)],\n",
       " 'livingroom': [Entity(name: table, type: static, location: livingroom),\n",
       "  Entity(name: Tae, type: independent, location: livingroom),\n",
       "  Entity(name: phone, type: dependent, location: livingroom)]}"
      ]
     },
     "execution_count": 78,
     "metadata": {},
     "output_type": "execute_result"
    }
   ],
   "source": [
    "observation, question = pomdp.reset()\n",
    "pomdp.hidden_state_room_perspective"
   ]
  },
  {
   "cell_type": "code",
   "execution_count": null,
   "metadata": {},
   "outputs": [],
   "source": []
  },
  {
   "cell_type": "code",
   "execution_count": 62,
   "metadata": {},
   "outputs": [],
   "source": [
    "pomdp.objects[0].change_location(\"livingroom\")"
   ]
  },
  {
   "cell_type": "code",
   "execution_count": 63,
   "metadata": {},
   "outputs": [
    {
     "data": {
      "text/plain": [
       "Entity(name: bed, type: static, location: livingroom)"
      ]
     },
     "execution_count": 63,
     "metadata": {},
     "output_type": "execute_result"
    }
   ],
   "source": [
    "pomdp.objects[0]"
   ]
  },
  {
   "cell_type": "code",
   "execution_count": 64,
   "metadata": {},
   "outputs": [],
   "source": [
    "pomdp.objects[0].change_location(\"officeroom\")"
   ]
  },
  {
   "cell_type": "code",
   "execution_count": 65,
   "metadata": {},
   "outputs": [
    {
     "data": {
      "text/plain": [
       "Entity(name: bed, type: static, location: officeroom)"
      ]
     },
     "execution_count": 65,
     "metadata": {},
     "output_type": "execute_result"
    }
   ],
   "source": [
    "pomdp.objects[0]"
   ]
  },
  {
   "cell_type": "code",
   "execution_count": 2,
   "metadata": {},
   "outputs": [
    {
     "data": {
      "text/plain": [
       "0"
      ]
     },
     "execution_count": 2,
     "metadata": {},
     "output_type": "execute_result"
    }
   ],
   "source": [
    "pomdp.time\n"
   ]
  },
  {
   "cell_type": "code",
   "execution_count": 50,
   "metadata": {},
   "outputs": [
    {
     "data": {
      "text/plain": [
       "<__main__.Entity at 0x7fbd1ee355b0>"
      ]
     },
     "execution_count": 50,
     "metadata": {},
     "output_type": "execute_result"
    }
   ],
   "source": [
    "pomdp.entities[0]\n"
   ]
  },
  {
   "cell_type": "code",
   "execution_count": 4,
   "metadata": {},
   "outputs": [
    {
     "ename": "TypeError",
     "evalue": "sample() missing 1 required positional argument: 'k'",
     "output_type": "error",
     "traceback": [
      "\u001b[0;31m---------------------------------------------------------------------------\u001b[0m",
      "\u001b[0;31mTypeError\u001b[0m                                 Traceback (most recent call last)",
      "Cell \u001b[0;32mIn[4], line 2\u001b[0m\n\u001b[1;32m      1\u001b[0m baz \u001b[39m=\u001b[39m {\u001b[39m\"\u001b[39m\u001b[39mfoo\u001b[39m\u001b[39m\"\u001b[39m: \u001b[39m0.2\u001b[39m, \u001b[39m\"\u001b[39m\u001b[39mbar\u001b[39m\u001b[39m\"\u001b[39m: \u001b[39m0.8\u001b[39m}\n\u001b[0;32m----> 2\u001b[0m random\u001b[39m.\u001b[39;49msample(baz)\n",
      "\u001b[0;31mTypeError\u001b[0m: sample() missing 1 required positional argument: 'k'"
     ]
    }
   ],
   "source": [
    "baz = {\"foo\": 0.2, \"bar\": 0.8}\n",
    "random.sample(baz)\n"
   ]
  },
  {
   "cell_type": "code",
   "execution_count": 11,
   "metadata": {},
   "outputs": [
    {
     "name": "stdout",
     "output_type": "stream",
     "text": [
      "\u001b[0;31mSignature:\u001b[0m \u001b[0mrandom\u001b[0m\u001b[0;34m.\u001b[0m\u001b[0mchoice\u001b[0m\u001b[0;34m(\u001b[0m\u001b[0mseq\u001b[0m\u001b[0;34m)\u001b[0m\u001b[0;34m\u001b[0m\u001b[0;34m\u001b[0m\u001b[0m\n",
      "\u001b[0;31mDocstring:\u001b[0m Choose a random element from a non-empty sequence.\n",
      "\u001b[0;31mFile:\u001b[0m      /usr/lib/python3.9/random.py\n",
      "\u001b[0;31mType:\u001b[0m      method"
     ]
    }
   ],
   "source": [
    "random.choice?"
   ]
  },
  {
   "cell_type": "code",
   "execution_count": 21,
   "metadata": {},
   "outputs": [
    {
     "data": {
      "text/plain": [
       "'bar'"
      ]
     },
     "execution_count": 21,
     "metadata": {},
     "output_type": "execute_result"
    }
   ],
   "source": [
    "random.choices(list(baz.keys()), weights=list(baz.values()), k=1)[0]\n"
   ]
  },
  {
   "cell_type": "code",
   "execution_count": null,
   "metadata": {},
   "outputs": [],
   "source": [
    "import random\n",
    "\n",
    "\n",
    "class Pomdp:\n",
    "    def __init__(\n",
    "        self,\n",
    "        humans: dict,\n",
    "        entities: dict,\n",
    "        world_knowledge: list,\n",
    "        init_loc_probs: list,\n",
    "        seed: int = 42,\n",
    "    ) -> None:\n",
    "        \"\"\"POMDP\"\"\"\n",
    "        self.seed = seed\n",
    "        random.seed(self.seed)\n",
    "        self.humans = humans\n",
    "        self.objects = entities\n",
    "        self.world_knowledge = world_knowledge\n",
    "\n",
    "        self.static_objects = [\n",
    "            entity\n",
    "            for entity, characteristic in entities.items()\n",
    "            if characteristic[\"type\"] == \"static_object\"\n",
    "        ]\n",
    "        self.non_static_objects = [\n",
    "            entity\n",
    "            for entity, characteristic in entities.items()\n",
    "            if characteristic[\"type\"] == \"non_static_object\"\n",
    "        ]\n",
    "        self.rooms = [\n",
    "            entity\n",
    "            for entity, characteristic in entities.items()\n",
    "            if characteristic[\"type\"] == \"room\"\n",
    "        ]\n",
    "\n",
    "        self.objects = self.static_objects + self.non_static_objects\n",
    "        self.world_knowledge = world_knowledge\n",
    "        self.init_loc_probs = init_loc_probs\n",
    "\n",
    "        self.num_humans = len(self.humans)  # number of humans\n",
    "        self.num_static_objects = len(self.static_objects)  # number of static objects\n",
    "        self.num_non_static_objects = len(\n",
    "            self.non_static_objects\n",
    "        )  # number of static objects\n",
    "        self.num_rooms = len(self.rooms)  # number of rooms\n",
    "\n",
    "        self.num_hidden_states = self.num_rooms ** (\n",
    "            self.num_humans + self.num_non_static_objects + 1\n",
    "        )\n",
    "        self.num_observations = (\n",
    "            2 ** (self.num_humans + self.num_non_static_objects) * self.num_rooms\n",
    "        )\n",
    "        self._init_environment()\n",
    "\n",
    "    def _init_environment(self) -> None:\n",
    "        \"\"\"Populate the rooms with objects and humans at uniformly random.\"\"\"\n",
    "        self.env = {\n",
    "            \"bedroom\": {\"static_objects\": []},\n",
    "            \"non_static_objects\": [],\n",
    "            \"humans\": [],\n",
    "        }\n",
    "        self.env[\"bedroom\"] = {\"static_object\": [\"bed\"]}\n",
    "        self.env[\"officeroom\"] = {\"static_object\": [\"desk\"]}\n",
    "        self.env[\"livingroom\"] = {\"static_object\": [\"table\"]}\n",
    "\n",
    "        for human in self.humans:\n",
    "            room = random.choice([\"bedroom\", \"officeroom\", \"livingroom\"])\n",
    "            self.env[room].append(human)\n",
    "\n",
    "        for obj in self.non_static_objects:\n",
    "            room = random.choice([\"bedroom\", \"officeroom\", \"livingroom\"])\n",
    "            self.env[room].append(obj)\n",
    "\n",
    "        room = random.choice([\"bedroom\", \"officeroom\", \"livingroom\"])\n",
    "        self.env[room].append(\"agent\")\n",
    "\n",
    "    def step(self, action: int) -> tuple:\n",
    "        \"\"\"Take a step in the environment.\"\"\"\n",
    "        self.env[\"agent\"] = (\"AtLocation\", self.rooms[action])\n",
    "\n",
    "\n",
    "config = {\n",
    "    \"seed\": 42,\n",
    "    \"humans\": {\n",
    "        \"Tae\": {\n",
    "            \"room\": {\"bedroom\": 0.7, \"officeroom\": 0.1, \"livingroom\": 0.2},\n",
    "            \"object\": {\n",
    "                \"laptop\": 0.3,\n",
    "                \"phone\": 0.3,\n",
    "            },\n",
    "        },\n",
    "        \"Michael\": {\n",
    "            \"room\": {\"bedroom\": 0.2, \"officeroom\": 0.7, \"livingroom\": 0.1},\n",
    "            \"object\": {\n",
    "                \"laptop\": 0.9,\n",
    "            },\n",
    "        },\n",
    "        \"Vincent\": {\n",
    "            \"room\": {\"bedroom\": 0.1, \"officeroom\": 0.2, \"livingroom\": 0.7},\n",
    "            \"object\": {\n",
    "                \"phone\": 0.8,\n",
    "            },\n",
    "        },\n",
    "    },\n",
    "    \"entities\": {\n",
    "        \"bedroom\": {\"type\": \"room\"},\n",
    "        \"officeroom\": {\"type\": \"room\"},\n",
    "        \"livingroom\": {\"type\": \"room\"},\n",
    "        \"bed\": {\"type\": \"static_object\"},\n",
    "        \"desk\": {\"type\": \"static_object\"},\n",
    "        \"table\": {\"type\": \"static_object\"},\n",
    "        \"laptop\": {\"type\": \"non_static_object\"},\n",
    "        \"phone\": {\"type\": \"non_static_object\"},\n",
    "        \"Tae\": {\"type\": \"human\"},\n",
    "        \"Michael\": {\"type\": \"human\"},\n",
    "        \"Vincent\": {\"type\": \"human\"},\n",
    "        \"agent\": {\"type\": \"agent\"},\n",
    "    },\n",
    "    \"world_knowledge\": [\n",
    "        (\"static_object\", \"PartOf\", \"room\"),\n",
    "        (\"non_static_object\", \"AtLocation\", \"static_object\"),\n",
    "        (\"human\", \"AtLocation\", \"room\"),\n",
    "        (\"agent\", \"AtLocation\", \"room\"),\n",
    "        (\"human\", \"Owns\", \"non_static_object\"),\n",
    "    ],\n",
    "    \"init_loc_probs\": [\n",
    "        {\"bed\": [(\"PartOf\", \"bedroom\", 1.0)]},\n",
    "        {\"desk\": [(\"PartOf\", \"officeroom\", 1.0)]},\n",
    "        {\"bed\": [(\"PartOf\", \"livingroom\", 1.0)]},\n",
    "        {\"laptop\": [(\"AtLocation\", \"desk\", 0.7), (\"AtLocation\", \"bed\", 0.3)]},\n",
    "        {\"phone\": [(\"AtLocation\", \"table\", 0.7), (\"AtLocation\", \"bed\", 0.3)]},\n",
    "        {\n",
    "            \"Tae\": [\n",
    "                (\"AtLocation\", \"bedroom\", 0.7),\n",
    "                (\"AtLocation\", \"officeroom\", 0.1),\n",
    "                (\"AtLocation\", \"livingroom\", 0.2),\n",
    "            ]\n",
    "        },\n",
    "        {\n",
    "            \"Michael\": [\n",
    "                (\"AtLocation\", \"bedroom\", 0.2),\n",
    "                (\"AtLocation\", \"officeroom\", 0.7),\n",
    "                (\"AtLocation\", \"livingroom\", 0.1),\n",
    "            ]\n",
    "        },\n",
    "        {\n",
    "            \"Vincent\": [\n",
    "                (\"AtLocation\", \"bedroom\", 0.1),\n",
    "                (\"AtLocation\", \"officeroom\", 0.2),\n",
    "                (\"AtLocation\", \"livingroom\", 0.7),\n",
    "            ]\n",
    "        },\n",
    "        {\n",
    "            \"agent\": [\n",
    "                (\"AtLocation\", \"bedroom\", 0.333),\n",
    "                (\"AtLocation\", \"officeroom\", 0.333),\n",
    "                (\"AtLocation\", \"livingroom\", 0.333),\n",
    "            ]\n",
    "        },\n",
    "    ],\n",
    "}\n",
    "\n",
    "pomdp = Pomdp(**config)\n",
    "pomdp.humans, pomdp.objects, pomdp.rooms\n"
   ]
  },
  {
   "cell_type": "code",
   "execution_count": null,
   "metadata": {},
   "outputs": [],
   "source": [
    "class Entity:\n",
    "    def __init__(self, name: str, kind: str) -> None:\n",
    "        \"\"\"Entity\"\"\"\n",
    "        self.name = name\n",
    "        self.kind\n"
   ]
  },
  {
   "cell_type": "code",
   "execution_count": null,
   "metadata": {},
   "outputs": [],
   "source": [
    "pomdp.env\n"
   ]
  },
  {
   "cell_type": "code",
   "execution_count": null,
   "metadata": {},
   "outputs": [],
   "source": [
    "pomdp.step(1)\n"
   ]
  },
  {
   "cell_type": "code",
   "execution_count": null,
   "metadata": {},
   "outputs": [],
   "source": [
    "pomdp.env\n"
   ]
  },
  {
   "cell_type": "code",
   "execution_count": null,
   "metadata": {},
   "outputs": [],
   "source": [
    "random.choice([\"bedroom\", \"officeroom\", \"livingroom\"])\n"
   ]
  },
  {
   "cell_type": "code",
   "execution_count": null,
   "metadata": {},
   "outputs": [],
   "source": [
    "pomdp.humans.keys(), pomdp.rooms\n"
   ]
  },
  {
   "cell_type": "code",
   "execution_count": null,
   "metadata": {},
   "outputs": [],
   "source": [
    "pomdp.hidden_states\n"
   ]
  },
  {
   "cell_type": "code",
   "execution_count": null,
   "metadata": {},
   "outputs": [],
   "source": [
    "pomdp.num_humans, pomdp.num_static_objects, pomdp.num_non_static_objects, pomdp.num_rooms, pomdp.num_hidden_states, pomdp.num_observations\n"
   ]
  },
  {
   "cell_type": "code",
   "execution_count": null,
   "metadata": {},
   "outputs": [],
   "source": [
    "pomdp.num_observations, pomdp.num_hidden_states\n"
   ]
  },
  {
   "cell_type": "code",
   "execution_count": null,
   "metadata": {},
   "outputs": [],
   "source": []
  },
  {
   "cell_type": "code",
   "execution_count": null,
   "metadata": {},
   "outputs": [],
   "source": []
  },
  {
   "cell_type": "code",
   "execution_count": null,
   "metadata": {},
   "outputs": [],
   "source": [
    "list(config[\"objects\"].keys())\n"
   ]
  },
  {
   "cell_type": "code",
   "execution_count": null,
   "metadata": {},
   "outputs": [],
   "source": [
    "len(config[\"objects\"])\n"
   ]
  },
  {
   "cell_type": "code",
   "execution_count": null,
   "metadata": {},
   "outputs": [],
   "source": [
    "w = np.array(\n",
    "    [\n",
    "        [0, 0.4, 0.8, 0],\n",
    "        [1, 0, 0, 0.7],\n",
    "        [0, 0, 0, 0.3],\n",
    "        [0, 0.6, 0.2, 0],\n",
    "    ]\n",
    ")\n",
    "w_ = np.eye(4)\n",
    "\n",
    "foo = []\n",
    "for i in range(1000):\n",
    "    w_ = w @ w_\n",
    "    print(w_)\n"
   ]
  },
  {
   "cell_type": "code",
   "execution_count": null,
   "metadata": {},
   "outputs": [],
   "source": [
    "import numpy as np\n",
    "\n",
    "alpha = 0.3\n",
    "beta = 0.7\n",
    "\n",
    "w = np.array(\n",
    "    [\n",
    "        [1 - beta, beta, 0, alpha * beta],\n",
    "        [(1 - alpha) * beta, 1 - beta, 0, 0],\n",
    "        [0, 0, 1 - beta, (1 - alpha) * beta],\n",
    "        [alpha * beta, 0, beta, 1 - beta],\n",
    "    ]\n",
    ")\n",
    "w_ = np.eye(4)\n",
    "\n",
    "foo = []\n",
    "for i in range(1000):\n",
    "    w_ = w @ w_\n",
    "    print(w_)\n"
   ]
  },
  {
   "cell_type": "code",
   "execution_count": null,
   "metadata": {},
   "outputs": [],
   "source": [
    "import numpy as np\n",
    "\n",
    "alpha = 0.3\n",
    "beta = 0.7\n",
    "\n",
    "w = np.array(\n",
    "    [\n",
    "        [0.3, 0.7, 0, 0],\n",
    "        [0.2, 0.3, 0, 0],\n",
    "        [0, 0, 0.3, 0.5],\n",
    "        [0.5, 0, 0.7, 0.5],\n",
    "    ]\n",
    ")\n",
    "w_ = np.eye(4)\n",
    "\n",
    "foo = []\n",
    "for i in range(1000):\n",
    "    w_ = w @ w_\n",
    "    print(w_)\n"
   ]
  },
  {
   "cell_type": "code",
   "execution_count": null,
   "metadata": {},
   "outputs": [],
   "source": [
    "w = np.array(\n",
    "    [\n",
    "        [0, 0, 1],\n",
    "        [1, 0, 0],\n",
    "        [0, 1, 0],\n",
    "    ]\n",
    ")\n",
    "w_ = np.eye(3)\n",
    "\n",
    "foo = []\n",
    "for i in range(1000):\n",
    "    w_ = w @ w_\n",
    "    print(w_)\n"
   ]
  },
  {
   "cell_type": "code",
   "execution_count": null,
   "metadata": {},
   "outputs": [],
   "source": [
    "import numpy as np\n",
    "\n",
    "alpha = 0.3\n",
    "beta = 0.7\n",
    "\n",
    "w = np.array(\n",
    "    [\n",
    "        [1 - alpha, alpha * (1 - beta), 0, alpha * beta],\n",
    "        [alpha * (1 - beta), 1 - alpha, 0, 0],\n",
    "        [0, 0, 1 - alpha, alpha * (1 - beta)],\n",
    "        [alpha * beta, 0, alpha * (1 - beta), 1 - alpha],\n",
    "    ]\n",
    ")\n",
    "w_ = np.eye(4)\n",
    "\n",
    "foo = []\n",
    "for i in range(1000):\n",
    "    w_ = w @ w_\n",
    "    print(w_)\n",
    "    foo.append(w_[0, 0])\n"
   ]
  },
  {
   "cell_type": "code",
   "execution_count": null,
   "metadata": {},
   "outputs": [],
   "source": [
    "np.random.randint(0, 10, 5)\n"
   ]
  },
  {
   "cell_type": "code",
   "execution_count": null,
   "metadata": {},
   "outputs": [],
   "source": [
    "import numpy as np\n",
    "\n",
    "\n",
    "w = np.array(\n",
    "    [\n",
    "        [0, 0.2, 0],\n",
    "        [1, 0, 1],\n",
    "        [0, 0.8, 0],\n",
    "    ]\n",
    ")\n",
    "x = np.array([1 / 3, 1 / 3, 1 / 3])\n",
    "\n",
    "for i in range(100):\n",
    "    x = w @ x\n",
    "    print(x)\n",
    "    print()\n"
   ]
  },
  {
   "cell_type": "code",
   "execution_count": null,
   "metadata": {},
   "outputs": [],
   "source": [
    "np.random.randint(0, 10, 5)\n"
   ]
  },
  {
   "cell_type": "code",
   "execution_count": null,
   "metadata": {},
   "outputs": [],
   "source": [
    "import numpy as np\n",
    "\n",
    "w = np.random.randint(0, 10, (5, 5))\n",
    "w = w / w.sum(axis=1)[:, np.newaxis]\n",
    "\n",
    "x = np.random.randint(0, 10, 5)\n",
    "x = x / x.sum()\n",
    "# foo, foo.sum(axis=1)\n",
    "\n",
    "for i in range(100):\n",
    "    x = w @ x\n",
    "    print(x)\n"
   ]
  },
  {
   "cell_type": "code",
   "execution_count": null,
   "metadata": {},
   "outputs": [],
   "source": [
    "x\n"
   ]
  },
  {
   "cell_type": "code",
   "execution_count": null,
   "metadata": {},
   "outputs": [],
   "source": [
    "w\n"
   ]
  },
  {
   "cell_type": "code",
   "execution_count": null,
   "metadata": {},
   "outputs": [],
   "source": [
    "foo.sum(axis=1)[:, np.newaxis]\n"
   ]
  },
  {
   "cell_type": "code",
   "execution_count": null,
   "metadata": {},
   "outputs": [],
   "source": [
    "import numpy as np\n",
    "\n",
    "\n",
    "w = np.array(\n",
    "    [\n",
    "        [3 / 4, 1 / 4, 0, 0, 0],\n",
    "        [3 / 4, 0, 1 / 4, 0, 0],\n",
    "        [3 / 4, 0, 0, 1 / 4, 0],\n",
    "        [3 / 4, 0, 0, 0, 1 / 4],\n",
    "        [1, 0, 0, 0, 0],\n",
    "    ]\n",
    ")\n",
    "w_ = np.eye(5)\n",
    "\n",
    "for i in range(100):\n",
    "    w_ = np.dot(w, w_)\n",
    "    print(w_)\n"
   ]
  },
  {
   "cell_type": "code",
   "execution_count": null,
   "metadata": {},
   "outputs": [],
   "source": [
    "w.shape, x.shape\n"
   ]
  }
 ],
 "metadata": {
  "kernelspec": {
   "display_name": "human-memory",
   "language": "python",
   "name": "python3"
  },
  "language_info": {
   "codemirror_mode": {
    "name": "ipython",
    "version": 3
   },
   "file_extension": ".py",
   "mimetype": "text/x-python",
   "name": "python",
   "nbconvert_exporter": "python",
   "pygments_lexer": "ipython3",
   "version": "3.9.16"
  },
  "orig_nbformat": 4
 },
 "nbformat": 4,
 "nbformat_minor": 2
}
