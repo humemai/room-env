{
 "cells": [
  {
   "cell_type": "code",
   "execution_count": 1,
   "metadata": {},
   "outputs": [
    {
     "name": "stdout",
     "output_type": "stream",
     "text": [
      "101 101 101 100 100\n"
     ]
    },
    {
     "name": "stderr",
     "output_type": "stream",
     "text": [
      "/home/tk/.virtualenvs/human-memory/lib/python3.9/site-packages/gymnasium/envs/registration.py:491: UserWarning: \u001b[33mWARN: The environment creator metadata doesn't include `render_modes`, contains: ['render.modes']\u001b[0m\n",
      "  logger.warn(\n",
      "/home/tk/.virtualenvs/human-memory/lib/python3.9/site-packages/gymnasium/utils/passive_env_checker.py:197: DeprecationWarning: \u001b[33mWARN: Current gymnasium version requires that `Env.reset` can be passed a `seed` instead of using `Env.seed` for resetting the environment random number generator.\u001b[0m\n",
      "  logger.deprecation(\n",
      "/home/tk/.virtualenvs/human-memory/lib/python3.9/site-packages/gymnasium/utils/passive_env_checker.py:210: DeprecationWarning: \u001b[33mWARN: Current gymnasium version requires that `Env.reset` can be passed `options` to allow the environment initialisation to be passed additional information.\u001b[0m\n",
      "  logger.deprecation(\n",
      "/home/tk/.virtualenvs/human-memory/lib/python3.9/site-packages/gymnasium/utils/passive_env_checker.py:156: UserWarning: \u001b[33mWARN: The obs returned by the `reset()` method should be an int or np.int64, actual type: <class 'tuple'>\u001b[0m\n",
      "  logger.warn(f\"{pre} should be an int or np.int64, actual type: {type(obs)}\")\n",
      "/home/tk/.virtualenvs/human-memory/lib/python3.9/site-packages/gymnasium/utils/passive_env_checker.py:188: UserWarning: \u001b[33mWARN: The obs returned by the `reset()` method is not within the observation space.\u001b[0m\n",
      "  logger.warn(f\"{pre} is not within the observation space.\")\n",
      "/home/tk/.virtualenvs/human-memory/lib/python3.9/site-packages/gymnasium/utils/passive_env_checker.py:156: UserWarning: \u001b[33mWARN: The obs returned by the `step()` method should be an int or np.int64, actual type: <class 'tuple'>\u001b[0m\n",
      "  logger.warn(f\"{pre} should be an int or np.int64, actual type: {type(obs)}\")\n",
      "/home/tk/.virtualenvs/human-memory/lib/python3.9/site-packages/gymnasium/utils/passive_env_checker.py:188: UserWarning: \u001b[33mWARN: The obs returned by the `step()` method is not within the observation space.\u001b[0m\n",
      "  logger.warn(f\"{pre} is not within the observation space.\")\n"
     ]
    }
   ],
   "source": [
    "import gymnasium as gym\n",
    "import random\n",
    "\n",
    "env = gym.make(\"room_env:RoomEnv-v2\")\n",
    "(obs, question), info = env.reset()\n",
    "observations = []\n",
    "questions = []\n",
    "infos = []\n",
    "actions = []\n",
    "rewards = []\n",
    "observations.append(obs)\n",
    "questions.append(question)\n",
    "infos.append(info)\n",
    "while True:\n",
    "    action_qa = question[0]\n",
    "    action_explore = random.choice([\"north\", \"east\", \"south\", \"west\", \"stay\"])\n",
    "    (obs, question), reward, done, truncated, info = env.step((\"wall\", action_explore))\n",
    "\n",
    "    observations.append(obs)\n",
    "    questions.append(question)\n",
    "    infos.append(info)\n",
    "    actions.append((action_qa, action_explore))\n",
    "    rewards.append(reward)\n",
    "    if done:\n",
    "        break\n",
    "\n",
    "print(len(observations), len(questions), len(infos), len(actions), len(rewards))"
   ]
  },
  {
   "cell_type": "code",
   "execution_count": 8,
   "metadata": {},
   "outputs": [],
   "source": [
    "import gymnasium as gym\n",
    "import random\n",
    "\n",
    "from room_env.envs.room2 import *\n",
    "\n",
    "room_size = {\n",
    "    \"room_config\": {\n",
    "        \"officeroom\": {\n",
    "            \"north\": \"wall\",\n",
    "            \"east\": \"livingroom\",\n",
    "            \"south\": \"wall\",\n",
    "            \"west\": \"wall\",\n",
    "        },\n",
    "        \"livingroom\": {\n",
    "            \"north\": \"wall\",\n",
    "            \"east\": \"wall\",\n",
    "            \"south\": \"wall\",\n",
    "            \"west\": \"officeroom\",\n",
    "        },\n",
    "    },\n",
    "    \"object_transition_config\": {\n",
    "        \"static\": {\"desk\": None},\n",
    "        \"independent\": {\n",
    "            \"tae\": {\n",
    "                \"officeroom\": {\n",
    "                    \"north\": 0,\n",
    "                    \"east\": 1.0,\n",
    "                    \"south\": 0,\n",
    "                    \"west\": 0,\n",
    "                    \"stay\": 0,\n",
    "                },\n",
    "                \"livingroom\": {\n",
    "                    \"north\": 0,\n",
    "                    \"east\": 0,\n",
    "                    \"south\": 0,\n",
    "                    \"west\": 1.0,\n",
    "                    \"stay\": 0,\n",
    "                },\n",
    "            },\n",
    "        },\n",
    "        \"dependent\": {\n",
    "            \"laptop\": {\"tae\": 1.0},\n",
    "        },\n",
    "        \"agent\": {\"agent\": {\"officeroom\": None, \"livingroom\": None}},\n",
    "    },\n",
    "    \"object_init_config\": {\n",
    "        \"static\": {\n",
    "            \"desk\": {\"officeroom\": 1, \"livingroom\": 0},\n",
    "        },\n",
    "        \"independent\": {\n",
    "            \"tae\": {\"officeroom\": 1.0, \"livingroom\": 0},\n",
    "        },\n",
    "        \"dependent\": {\n",
    "            \"laptop\": {\"officeroom\": 1.0, \"livingroom\": 0},\n",
    "        },\n",
    "        \"agent\": {\"agent\": {\"officeroom\": 1.0, \"livingroom\": 0, \"bedroom\": 0}},\n",
    "    },\n",
    "}\n",
    "config = {\n",
    "    \"question_prob\": 1.0,\n",
    "    \"seed\": random.randint(0, 100000),\n",
    "    \"terminates_at\": 99,\n",
    "    \"room_size\": room_size,\n",
    "}\n",
    "env = gym.make(\"room_env:RoomEnv-v2\", **config)\n",
    "(observations_, question), info = env.reset()"
   ]
  },
  {
   "cell_type": "code",
   "execution_count": 9,
   "metadata": {},
   "outputs": [
    {
     "data": {
      "text/plain": [
       "(['?', 'atlocation', 'officeroom', 0], {})"
      ]
     },
     "execution_count": 9,
     "metadata": {},
     "output_type": "execute_result"
    }
   ],
   "source": [
    "question, info"
   ]
  },
  {
   "cell_type": "code",
   "execution_count": 10,
   "metadata": {},
   "outputs": [
    {
     "data": {
      "text/plain": [
       "(([['agent', 'atlocation', 'livingroom', 1],\n",
       "   ['tae', 'atlocation', 'livingroom', 1],\n",
       "   ['laptop', 'atlocation', 'livingroom', 1],\n",
       "   ['livingroom', 'north', 'wall', 1],\n",
       "   ['livingroom', 'east', 'wall', 1],\n",
       "   ['livingroom', 'south', 'wall', 1],\n",
       "   ['livingroom', 'west', 'officeroom', 1]],\n",
       "  ['?', 'atlocation', 'livingroom', 1]),\n",
       " 1,\n",
       " False,\n",
       " False,\n",
       " {'answers': ['desk', 'tae', 'laptop'], 'timestamp': 0})"
      ]
     },
     "execution_count": 10,
     "metadata": {},
     "output_type": "execute_result"
    }
   ],
   "source": [
    "env.step((\"desk\", \"east\"))"
   ]
  },
  {
   "cell_type": "code",
   "execution_count": 11,
   "metadata": {},
   "outputs": [
    {
     "data": {
      "text/plain": [
       "(([['agent', 'atlocation', 'officeroom', 2],\n",
       "   ['desk', 'atlocation', 'officeroom', 2],\n",
       "   ['tae', 'atlocation', 'officeroom', 2],\n",
       "   ['laptop', 'atlocation', 'officeroom', 2],\n",
       "   ['officeroom', 'north', 'wall', 2],\n",
       "   ['officeroom', 'east', 'livingroom', 2],\n",
       "   ['officeroom', 'south', 'wall', 2],\n",
       "   ['officeroom', 'west', 'wall', 2]],\n",
       "  ['desk', 'atlocation', '?', 2]),\n",
       " 1,\n",
       " False,\n",
       " False,\n",
       " {'answers': ['tae', 'laptop'], 'timestamp': 1})"
      ]
     },
     "execution_count": 11,
     "metadata": {},
     "output_type": "execute_result"
    }
   ],
   "source": [
    "env.step((\"tae\", \"west\"))"
   ]
  },
  {
   "cell_type": "code",
   "execution_count": 20,
   "metadata": {},
   "outputs": [
    {
     "data": {
      "text/plain": [
       "True"
      ]
     },
     "execution_count": 20,
     "metadata": {},
     "output_type": "execute_result"
    }
   ],
   "source": [
    "{\"answers\": [\"agent\", \"desk\", \"tae\", \"laptop\"], \"timestamp\": 0} == {\n",
    "    \"answers\": [\"agent\", \"desk\", \"tae\", \"laptop\"],\n",
    "    \"timestamp\": 0,\n",
    "}"
   ]
  },
  {
   "cell_type": "code",
   "execution_count": 12,
   "metadata": {},
   "outputs": [
    {
     "data": {
      "text/plain": [
       "([[['agent', 'atlocation', 'officeroom', 0],\n",
       "   ['desk', 'atlocation', 'officeroom', 0],\n",
       "   ['tae', 'atlocation', 'officeroom', 0],\n",
       "   ['laptop', 'atlocation', 'officeroom', 0],\n",
       "   ['officeroom', 'north', 'wall', 0],\n",
       "   ['officeroom', 'east', 'livingroom', 0],\n",
       "   ['officeroom', 'south', 'wall', 0],\n",
       "   ['officeroom', 'west', 'wall', 0]]],\n",
       " ['?', 'atlocation', 'officeroom', 0])"
      ]
     },
     "execution_count": 12,
     "metadata": {},
     "output_type": "execute_result"
    }
   ],
   "source": [
    "observations, question"
   ]
  },
  {
   "cell_type": "code",
   "execution_count": 5,
   "metadata": {},
   "outputs": [
    {
     "data": {
      "text/plain": [
       "([['bedroom', 'north', 'livingroom', 100],\n",
       "  ['bedroom', 'east', 'wall', 100],\n",
       "  ['bedroom', 'south', 'wall', 100],\n",
       "  ['bedroom', 'west', 'wall', 100],\n",
       "  ['bed', 'atlocation', 'bedroom', 100],\n",
       "  ['michael', 'atlocation', 'bedroom', 100],\n",
       "  ['vincent', 'atlocation', 'bedroom', 100],\n",
       "  ['headset', 'atlocation', 'bedroom', 100],\n",
       "  ['agent', 'atlocation', 'bedroom', 100]],\n",
       " ['table', '?', 'livingroom', 100])"
      ]
     },
     "execution_count": 5,
     "metadata": {},
     "output_type": "execute_result"
    }
   ],
   "source": [
    "env.observations, env.question"
   ]
  },
  {
   "cell_type": "code",
   "execution_count": 39,
   "metadata": {},
   "outputs": [
    {
     "data": {
      "text/plain": [
       "({'arg': 'bar'}, {'arg': 'foo'})"
      ]
     },
     "execution_count": 39,
     "metadata": {},
     "output_type": "execute_result"
    }
   ],
   "source": [
    "class Foo:\n",
    "    def __init__(self, arg) -> None:\n",
    "        self.arg = arg\n",
    "\n",
    "    def get_arg(self):\n",
    "        return self.arg\n",
    "\n",
    "\n",
    "foo = Foo({\"arg\": \"foo\"})\n",
    "bar = foo.get_arg()\n",
    "foo.arg = {\"arg\": \"bar\"}\n",
    "\n",
    "foo.arg, bar"
   ]
  },
  {
   "cell_type": "code",
   "execution_count": 26,
   "metadata": {},
   "outputs": [
    {
     "data": {
      "text/plain": [
       "(['foo', 'bar'], {'answers': ['foo', 'bar']})"
      ]
     },
     "execution_count": 26,
     "metadata": {},
     "output_type": "execute_result"
    }
   ],
   "source": [
    "foo = [\"foo\"]\n",
    "bar = {\"answers\": foo}\n",
    "\n",
    "bar[\"answers\"].append(\"bar\")\n",
    "\n",
    "\n",
    "foo, bar"
   ]
  },
  {
   "cell_type": "code",
   "execution_count": null,
   "metadata": {},
   "outputs": [],
   "source": [
    "from room_env.envs.room2 import (\n",
    "    Object,\n",
    "    StaticObject,\n",
    "    IndepdentObject,\n",
    "    DependentObject,\n",
    "    Room,\n",
    "    RoomEnv2,\n",
    ")\n",
    "\n",
    "env = RoomEnv2(**config)\n",
    "(obs, question), info = env.reset()\n",
    "\n",
    "rewards = []\n",
    "while True:\n",
    "    (obs, question), reward, done, info = env.step(\"wall\", \"north\")\n",
    "    print(obs, question, reward, done, info)\n",
    "    rewards.append(reward)\n",
    "    if done:\n",
    "        break"
   ]
  },
  {
   "cell_type": "code",
   "execution_count": null,
   "metadata": {},
   "outputs": [],
   "source": [
    "from room_env.envs.room2 import (\n",
    "    Object,\n",
    "    StaticObject,\n",
    "    IndepdentObject,\n",
    "    DependentObject,\n",
    "    Room,\n",
    "    RoomEnv2,\n",
    ")\n",
    "\n",
    "env = RoomEnv2(**config)\n",
    "(obs, question), info = env.reset()\n",
    "\n",
    "obs, question"
   ]
  },
  {
   "cell_type": "code",
   "execution_count": null,
   "metadata": {},
   "outputs": [],
   "source": [
    "rewards = []\n",
    "while True:\n",
    "    (obs, question), reward, done, info = env.step(\"wall\", \"north\")\n",
    "    print(obs, question, reward, done, info)\n",
    "    rewards.append(reward)\n",
    "    if done:\n",
    "        break"
   ]
  },
  {
   "cell_type": "code",
   "execution_count": null,
   "metadata": {},
   "outputs": [],
   "source": [
    "len(rewards)"
   ]
  },
  {
   "cell_type": "code",
   "execution_count": null,
   "metadata": {},
   "outputs": [],
   "source": [
    "env.question"
   ]
  },
  {
   "cell_type": "code",
   "execution_count": null,
   "metadata": {},
   "outputs": [],
   "source": [
    "env._get_hidden_global_state()"
   ]
  },
  {
   "cell_type": "code",
   "execution_count": null,
   "metadata": {},
   "outputs": [],
   "source": [
    "(obs, question), reward, done, info = env.step(\"wall\", \"north\")\n",
    "(obs, question), reward, done, info"
   ]
  }
 ],
 "metadata": {
  "interpreter": {
   "hash": "c7c14ce45c674ffbe7e3a8bc18299264a1035542c780d18c0e8f0c585e044f28"
  },
  "kernelspec": {
   "display_name": "Python 3.8.12 ('dev-python3.8')",
   "language": "python",
   "name": "python3"
  },
  "language_info": {
   "codemirror_mode": {
    "name": "ipython",
    "version": 3
   },
   "file_extension": ".py",
   "mimetype": "text/x-python",
   "name": "python",
   "nbconvert_exporter": "python",
   "pygments_lexer": "ipython3",
   "version": "3.9.18"
  },
  "orig_nbformat": 4
 },
 "nbformat": 4,
 "nbformat_minor": 2
}
