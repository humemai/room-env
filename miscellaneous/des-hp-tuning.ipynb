{
 "cells": [
  {
   "cell_type": "code",
   "execution_count": null,
   "metadata": {},
   "outputs": [],
   "source": [
    "from tqdm.notebook import tqdm\n",
    "from room_env.utils import get_des_variables, run_all_des_configs, fill_des_resources"
   ]
  },
  {
   "cell_type": "code",
   "execution_count": null,
   "metadata": {},
   "outputs": [],
   "source": [
    "from copy import deepcopy\n",
    "\n",
    "configs_all = []\n",
    "results_all = []\n",
    "for des_size in [\"l\"]:\n",
    "    capacity, num_humans, num_total_objects = get_des_variables(des_size=des_size)\n",
    "    print(\n",
    "        f\"capacity={capacity}, num_humans={num_humans}, num_total_objects={num_total_objects}\"\n",
    "    )\n",
    "    for allow_random_human in [False]:\n",
    "        for allow_random_question in [True]:\n",
    "            for maximum_num_objects_per_human in [1, 2, 3, 4]:\n",
    "                for maximum_num_locations_per_object in [1, 2, 3, 4]:\n",
    "                    for maxiumum_days_period in [4, 8, 16]:\n",
    "                        for commonsense_prob in [0.5]:\n",
    "                            for question_prob in [0.1]:\n",
    "                                configs_all.append(\n",
    "                                    {\n",
    "                                        \"des_size\": des_size,\n",
    "                                        \"capacity\": capacity,\n",
    "                                        \"maximum_num_objects_per_human\": maximum_num_objects_per_human,\n",
    "                                        \"maximum_num_locations_per_object\": maximum_num_locations_per_object,\n",
    "                                        \"maxiumum_days_period\": maxiumum_days_period,\n",
    "                                        \"commonsense_prob\": commonsense_prob,\n",
    "                                        \"num_humans\": num_humans,\n",
    "                                        \"num_total_objects\": num_total_objects,\n",
    "                                        \"seeds\": [0, 1, 2, 3, 4, 5, 6, 7, 8, 9],\n",
    "                                        \"allow_random_human\": allow_random_human,\n",
    "                                        \"allow_random_question\": allow_random_question,\n",
    "                                        \"last_timestep\": 128,\n",
    "                                        \"question_prob\": question_prob,\n",
    "                                        \"version\": \"v1\",\n",
    "                                    }\n",
    "                                )\n",
    "\n",
    "for config in tqdm(configs_all):\n",
    "    results = run_all_des_configs(**config)\n",
    "    results_all.append(deepcopy(results))\n",
    "results_all = [foo for foo in results_all if foo is not None]\n",
    "sorted(results_all, key=lambda x: -x[\"mean_rewards_diff\"])"
   ]
  },
  {
   "cell_type": "code",
   "execution_count": null,
   "metadata": {},
   "outputs": [],
   "source": [
    "{\n",
    "    \"mean_rewards_diff\": 7.866666666666666,\n",
    "    \"mean_rewards_episodic\": -3.2,\n",
    "    \"mean_rewards_semantic\": 2.8,\n",
    "    \"mean_rewards_random\": -1.6,\n",
    "    \"mean_rewards_pre_sem\": 7.2,\n",
    "    \"complexity\": 98304,\n",
    "    \"commonsense_prob\": 0.5,\n",
    "    \"maximum_num_locations_per_object\": 3,\n",
    "    \"maximum_num_objects_per_human\": 4,\n",
    "    \"num_humans\": 64,\n",
    "    \"num_total_objects\": 16,\n",
    "    \"maxiumum_days_period\": 8,\n",
    "    \"allow_random_human\": False,\n",
    "    \"allow_random_question\": True,\n",
    "    \"question_prob\": 0.1,\n",
    "}"
   ]
  },
  {
   "cell_type": "code",
   "execution_count": null,
   "metadata": {},
   "outputs": [],
   "source": [
    "run_all_des_configs(\n",
    "    **{\n",
    "        \"des_size\": des_size,\n",
    "        \"capacity\": capacity,\n",
    "        \"maximum_num_objects_per_human\": 4,\n",
    "        \"maximum_num_locations_per_object\": 3,\n",
    "        \"maxiumum_days_period\": 8,\n",
    "        \"commonsense_prob\": 0.5,\n",
    "        \"num_humans\": 64,\n",
    "        \"num_total_objects\": 16,\n",
    "        \"seeds\": [0, 1, 2, 3, 4, 5, 6, 7, 8, 9],\n",
    "        \"allow_random_human\": False,\n",
    "        \"allow_random_question\": True,\n",
    "        \"last_timestep\": 128,\n",
    "        \"question_prob\": 0.1,\n",
    "        \"version\": \"v1\",\n",
    "    }\n",
    ")\n",
    "fill_des_resources(des_size=des_size, version=\"v1\")"
   ]
  }
 ],
 "metadata": {
  "interpreter": {
   "hash": "c7c14ce45c674ffbe7e3a8bc18299264a1035542c780d18c0e8f0c585e044f28"
  },
  "kernelspec": {
   "display_name": "Python 3.8.12 ('dev-python3.8')",
   "language": "python",
   "name": "python3"
  },
  "language_info": {
   "codemirror_mode": {
    "name": "ipython",
    "version": 3
   },
   "file_extension": ".py",
   "mimetype": "text/x-python",
   "name": "python",
   "nbconvert_exporter": "python",
   "pygments_lexer": "ipython3",
   "version": "3.8.15"
  },
  "orig_nbformat": 4
 },
 "nbformat": 4,
 "nbformat_minor": 2
}
