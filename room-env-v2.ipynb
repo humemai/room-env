{
 "cells": [
  {
   "cell_type": "code",
   "execution_count": 1,
   "metadata": {},
   "outputs": [],
   "source": [
    "room_config = {\n",
    "    \"static_objects\": [\n",
    "        [\"bed\", \"bedroom\"],\n",
    "        [\"desk\", \"officeroom\"],\n",
    "        [\"table\", \"livingroom\"],\n",
    "    ],\n",
    "    \"independent_objects\": [\n",
    "        [\"tae\", {\"officeroom\": 0.5, \"livingroom\": 0.5}],\n",
    "        [\"michael\", {\"bedroom\": 0.5, \"livingroom\": 0.5}],\n",
    "        [\"vincent\", {\"bedroom\": 0.5, \"officeroom\": 0.5}],\n",
    "    ],\n",
    "    \"dependent_objects\": [\n",
    "        [\"laptop\", [[\"tae\", 0.7], [\"michael\", 0.4], [\"vincent\", 0.1]]],\n",
    "        [\"phone\", [[\"tae\", 0.1], [\"michael\", 0.7], [\"vincent\", 0.4]]],\n",
    "        [\"headset\", [[\"tae\", 0.4], [\"michael\", 0.1], [\"vincent\", 0.9]]],\n",
    "    ],\n",
    "    \"agent\": {\"bedroom\": 0.333, \"officeroom\": 0.333, \"livingroom\": 0.333},\n",
    "}\n"
   ]
  },
  {
   "cell_type": "code",
   "execution_count": 2,
   "metadata": {},
   "outputs": [
    {
     "name": "stderr",
     "output_type": "stream",
     "text": [
      "/home/tk/.virtualenvs/human-memory/lib/python3.9/site-packages/tqdm/auto.py:21: TqdmWarning: IProgress not found. Please update jupyter and ipywidgets. See https://ipywidgets.readthedocs.io/en/stable/user_install.html\n",
      "  from .autonotebook import tqdm as notebook_tqdm\n"
     ]
    },
    {
     "data": {
      "text/plain": [
       "[StaticObject(bed, bedroom),\n",
       " StaticObject(desk, officeroom),\n",
       " StaticObject(table, livingroom),\n",
       " IndependentObject(tae, livingroom),\n",
       " IndependentObject(michael, bedroom),\n",
       " IndependentObject(vincent, bedroom),\n",
       " DependentObject(laptop, livingroom, None),\n",
       " DependentObject(phone, bedroom, None),\n",
       " DependentObject(headset, bedroom, None),\n",
       " Agent(agent, bedroom)]"
      ]
     },
     "execution_count": 2,
     "metadata": {},
     "output_type": "execute_result"
    }
   ],
   "source": [
    "from room_env.envs.room2 import RoomEnv2\n",
    "\n",
    "env = RoomEnv2(room_config=room_config)\n",
    "env.objs"
   ]
  },
  {
   "cell_type": "code",
   "execution_count": 3,
   "metadata": {},
   "outputs": [
    {
     "data": {
      "text/plain": [
       "{'livingroom': [StaticObject(table, livingroom),\n",
       "  IndependentObject(tae, livingroom),\n",
       "  DependentObject(laptop, livingroom, None)],\n",
       " 'officeroom': [StaticObject(desk, officeroom)],\n",
       " 'bedroom': [StaticObject(bed, bedroom),\n",
       "  IndependentObject(michael, bedroom),\n",
       "  IndependentObject(vincent, bedroom),\n",
       "  DependentObject(phone, bedroom, None),\n",
       "  DependentObject(headset, bedroom, None),\n",
       "  Agent(agent, bedroom)]}"
      ]
     },
     "execution_count": 3,
     "metadata": {},
     "output_type": "execute_result"
    }
   ],
   "source": [
    "env.rooms"
   ]
  },
  {
   "cell_type": "code",
   "execution_count": 4,
   "metadata": {},
   "outputs": [
    {
     "data": {
      "text/plain": [
       "Discrete(3)"
      ]
     },
     "execution_count": 4,
     "metadata": {},
     "output_type": "execute_result"
    }
   ],
   "source": [
    "env.action_space"
   ]
  },
  {
   "cell_type": "code",
   "execution_count": 8,
   "metadata": {},
   "outputs": [
    {
     "data": {
      "text/plain": [
       "['officeroom', 'livingroom', 'bedroom']"
      ]
     },
     "execution_count": 8,
     "metadata": {},
     "output_type": "execute_result"
    }
   ],
   "source": [
    "list(set([foo.location for foo in env.objs]))"
   ]
  },
  {
   "cell_type": "code",
   "execution_count": 62,
   "metadata": {},
   "outputs": [
    {
     "data": {
      "text/plain": [
       "['bed', 'bedroom']"
      ]
     },
     "execution_count": 62,
     "metadata": {},
     "output_type": "execute_result"
    }
   ],
   "source": [
    "room_config[\"static_objects\"][0]"
   ]
  },
  {
   "cell_type": "code",
   "execution_count": null,
   "metadata": {},
   "outputs": [],
   "source": [
    "env.ob"
   ]
  },
  {
   "cell_type": "code",
   "execution_count": 63,
   "metadata": {},
   "outputs": [
    {
     "data": {
      "text/plain": [
       "['tae', {'officeroom': 0.5, 'livingroom': 0.5}]"
      ]
     },
     "execution_count": 63,
     "metadata": {},
     "output_type": "execute_result"
    }
   ],
   "source": [
    "room_config[\"independent_objects\"][0]"
   ]
  },
  {
   "cell_type": "code",
   "execution_count": 70,
   "metadata": {},
   "outputs": [
    {
     "data": {
      "text/plain": [
       "['laptop', [['tae', 0.7], ['michael', 0.4], ['vincent', 0.1]]]"
      ]
     },
     "execution_count": 70,
     "metadata": {},
     "output_type": "execute_result"
    }
   ],
   "source": [
    "obj = room_config[\"dependent_objects\"][0]\n",
    "obj"
   ]
  },
  {
   "cell_type": "code",
   "execution_count": 73,
   "metadata": {},
   "outputs": [
    {
     "data": {
      "text/plain": [
       "[('tae', 0.7), ('michael', 0.4), ('vincent', 0.1)]"
      ]
     },
     "execution_count": 73,
     "metadata": {},
     "output_type": "execute_result"
    }
   ],
   "source": [
    "[(io, prob) for io, prob in obj[1]]"
   ]
  },
  {
   "cell_type": "code",
   "execution_count": 65,
   "metadata": {},
   "outputs": [
    {
     "data": {
      "text/plain": [
       "{'bedroom': 0.333, 'officeroom': 0.333, 'livingroom': 0.333}"
      ]
     },
     "execution_count": 65,
     "metadata": {},
     "output_type": "execute_result"
    }
   ],
   "source": [
    "room_config[\"agent\"]"
   ]
  },
  {
   "cell_type": "code",
   "execution_count": 1,
   "metadata": {},
   "outputs": [
    {
     "name": "stderr",
     "output_type": "stream",
     "text": [
      "/home/tk/.virtualenvs/human-memory/lib/python3.9/site-packages/tqdm/auto.py:21: TqdmWarning: IProgress not found. Please update jupyter and ipywidgets. See https://ipywidgets.readthedocs.io/en/stable/user_install.html\n",
      "  from .autonotebook import tqdm as notebook_tqdm\n"
     ]
    }
   ],
   "source": [
    "from room_env.envs.room2 import (\n",
    "    Object,\n",
    "    StaticObject,\n",
    "    IndepdentObject,\n",
    "    DependentObject,\n",
    "    Agent,\n",
    ")\n",
    "\n",
    "bed = StaticObject(\"bed\", \"bedroom\")\n",
    "desk = StaticObject(\"desk\", \"officeroom\")\n",
    "table = StaticObject(\"table\", \"livingroom\")\n",
    "\n",
    "# independent objects\n",
    "tae = IndepdentObject(\"tae\", {\"officeroom\": 0.5, \"livingroom\": 0.5})\n",
    "michael = IndepdentObject(\"michael\", {\"bedroom\": 0.5, \"livingroom\": 0.5})\n",
    "vincent = IndepdentObject(\"vincent\", {\"bedroom\": 0.5, \"officeroom\": 0.5})\n",
    "\n",
    "# dependent objects\n",
    "laptop = DependentObject(\"laptop\", [(tae, 0.7), (michael, 0.4), (vincent, 0.1)])\n",
    "phone = DependentObject(\"phone\", [(tae, 0.1), (michael, 0.7), (vincent, 0.4)])\n",
    "headset = DependentObject(\"headset\", [(tae, 0.4), (michael, 0.1), (vincent, 0.9)])\n",
    "\n",
    "# agent\n",
    "agent = Agent({\"bedroom\": 0.333, \"officeroom\": 0.333, \"livingroom\": 0.333})\n"
   ]
  },
  {
   "cell_type": "code",
   "execution_count": 67,
   "metadata": {},
   "outputs": [
    {
     "data": {
      "text/plain": [
       "'michael'"
      ]
     },
     "execution_count": 67,
     "metadata": {},
     "output_type": "execute_result"
    }
   ],
   "source": [
    "michael.name"
   ]
  },
  {
   "cell_type": "code",
   "execution_count": 2,
   "metadata": {},
   "outputs": [
    {
     "data": {
      "text/plain": [
       "(StaticObject(bed, bedroom),\n",
       " StaticObject(desk, officeroom),\n",
       " StaticObject(table, livingroom),\n",
       " IndependentObject(tae, livingroom),\n",
       " IndependentObject(michael, bedroom),\n",
       " IndependentObject(vincent, officeroom),\n",
       " DependentObject(laptop, bedroom, None),\n",
       " DependentObject(phone, bedroom, None),\n",
       " DependentObject(headset, officeroom, None),\n",
       " Agent(agent, livingroom))"
      ]
     },
     "execution_count": 2,
     "metadata": {},
     "output_type": "execute_result"
    }
   ],
   "source": [
    "bed, desk, table, tae, michael, vincent, laptop, phone, headset, agent"
   ]
  },
  {
   "cell_type": "code",
   "execution_count": 26,
   "metadata": {},
   "outputs": [
    {
     "data": {
      "text/plain": [
       "'dependent'"
      ]
     },
     "execution_count": 26,
     "metadata": {},
     "output_type": "execute_result"
    }
   ],
   "source": [
    "laptop.type"
   ]
  },
  {
   "cell_type": "code",
   "execution_count": 3,
   "metadata": {},
   "outputs": [],
   "source": [
    "bed.move()\n",
    "desk.move()\n",
    "table.move()\n",
    "\n",
    "laptop.attach()\n",
    "phone.attach()\n",
    "headset.attach()\n",
    "\n",
    "tae.move()\n",
    "michael.move()\n",
    "vincent.move()\n",
    "\n",
    "laptop.move()\n",
    "phone.move()\n",
    "headset.move()\n",
    "\n",
    "agent.move(\"bedroom\")"
   ]
  },
  {
   "cell_type": "code",
   "execution_count": 4,
   "metadata": {},
   "outputs": [
    {
     "data": {
      "text/plain": [
       "(StaticObject(bed, bedroom),\n",
       " StaticObject(desk, officeroom),\n",
       " StaticObject(table, livingroom),\n",
       " IndependentObject(tae, livingroom),\n",
       " IndependentObject(michael, bedroom),\n",
       " IndependentObject(vincent, bedroom),\n",
       " DependentObject(laptop, bedroom, None),\n",
       " DependentObject(phone, bedroom, None),\n",
       " DependentObject(headset, bedroom, IndependentObject(vincent, bedroom)),\n",
       " Agent(agent, bedroom))"
      ]
     },
     "execution_count": 4,
     "metadata": {},
     "output_type": "execute_result"
    }
   ],
   "source": [
    "bed, desk, table, tae, michael, vincent, laptop, phone, headset, agent"
   ]
  },
  {
   "cell_type": "code",
   "execution_count": 5,
   "metadata": {},
   "outputs": [],
   "source": [
    "bed.move()\n",
    "desk.move()\n",
    "table.move()\n",
    "\n",
    "laptop.attach()\n",
    "phone.attach()\n",
    "headset.attach()\n",
    "\n",
    "tae.move()\n",
    "michael.move()\n",
    "vincent.move()\n",
    "\n",
    "laptop.move()\n",
    "phone.move()\n",
    "headset.move()\n",
    "\n",
    "agent.move(\"officeroom\")"
   ]
  },
  {
   "cell_type": "code",
   "execution_count": 6,
   "metadata": {},
   "outputs": [
    {
     "data": {
      "text/plain": [
       "(StaticObject(bed, bedroom),\n",
       " StaticObject(desk, officeroom),\n",
       " StaticObject(table, livingroom),\n",
       " IndependentObject(tae, officeroom),\n",
       " IndependentObject(michael, livingroom),\n",
       " IndependentObject(vincent, officeroom),\n",
       " DependentObject(laptop, livingroom, IndependentObject(michael, livingroom)),\n",
       " DependentObject(phone, bedroom, None),\n",
       " DependentObject(headset, officeroom, IndependentObject(vincent, officeroom)),\n",
       " Agent(agent, officeroom))"
      ]
     },
     "execution_count": 6,
     "metadata": {},
     "output_type": "execute_result"
    }
   ],
   "source": [
    "bed, desk, table, tae, michael, vincent, laptop, phone, headset, agent"
   ]
  },
  {
   "cell_type": "code",
   "execution_count": 7,
   "metadata": {},
   "outputs": [],
   "source": [
    "bed.move()\n",
    "desk.move()\n",
    "table.move()\n",
    "\n",
    "laptop.attach()\n",
    "phone.attach()\n",
    "headset.attach()\n",
    "\n",
    "tae.move()\n",
    "michael.move()\n",
    "vincent.move()\n",
    "\n",
    "laptop.move()\n",
    "phone.move()\n",
    "headset.move()\n",
    "\n",
    "agent.move(\"livingroom\")"
   ]
  },
  {
   "cell_type": "code",
   "execution_count": 8,
   "metadata": {},
   "outputs": [
    {
     "data": {
      "text/plain": [
       "(StaticObject(bed, bedroom),\n",
       " StaticObject(desk, officeroom),\n",
       " StaticObject(table, livingroom),\n",
       " IndependentObject(tae, livingroom),\n",
       " IndependentObject(michael, livingroom),\n",
       " IndependentObject(vincent, officeroom),\n",
       " DependentObject(laptop, livingroom, IndependentObject(michael, livingroom)),\n",
       " DependentObject(phone, bedroom, None),\n",
       " DependentObject(headset, officeroom, IndependentObject(vincent, officeroom)),\n",
       " Agent(agent, livingroom))"
      ]
     },
     "execution_count": 8,
     "metadata": {},
     "output_type": "execute_result"
    }
   ],
   "source": [
    "bed, desk, table, tae, michael, vincent, laptop, phone, headset, agent"
   ]
  }
 ],
 "metadata": {
  "interpreter": {
   "hash": "c7c14ce45c674ffbe7e3a8bc18299264a1035542c780d18c0e8f0c585e044f28"
  },
  "kernelspec": {
   "display_name": "Python 3.8.12 ('dev-python3.8')",
   "language": "python",
   "name": "python3"
  },
  "language_info": {
   "codemirror_mode": {
    "name": "ipython",
    "version": 3
   },
   "file_extension": ".py",
   "mimetype": "text/x-python",
   "name": "python",
   "nbconvert_exporter": "python",
   "pygments_lexer": "ipython3",
   "version": "3.9.17"
  },
  "orig_nbformat": 4
 },
 "nbformat": 4,
 "nbformat_minor": 2
}
