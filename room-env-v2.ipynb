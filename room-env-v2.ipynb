{
 "cells": [
  {
   "cell_type": "code",
   "execution_count": 1,
   "metadata": {},
   "outputs": [],
   "source": [
    "from room_env.envs.room2 import (\n",
    "    Object,\n",
    "    StaticObject,\n",
    "    IndepdentObject,\n",
    "    DependentObject,\n",
    "    Agent,\n",
    ")\n",
    "\n",
    "bed = StaticObject(\"bed\", \"bedroom\")\n",
    "desk = StaticObject(\"desk\", \"officeroom\")\n",
    "table = StaticObject(\"table\", \"livingroom\")\n",
    "\n",
    "# independent objects\n",
    "tae = IndepdentObject(\"tae\", {\"officeroom\": 0.5, \"livingroom\": 0.5})\n",
    "michael = IndepdentObject(\"michael\", {\"bedroom\": 0.5, \"livingroom\": 0.5})\n",
    "vincent = IndepdentObject(\"vincent\", {\"bedroom\": 0.5, \"officeroom\": 0.5})\n",
    "\n",
    "# dependent objects\n",
    "laptop = DependentObject(\"laptop\", [(tae, 1), (michael, 1), (vincent, 1)])\n",
    "phone = DependentObject(\"phone\", [(tae, 1), (michael, 1), (vincent, 1)])\n",
    "\n",
    "# agent\n",
    "agent = Agent({\"bedroom\": 0.333, \"officeroom\": 0.333, \"livingroom\": 0.333})\n"
   ]
  },
  {
   "cell_type": "code",
   "execution_count": 2,
   "metadata": {},
   "outputs": [
    {
     "data": {
      "text/plain": [
       "(StaticObject(bed, bedroom),\n",
       " StaticObject(desk, officeroom),\n",
       " StaticObject(table, livingroom),\n",
       " IndependentObject(tae, livingroom),\n",
       " IndependentObject(michael, bedroom),\n",
       " IndependentObject(vincent, officeroom),\n",
       " DependentObject(laptop, livingroom, IndependentObject(tae, livingroom)),\n",
       " DependentObject(phone, bedroom, IndependentObject(michael, bedroom)),\n",
       " Agent(agent, bedroom))"
      ]
     },
     "execution_count": 2,
     "metadata": {},
     "output_type": "execute_result"
    }
   ],
   "source": [
    "bed, desk, table, tae, michael, vincent, laptop, phone, agent\n"
   ]
  },
  {
   "cell_type": "code",
   "execution_count": 3,
   "metadata": {},
   "outputs": [],
   "source": [
    "bed.step()\n",
    "desk.step()\n",
    "table.step()\n",
    "tae.step()\n",
    "michael.step()\n",
    "vincent.step()\n",
    "laptop.step()\n",
    "phone.step()\n",
    "agent.step(\"officeroom\")"
   ]
  },
  {
   "cell_type": "code",
   "execution_count": 16,
   "metadata": {},
   "outputs": [
    {
     "data": {
      "text/plain": [
       "(StaticObject(bed, bedroom),\n",
       " StaticObject(desk, officeroom),\n",
       " StaticObject(table, livingroom),\n",
       " IndependentObject(tae, officeroom),\n",
       " IndependentObject(michael, livingroom),\n",
       " IndependentObject(vincent, officeroom),\n",
       " DependentObject(laptop, bedroom, None),\n",
       " DependentObject(phone, bedroom, None),\n",
       " Agent(agent, officeroom))"
      ]
     },
     "execution_count": 16,
     "metadata": {},
     "output_type": "execute_result"
    }
   ],
   "source": [
    "bed, desk, table, tae, michael, vincent, laptop, phone, agent\n"
   ]
  },
  {
   "cell_type": "code",
   "execution_count": 1,
   "metadata": {},
   "outputs": [],
   "source": [
    "from room_env.envs.room2 import (\n",
    "    Object,\n",
    "    StaticObject,\n",
    "    IndepdentObject,\n",
    "    DependentObject,\n",
    "    Agent,\n",
    ")\n",
    "\n",
    "bed = StaticObject(\"bed\", \"bedroom\")\n",
    "desk = StaticObject(\"desk\", \"officeroom\")\n",
    "table = StaticObject(\"table\", \"livingroom\")\n",
    "\n",
    "# independent objects\n",
    "tae = IndepdentObject(\"tae\", {\"officeroom\": 0.5, \"livingroom\": 0.5})\n",
    "michael = IndepdentObject(\"michael\", {\"bedroom\": 0.5, \"livingroom\": 0.5})\n",
    "vincent = IndepdentObject(\"vincent\", {\"bedroom\": 0.5, \"officeroom\": 0.5})\n",
    "\n",
    "# dependent objects\n",
    "laptop = DependentObject(\"laptop\", [(tae, 1), (michael, 1), (vincent, 1)])\n",
    "phone = DependentObject(\"phone\", [(tae, 0.3), (michael, 0.1), (vincent, 0.7)])\n",
    "headset = DependentObject(\"headset\", [(tae, 0.5), (michael, 0.5), (vincent, 0.5)])\n",
    "keyboard = DependentObject(\"keyboard\", [(tae, 0.9), (michael, 0.7), (vincent, 0.5)])\n",
    "\n",
    "# agent\n",
    "agent = Agent({\"bedroom\": 0.333, \"officeroom\": 0.333, \"livingroom\": 0.333})\n"
   ]
  },
  {
   "cell_type": "code",
   "execution_count": 2,
   "metadata": {},
   "outputs": [
    {
     "data": {
      "text/plain": [
       "(StaticObject(bed, bedroom),\n",
       " StaticObject(desk, officeroom),\n",
       " StaticObject(table, livingroom),\n",
       " IndependentObject(tae, livingroom),\n",
       " IndependentObject(michael, livingroom),\n",
       " IndependentObject(vincent, bedroom),\n",
       " DependentObject(laptop, livingroom, IndependentObject(tae, livingroom)),\n",
       " DependentObject(phone, livingroom, IndependentObject(tae, livingroom)),\n",
       " DependentObject(headset, livingroom, IndependentObject(michael, livingroom)),\n",
       " DependentObject(keyboard, livingroom, IndependentObject(tae, livingroom)),\n",
       " Agent(agent, bedroom))"
      ]
     },
     "execution_count": 2,
     "metadata": {},
     "output_type": "execute_result"
    }
   ],
   "source": [
    "bed, desk, table, tae, michael, vincent, laptop, phone, headset, keyboard, agent\n"
   ]
  },
  {
   "cell_type": "code",
   "execution_count": 3,
   "metadata": {},
   "outputs": [],
   "source": [
    "bed.step()\n",
    "desk.step()\n",
    "table.step()\n",
    "tae.step()\n",
    "michael.step()\n",
    "vincent.step()\n",
    "laptop.step()\n",
    "phone.step()\n",
    "headset.step()\n",
    "keyboard.step()\n",
    "agent.step(\"officeroom\")"
   ]
  },
  {
   "cell_type": "code",
   "execution_count": 4,
   "metadata": {},
   "outputs": [
    {
     "data": {
      "text/plain": [
       "(StaticObject(bed, bedroom),\n",
       " StaticObject(desk, officeroom),\n",
       " StaticObject(table, livingroom),\n",
       " IndependentObject(tae, livingroom),\n",
       " IndependentObject(michael, bedroom),\n",
       " IndependentObject(vincent, bedroom),\n",
       " DependentObject(laptop, livingroom, IndependentObject(tae, livingroom)),\n",
       " DependentObject(phone, livingroom, None),\n",
       " DependentObject(headset, livingroom, None),\n",
       " DependentObject(keyboard, livingroom, IndependentObject(tae, livingroom)),\n",
       " Agent(agent, officeroom))"
      ]
     },
     "execution_count": 4,
     "metadata": {},
     "output_type": "execute_result"
    }
   ],
   "source": [
    "bed, desk, table, tae, michael, vincent, laptop, phone, headset, keyboard, agent\n"
   ]
  },
  {
   "cell_type": "code",
   "execution_count": 5,
   "metadata": {},
   "outputs": [],
   "source": [
    "bed.step()\n",
    "desk.step()\n",
    "table.step()\n",
    "tae.step()\n",
    "michael.step()\n",
    "vincent.step()\n",
    "laptop.step()\n",
    "phone.step()\n",
    "headset.step()\n",
    "keyboard.step()\n",
    "agent.step(\"officeroom\")"
   ]
  },
  {
   "cell_type": "code",
   "execution_count": 6,
   "metadata": {},
   "outputs": [
    {
     "data": {
      "text/plain": [
       "(StaticObject(bed, bedroom),\n",
       " StaticObject(desk, officeroom),\n",
       " StaticObject(table, livingroom),\n",
       " IndependentObject(tae, officeroom),\n",
       " IndependentObject(michael, livingroom),\n",
       " IndependentObject(vincent, officeroom),\n",
       " DependentObject(laptop, livingroom, IndependentObject(michael, livingroom)),\n",
       " DependentObject(phone, livingroom, None),\n",
       " DependentObject(headset, livingroom, None),\n",
       " DependentObject(keyboard, livingroom, IndependentObject(michael, livingroom)),\n",
       " Agent(agent, officeroom))"
      ]
     },
     "execution_count": 6,
     "metadata": {},
     "output_type": "execute_result"
    }
   ],
   "source": [
    "bed, desk, table, tae, michael, vincent, laptop, phone, headset, keyboard, agent\n"
   ]
  },
  {
   "cell_type": "code",
   "execution_count": 7,
   "metadata": {},
   "outputs": [],
   "source": [
    "bed.step()\n",
    "desk.step()\n",
    "table.step()\n",
    "tae.step()\n",
    "michael.step()\n",
    "vincent.step()\n",
    "laptop.step()\n",
    "phone.step()\n",
    "headset.step()\n",
    "keyboard.step()\n",
    "agent.step(\"officeroom\")"
   ]
  },
  {
   "cell_type": "code",
   "execution_count": 8,
   "metadata": {},
   "outputs": [
    {
     "data": {
      "text/plain": [
       "(StaticObject(bed, bedroom),\n",
       " StaticObject(desk, officeroom),\n",
       " StaticObject(table, livingroom),\n",
       " IndependentObject(tae, officeroom),\n",
       " IndependentObject(michael, livingroom),\n",
       " IndependentObject(vincent, officeroom),\n",
       " DependentObject(laptop, livingroom, IndependentObject(michael, livingroom)),\n",
       " DependentObject(phone, livingroom, None),\n",
       " DependentObject(headset, livingroom, IndependentObject(michael, livingroom)),\n",
       " DependentObject(keyboard, livingroom, IndependentObject(michael, livingroom)),\n",
       " Agent(agent, officeroom))"
      ]
     },
     "execution_count": 8,
     "metadata": {},
     "output_type": "execute_result"
    }
   ],
   "source": [
    "bed, desk, table, tae, michael, vincent, laptop, phone, headset, keyboard, agent\n"
   ]
  },
  {
   "cell_type": "code",
   "execution_count": 9,
   "metadata": {},
   "outputs": [],
   "source": [
    "bed.step()\n",
    "desk.step()\n",
    "table.step()\n",
    "tae.step()\n",
    "michael.step()\n",
    "vincent.step()\n",
    "laptop.step()\n",
    "phone.step()\n",
    "headset.step()\n",
    "keyboard.step()\n",
    "agent.step(\"officeroom\")"
   ]
  },
  {
   "cell_type": "code",
   "execution_count": 10,
   "metadata": {},
   "outputs": [
    {
     "data": {
      "text/plain": [
       "(StaticObject(bed, bedroom),\n",
       " StaticObject(desk, officeroom),\n",
       " StaticObject(table, livingroom),\n",
       " IndependentObject(tae, officeroom),\n",
       " IndependentObject(michael, bedroom),\n",
       " IndependentObject(vincent, bedroom),\n",
       " DependentObject(laptop, livingroom, None),\n",
       " DependentObject(phone, livingroom, None),\n",
       " DependentObject(headset, livingroom, None),\n",
       " DependentObject(keyboard, livingroom, None),\n",
       " Agent(agent, officeroom))"
      ]
     },
     "execution_count": 10,
     "metadata": {},
     "output_type": "execute_result"
    }
   ],
   "source": [
    "bed, desk, table, tae, michael, vincent, laptop, phone, headset, keyboard, agent\n"
   ]
  }
 ],
 "metadata": {
  "interpreter": {
   "hash": "c7c14ce45c674ffbe7e3a8bc18299264a1035542c780d18c0e8f0c585e044f28"
  },
  "kernelspec": {
   "display_name": "Python 3.8.12 ('dev-python3.8')",
   "language": "python",
   "name": "python3"
  },
  "language_info": {
   "codemirror_mode": {
    "name": "ipython",
    "version": 3
   },
   "file_extension": ".py",
   "mimetype": "text/x-python",
   "name": "python",
   "nbconvert_exporter": "python",
   "pygments_lexer": "ipython3",
   "version": "3.9.16"
  },
  "orig_nbformat": 4
 },
 "nbformat": 4,
 "nbformat_minor": 2
}
