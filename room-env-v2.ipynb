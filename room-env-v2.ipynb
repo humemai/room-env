{
 "cells": [
  {
   "cell_type": "code",
   "execution_count": 223,
   "metadata": {},
   "outputs": [],
   "source": [
    "import json\n",
    "import logging\n",
    "import os\n",
    "import random\n",
    "from copy import deepcopy\n",
    "from typing import Dict, List, Tuple\n",
    "\n",
    "import matplotlib.pyplot as plt\n",
    "import gymnasium as gym\n",
    "import numpy as np\n",
    "from room_env.utils import write_json, read_json\n",
    "\n",
    "\n",
    "def find_connected_nodes(graph):\n",
    "    def dfs(node, row, col):\n",
    "        if (\n",
    "            row < 0\n",
    "            or col < 0\n",
    "            or row >= len(graph)\n",
    "            or col >= len(graph[0])\n",
    "            or graph[row][col] == 0\n",
    "        ):\n",
    "            return\n",
    "\n",
    "        connected_nodes.append((row, col))\n",
    "        graph[row][col] = 0  # Mark the node as visited\n",
    "\n",
    "        # Check the neighbors\n",
    "        dfs(node, row - 1, col)  # Up\n",
    "        dfs(node, row + 1, col)  # Down\n",
    "        dfs(node, row, col - 1)  # Left\n",
    "        dfs(node, row, col + 1)  # Right\n",
    "\n",
    "    connected_components = []\n",
    "    for row in range(len(graph)):\n",
    "        for col in range(len(graph[row])):\n",
    "            if graph[row][col] == 1:\n",
    "                connected_nodes = []\n",
    "                dfs(1, row, col)\n",
    "                if connected_nodes:\n",
    "                    connected_components.append(connected_nodes)\n",
    "\n",
    "    return connected_components\n",
    "\n",
    "\n",
    "class RoomCreator:\n",
    "    def __init__(\n",
    "        self,\n",
    "        grid_length: int,\n",
    "        num_static_objects: int,\n",
    "        num_independent_objects: int,\n",
    "        num_dependent_objects: int,\n",
    "        room_prob: float,\n",
    "        file_path: str,\n",
    "    ) -> None:\n",
    "        \"\"\"Create rooms with objects.\n",
    "\n",
    "        Args\n",
    "        ----\n",
    "        grid_length: grid legnth\n",
    "        num_static_objects: Number of static objects to create.\n",
    "        num_independent_objects: Number of independent objects to create.\n",
    "        num_dependent_objects: Number of dependent objects to create.\n",
    "        room_prob: probability of a cell being a room.\n",
    "        file_path: path to save the room configuration.\n",
    "\n",
    "        \"\"\"\n",
    "        self.grid_length = grid_length\n",
    "        self.num_static_objects = num_static_objects\n",
    "        self.num_independent_objects = num_independent_objects\n",
    "        self.num_dependent_objects = num_dependent_objects\n",
    "        self.room_prob = room_prob\n",
    "        self.file_path = file_path\n",
    "\n",
    "        self._create_grid_world()\n",
    "        self._create_room_config()\n",
    "        self._create_object_init_config()\n",
    "        self._create_object_transition_config()\n",
    "        self._give_fake_names()\n",
    "        write_json(\n",
    "            {\n",
    "                \"room_config\": self.room_config_str,\n",
    "                \"object_transition_config\": self.object_transition_config_str,\n",
    "                \"object_init_config\": self.object_init_config_str,\n",
    "            },\n",
    "            self.file_path,\n",
    "        )\n",
    "\n",
    "    def _create_grid_world(self) -> None:\n",
    "        rows = self.grid_length\n",
    "        cols = self.grid_length\n",
    "        self.grid = [\n",
    "            [1 if random.random() < self.room_prob else 0 for _ in range(cols)]\n",
    "            for _ in range(rows)\n",
    "        ]\n",
    "\n",
    "        self.connected_components = find_connected_nodes(deepcopy(self.grid))\n",
    "        for i, component in enumerate(self.connected_components):\n",
    "            print(f\"Connected Component {i + 1}: {component}\")\n",
    "\n",
    "        self.room_indexes = max(\n",
    "            enumerate(self.connected_components), key=lambda x: len(x[1])\n",
    "        )[1]\n",
    "        self.room_indexes.sort(key=lambda x: x[1])\n",
    "        self.room_indexes.sort(key=lambda x: x[0])\n",
    "        self.grid = [[0 for _ in range(cols)] for _ in range(rows)]\n",
    "        for i in range(rows):\n",
    "            for j in range(cols):\n",
    "                if (i, j) in self.room_indexes:\n",
    "                    self.grid[i][j] = 1\n",
    "\n",
    "        self.num_rooms = len(self.room_indexes)\n",
    "        # self._load_names(\"./room_env/data/names-v2.json\")\n",
    "\n",
    "    def _create_room_config(self) -> None:\n",
    "        \"\"\"Create a room configuration.\"\"\"\n",
    "        self.room_config = {\n",
    "            i: {\"north\": \"wall\", \"east\": \"wall\", \"south\": \"wall\", \"west\": \"wall\"}\n",
    "            for i in range(self.num_rooms)\n",
    "        }\n",
    "        for i, (row_idx, col_idx) in enumerate(self.room_indexes):\n",
    "            north_idx = (row_idx - 1, col_idx)\n",
    "            east_idx = (row_idx, col_idx + 1)\n",
    "            south_idx = (row_idx + 1, col_idx)\n",
    "            west_idx = (row_idx, col_idx - 1)\n",
    "\n",
    "            if north_idx in self.room_indexes:\n",
    "                self.room_config[i][\"north\"] = self.room_indexes.index(north_idx)\n",
    "            if east_idx in self.room_indexes:\n",
    "                self.room_config[i][\"east\"] = self.room_indexes.index(east_idx)\n",
    "            if south_idx in self.room_indexes:\n",
    "                self.room_config[i][\"south\"] = self.room_indexes.index(south_idx)\n",
    "            if west_idx in self.room_indexes:\n",
    "                self.room_config[i][\"west\"] = self.room_indexes.index(west_idx)\n",
    "\n",
    "    def _create_object_init_config(self) -> None:\n",
    "        \"\"\"Create an object initialization configuration.\"\"\"\n",
    "        self.object_init_config = {}\n",
    "        self.object_init_config[\"static\"] = {\n",
    "            num: {\n",
    "                i: num_\n",
    "                for i, num_ in enumerate(\n",
    "                    self._generate_categorical_distribution(self.num_rooms)\n",
    "                )\n",
    "            }\n",
    "            for num in range(self.num_static_objects)\n",
    "        }\n",
    "\n",
    "        self.object_init_config[\"independent\"] = {\n",
    "            num: {\n",
    "                i: num_\n",
    "                for i, num_ in enumerate(\n",
    "                    self._generate_categorical_distribution(self.num_rooms)\n",
    "                )\n",
    "            }\n",
    "            for num in range(self.num_independent_objects)\n",
    "        }\n",
    "\n",
    "        self.object_init_config[\"dependent\"] = {\n",
    "            num: {\n",
    "                i: num_\n",
    "                for i, num_ in enumerate(\n",
    "                    self._generate_categorical_distribution(self.num_rooms)\n",
    "                )\n",
    "            }\n",
    "            for num in range(self.num_dependent_objects)\n",
    "        }\n",
    "        self.object_init_config[\"agent\"] = {\n",
    "            \"agent\": {\n",
    "                i: num_\n",
    "                for i, num_ in enumerate(\n",
    "                    self._generate_categorical_distribution(self.num_rooms)\n",
    "                )\n",
    "            }\n",
    "        }\n",
    "\n",
    "    def _create_object_transition_config(self) -> None:\n",
    "        \"\"\"Create an object transition configuration.\"\"\"\n",
    "        self.object_transition_config = {}\n",
    "        self.object_transition_config[\"static\"] = {\n",
    "            i: None for i in range(self.num_static_objects)\n",
    "        }\n",
    "        self.object_transition_config[\"independent\"] = {\n",
    "            i: {\n",
    "                j: {\"north\": 0, \"east\": 0, \"south\": 0, \"west\": 0, \"west\": 0, \"stay\": 0}\n",
    "                for j in range(self.num_rooms)\n",
    "            }\n",
    "            for i in range(self.num_independent_objects)\n",
    "        }\n",
    "        for object_num, room_num_nesws in self.object_transition_config[\n",
    "            \"independent\"\n",
    "        ].items():\n",
    "            for room_num, nesw in room_num_nesws.items():\n",
    "                for direction, prob in nesw.items():\n",
    "                    if direction == \"stay\":\n",
    "                        nesw[direction] = random.random()\n",
    "                    else:\n",
    "                        if self.room_config[room_num][direction] != \"wall\":\n",
    "                            nesw[direction] = random.random()\n",
    "\n",
    "                denominator = sum(nesw.values())\n",
    "                for direction, prob in nesw.items():\n",
    "                    nesw[direction] = nesw[direction] / denominator\n",
    "\n",
    "        self.object_transition_config[\"dependent\"] = {\n",
    "            i: {j: random.random() for j in range(self.num_independent_objects)}\n",
    "            for i in range(self.num_dependent_objects)\n",
    "        }\n",
    "        self.object_transition_config[\"agent\"] = {\"agent\": None}\n",
    "\n",
    "    def _give_fake_names(self) -> None:\n",
    "        \"\"\"Give fake names to the rooms and objects.\"\"\"\n",
    "        names = read_json(\"./room_env/data/names-v2.json\")\n",
    "        self.names = {}\n",
    "        self.names[\"room\"] = random.choices(names[\"rooms\"], k=self.num_rooms)\n",
    "        self.names[\"static_objects\"] = random.choices(\n",
    "            names[\"static_objects\"], k=self.num_static_objects\n",
    "        )\n",
    "        self.names[\"independent_objects\"] = random.choices(\n",
    "            names[\"independent_objects\"], k=self.num_independent_objects\n",
    "        )\n",
    "        self.names[\"dependent_objects\"] = random.choices(\n",
    "            names[\"dependent_objects\"], k=self.num_dependent_objects\n",
    "        )\n",
    "\n",
    "        self.room_config_str = {}\n",
    "        for i in range(self.num_rooms):\n",
    "            self.room_config_str[self.names[\"room\"][i]] = deepcopy(self.room_config[i])\n",
    "            self.room_config_str[self.names[\"room\"][i]] = {\n",
    "                k: self.names[\"room\"][v] if v != \"wall\" else v\n",
    "                for k, v in self.room_config_str[self.names[\"room\"][i]].items()\n",
    "            }\n",
    "\n",
    "        self.object_init_config_str = {}\n",
    "\n",
    "        self.object_init_config_str[\"static\"] = {\n",
    "            self.names[\"static_objects\"][num]: {\n",
    "                self.names[\"room\"][i]: num_ for i, num_ in num_dist.items()\n",
    "            }\n",
    "            for num, num_dist in self.object_init_config[\"static\"].items()\n",
    "        }\n",
    "\n",
    "        self.object_init_config_str[\"independent\"] = {\n",
    "            self.names[\"independent_objects\"][num]: {\n",
    "                self.names[\"room\"][i]: num_ for i, num_ in num_dist.items()\n",
    "            }\n",
    "            for num, num_dist in self.object_init_config[\"independent\"].items()\n",
    "        }\n",
    "\n",
    "        self.object_init_config_str[\"dependent\"] = {\n",
    "            self.names[\"dependent_objects\"][num]: {\n",
    "                self.names[\"room\"][i]: num_ for i, num_ in num_dist.items()\n",
    "            }\n",
    "            for num, num_dist in self.object_init_config[\"dependent\"].items()\n",
    "        }\n",
    "\n",
    "        self.object_init_config_str[\"agent\"] = {\n",
    "            \"agent\": {\n",
    "                self.names[\"room\"][room_num]: val\n",
    "                for room_num, val in self.object_init_config[\"agent\"][\"agent\"].items()\n",
    "            }\n",
    "        }\n",
    "\n",
    "        self.object_transition_config_str = {}\n",
    "\n",
    "        self.object_transition_config_str[\"static\"] = {\n",
    "            self.names[\"static_objects\"][num]: None\n",
    "            for num in self.object_transition_config[\"static\"]\n",
    "        }\n",
    "\n",
    "        self.object_transition_config_str[\"independent\"] = {\n",
    "            self.names[\"independent_objects\"][num]: {\n",
    "                self.names[\"room\"][i]: num_ for i, num_ in num_dist.items()\n",
    "            }\n",
    "            for num, num_dist in self.object_transition_config[\"independent\"].items()\n",
    "        }\n",
    "\n",
    "        self.object_transition_config_str[\"dependent\"] = {\n",
    "            self.names[\"dependent_objects\"][num]: {\n",
    "                self.names[\"independent_objects\"][i]: num_\n",
    "                for i, num_ in num_dist.items()\n",
    "            }\n",
    "            for num, num_dist in self.object_transition_config[\"dependent\"].items()\n",
    "        }\n",
    "        self.object_transition_config_str[\"agent\"] = self.object_transition_config[\n",
    "            \"agent\"\n",
    "        ]\n",
    "\n",
    "    def _generate_categorical_distribution(self, num_categories: int) -> List[float]:\n",
    "        \"\"\"Generate a categorical distribution.\"\"\"\n",
    "        dist = [random.random() for _ in range(num_categories)]\n",
    "        dist = [x / sum(dist) for x in dist]\n",
    "        return dist\n",
    "\n",
    "    def visualize_grid(self):\n",
    "        rows = len(self.grid)\n",
    "        cols = len(self.grid[0])\n",
    "\n",
    "        # Create a figure and axis for plotting\n",
    "        fig, ax = plt.subplots()\n",
    "\n",
    "        # Define colors for different grid cell contents\n",
    "        color_mapping = {\n",
    "            # \"obstacle\": \"black\",\n",
    "            # \"goal\": \"green\",\n",
    "            # \"start\": \"blue\",\n",
    "            # \"room\": \"gray\",\n",
    "            \"empty\": \"white\",\n",
    "        }\n",
    "\n",
    "        for row in range(rows):\n",
    "            for col in range(cols):\n",
    "                cell_content = self.grid[row][col]\n",
    "                if cell_content != 0:\n",
    "                    color = \"gray\"\n",
    "                else:\n",
    "                    color = \"white\"\n",
    "                ax.add_patch(\n",
    "                    plt.Rectangle((col, rows - 1 - row), 1, 1, facecolor=color)\n",
    "                )\n",
    "\n",
    "        ax.set_aspect(\"equal\")\n",
    "        ax.set_xticks(range(cols + 1))\n",
    "        ax.set_yticks(range(rows + 1))\n",
    "        ax.grid(which=\"both\")\n",
    "\n",
    "        plt.show()"
   ]
  },
  {
   "cell_type": "code",
   "execution_count": 224,
   "metadata": {},
   "outputs": [
    {
     "name": "stdout",
     "output_type": "stream",
     "text": [
      "Connected Component 1: [(0, 2)]\n",
      "Connected Component 2: [(1, 0), (1, 1), (2, 1)]\n"
     ]
    },
    {
     "data": {
      "image/png": "[encoded data removed]",
      "text/plain": [
       "<Figure size 640x480 with 1 Axes>"
      ]
     },
     "metadata": {},
     "output_type": "display_data"
    }
   ],
   "source": [
    "room_creator = RoomCreator(\n",
    "    grid_length=3,\n",
    "    num_static_objects=2,\n",
    "    num_independent_objects=3,\n",
    "    num_dependent_objects=4,\n",
    "    room_prob=0.5,\n",
    "    file_path=\"./room_env/data/room-config-dev-v2.json\",\n",
    ")\n",
    "# room_creator.grid\n",
    "room_creator.visualize_grid()"
   ]
  },
  {
   "cell_type": "code",
   "execution_count": 204,
   "metadata": {},
   "outputs": [
    {
     "data": {
      "text/plain": [
       "[(1, 0), (2, 0), (2, 1), (2, 2)]"
      ]
     },
     "execution_count": 204,
     "metadata": {},
     "output_type": "execute_result"
    }
   ],
   "source": [
    "room_creator.room_indexes"
   ]
  },
  {
   "cell_type": "code",
   "execution_count": 205,
   "metadata": {},
   "outputs": [
    {
     "data": {
      "text/plain": [
       "{0: {'north': 'wall', 'east': 'wall', 'south': 1, 'west': 'wall'},\n",
       " 1: {'north': 0, 'east': 2, 'south': 'wall', 'west': 'wall'},\n",
       " 2: {'north': 'wall', 'east': 3, 'south': 'wall', 'west': 1},\n",
       " 3: {'north': 'wall', 'east': 'wall', 'south': 'wall', 'west': 2}}"
      ]
     },
     "execution_count": 205,
     "metadata": {},
     "output_type": "execute_result"
    }
   ],
   "source": [
    "room_creator.room_config"
   ]
  },
  {
   "cell_type": "code",
   "execution_count": 206,
   "metadata": {},
   "outputs": [
    {
     "data": {
      "text/plain": [
       "4"
      ]
     },
     "execution_count": 206,
     "metadata": {},
     "output_type": "execute_result"
    }
   ],
   "source": [
    "room_creator.num_rooms"
   ]
  },
  {
   "cell_type": "code",
   "execution_count": 219,
   "metadata": {},
   "outputs": [
    {
     "data": {
      "text/plain": [
       "{'static': {0: {0: 0.23919903317557664,\n",
       "   1: 0.2230685504122638,\n",
       "   2: 0.1750216990548149,\n",
       "   3: 0.15960147113500592,\n",
       "   4: 0.19128958228427972,\n",
       "   5: 0.011819663938059105},\n",
       "  1: {0: 0.06370543066716057,\n",
       "   1: 0.3567366455255768,\n",
       "   2: 0.027048003975509754,\n",
       "   3: 0.1960470262969807,\n",
       "   4: 0.35260281482572003,\n",
       "   5: 0.0038600787090520843}},\n",
       " 'independent': {0: {0: 0.17901102358498688,\n",
       "   1: 0.03216910569927823,\n",
       "   2: 0.14980846093341765,\n",
       "   3: 0.235350313843322,\n",
       "   4: 0.16768644766360064,\n",
       "   5: 0.2359746482753946},\n",
       "  1: {0: 0.19885163850849627,\n",
       "   1: 0.13896629816193018,\n",
       "   2: 0.2214898304520529,\n",
       "   3: 0.2393508063457901,\n",
       "   4: 0.09913264498383363,\n",
       "   5: 0.10220878154789682},\n",
       "  2: {0: 0.15473682472888634,\n",
       "   1: 0.13926614559400893,\n",
       "   2: 0.2470992802609157,\n",
       "   3: 0.24050402927952952,\n",
       "   4: 0.19154274912078104,\n",
       "   5: 0.02685097101587839}},\n",
       " 'dependent': {0: {0: 0.383938892232757,\n",
       "   1: 0.04031896087722111,\n",
       "   2: 0.2113415031235499,\n",
       "   3: 0.11835843654556713,\n",
       "   4: 0.005961289596126025,\n",
       "   5: 0.24008091762477873},\n",
       "  1: {0: 0.28433660040930864,\n",
       "   1: 0.06992437697261883,\n",
       "   2: 0.05524679879849983,\n",
       "   3: 0.20160816450828087,\n",
       "   4: 0.16609337178537048,\n",
       "   5: 0.2227906875259213},\n",
       "  2: {0: 0.10430445714123013,\n",
       "   1: 0.016927116414701182,\n",
       "   2: 0.2415037863512206,\n",
       "   3: 0.2700788439910245,\n",
       "   4: 0.17806131901342095,\n",
       "   5: 0.1891244770884027},\n",
       "  3: {0: 0.016167172096796845,\n",
       "   1: 0.029933107139453657,\n",
       "   2: 0.09876780517812529,\n",
       "   3: 0.2375598479428285,\n",
       "   4: 0.395863732014578,\n",
       "   5: 0.22170833562821768}},\n",
       " 'agent': {'agent': {0: 0.1508110107710625,\n",
       "   1: 0.01173928939743654,\n",
       "   2: 0.13825555633077885,\n",
       "   3: 0.03784217382504181,\n",
       "   4: 0.346804106895478,\n",
       "   5: 0.3145478627802023}}}"
      ]
     },
     "execution_count": 219,
     "metadata": {},
     "output_type": "execute_result"
    }
   ],
   "source": [
    "room_creator.object_init_config"
   ]
  },
  {
   "cell_type": "code",
   "execution_count": 222,
   "metadata": {},
   "outputs": [
    {
     "data": {
      "text/plain": [
       "{0: 0.1508110107710625,\n",
       " 1: 0.01173928939743654,\n",
       " 2: 0.13825555633077885,\n",
       " 3: 0.03784217382504181,\n",
       " 4: 0.346804106895478,\n",
       " 5: 0.3145478627802023}"
      ]
     },
     "execution_count": 222,
     "metadata": {},
     "output_type": "execute_result"
    }
   ],
   "source": [
    "room_creator.object_init_config[\"agent\"][\"agent\"]"
   ]
  },
  {
   "cell_type": "code",
   "execution_count": 208,
   "metadata": {},
   "outputs": [
    {
     "data": {
      "text/plain": [
       "{'static': {'platform_bed': {'cosmic_comic_con_concourse': 0.15616106870486807,\n",
       "   'cosmic_cosmos_chamber': 0.35514011234824855,\n",
       "   'polar_bear_patio': 0.06958128859520017,\n",
       "   'mysterious_martian_museum': 0.4191175303516832},\n",
       "  'filing_cabinet': {'cosmic_comic_con_concourse': 0.04310260266399426,\n",
       "   'cosmic_cosmos_chamber': 0.11642767533957538,\n",
       "   'polar_bear_patio': 0.5244166715737568,\n",
       "   'mysterious_martian_museum': 0.31605305042267356}},\n",
       " 'independent': {'charles': {'cosmic_comic_con_concourse': 0.3064918317039166,\n",
       "   'cosmic_cosmos_chamber': 0.03828004047756188,\n",
       "   'polar_bear_patio': 0.24161673904696557,\n",
       "   'mysterious_martian_museum': 0.41361138877155595},\n",
       "  'teresa': {'cosmic_comic_con_concourse': 0.5318033712139555,\n",
       "   'cosmic_cosmos_chamber': 0.1539246953088196,\n",
       "   'polar_bear_patio': 0.2088499439725976,\n",
       "   'mysterious_martian_museum': 0.10542198950462733},\n",
       "  'mark': {'cosmic_comic_con_concourse': 0.4276567122473487,\n",
       "   'cosmic_cosmos_chamber': 0.33249404054630993,\n",
       "   'polar_bear_patio': 0.16893061164462864,\n",
       "   'mysterious_martian_museum': 0.07091863556171273}},\n",
       " 'dependent': {'ice_cube_tray': {'cosmic_comic_con_concourse': 0.17959584927633654,\n",
       "   'cosmic_cosmos_chamber': 0.14343906895160213,\n",
       "   'polar_bear_patio': 0.26314529193945063,\n",
       "   'mysterious_martian_museum': 0.4138197898326107},\n",
       "  'spice_rack': {'cosmic_comic_con_concourse': 0.09135495847484384,\n",
       "   'cosmic_cosmos_chamber': 0.20817314329488448,\n",
       "   'polar_bear_patio': 0.2592241221773675,\n",
       "   'mysterious_martian_museum': 0.4412477760529042},\n",
       "  'bottle_stopper': {'cosmic_comic_con_concourse': 0.12031357604409851,\n",
       "   'cosmic_cosmos_chamber': 0.35646555166027344,\n",
       "   'polar_bear_patio': 0.1579383609350565,\n",
       "   'mysterious_martian_museum': 0.36528251136057155},\n",
       "  'apron': {'cosmic_comic_con_concourse': 0.005017202237776729,\n",
       "   'cosmic_cosmos_chamber': 0.37848735300136416,\n",
       "   'polar_bear_patio': 0.43285017659861597,\n",
       "   'mysterious_martian_museum': 0.18364526816224305}},\n",
       " 'agent': {'agent': {0: 0.07056752825377408,\n",
       "   1: 0.337663179254057,\n",
       "   2: 0.3404856225277834,\n",
       "   3: 0.25128366996438556}}}"
      ]
     },
     "execution_count": 208,
     "metadata": {},
     "output_type": "execute_result"
    }
   ],
   "source": [
    "room_creator.object_init_config_str"
   ]
  },
  {
   "cell_type": "code",
   "execution_count": 209,
   "metadata": {},
   "outputs": [
    {
     "data": {
      "text/plain": [
       "{0: {'north': 'wall', 'east': 'wall', 'south': 1, 'west': 'wall'},\n",
       " 1: {'north': 0, 'east': 2, 'south': 'wall', 'west': 'wall'},\n",
       " 2: {'north': 'wall', 'east': 3, 'south': 'wall', 'west': 1},\n",
       " 3: {'north': 'wall', 'east': 'wall', 'south': 'wall', 'west': 2}}"
      ]
     },
     "execution_count": 209,
     "metadata": {},
     "output_type": "execute_result"
    }
   ],
   "source": [
    "room_creator.room_config"
   ]
  },
  {
   "cell_type": "code",
   "execution_count": 184,
   "metadata": {},
   "outputs": [
    {
     "data": {
      "text/plain": [
       "{'whimsical_waterfall_workshop': {'north': 'wall',\n",
       "  'east': 'dreamy_dreamcatcher_den',\n",
       "  'south': 'whimsical_whale_watching_room',\n",
       "  'west': 'wall'},\n",
       " 'dreamy_dreamcatcher_den': {'north': 'wall',\n",
       "  'east': 'wall',\n",
       "  'south': 'steampunk_sorcery_sanctum',\n",
       "  'west': 'whimsical_waterfall_workshop'},\n",
       " 'whimsical_whale_watching_room': {'north': 'whimsical_waterfall_workshop',\n",
       "  'east': 'steampunk_sorcery_sanctum',\n",
       "  'south': 'wall',\n",
       "  'west': 'wall'},\n",
       " 'steampunk_sorcery_sanctum': {'north': 'dreamy_dreamcatcher_den',\n",
       "  'east': 'wall',\n",
       "  'south': 'whimsical_wizard_workshop',\n",
       "  'west': 'whimsical_whale_watching_room'},\n",
       " 'whimsical_wizard_workshop': {'north': 'steampunk_sorcery_sanctum',\n",
       "  'east': 'wall',\n",
       "  'south': 'wall',\n",
       "  'west': 'wall'}}"
      ]
     },
     "execution_count": 184,
     "metadata": {},
     "output_type": "execute_result"
    }
   ],
   "source": [
    "room_creator.room_config_str"
   ]
  },
  {
   "cell_type": "code",
   "execution_count": 185,
   "metadata": {},
   "outputs": [
    {
     "data": {
      "text/plain": [
       "{'static': {'mattress': None, 'credenza': None},\n",
       " 'independent': {'joshua': {'whimsical_waterfall_workshop': 0.14861298173304088,\n",
       "   'dreamy_dreamcatcher_den': 0.16128921886756112,\n",
       "   'whimsical_whale_watching_room': 0.24629352091985393,\n",
       "   'steampunk_sorcery_sanctum': 0.4214875662765193,\n",
       "   'whimsical_wizard_workshop': 0.0223167122030248},\n",
       "  'angela': {'whimsical_waterfall_workshop': 0.15546066684840854,\n",
       "   'dreamy_dreamcatcher_den': 0.26641535586184906,\n",
       "   'whimsical_whale_watching_room': 0.22511239235809635,\n",
       "   'steampunk_sorcery_sanctum': 0.33842907532076144,\n",
       "   'whimsical_wizard_workshop': 0.014582509610884597},\n",
       "  'pamela': {'whimsical_waterfall_workshop': 0.26064341064885255,\n",
       "   'dreamy_dreamcatcher_den': 0.1424145509806307,\n",
       "   'whimsical_whale_watching_room': 0.20285090707081407,\n",
       "   'steampunk_sorcery_sanctum': 0.24303542432916164,\n",
       "   'whimsical_wizard_workshop': 0.15105570697054105}},\n",
       " 'dependent': {'pestle_and_mortar': {'joshua': 0.3699867913436099,\n",
       "   'angela': 0.839150649586101,\n",
       "   'pamela': 0.7731103321810179},\n",
       "  'colander': {'joshua': 0.24569451389758346,\n",
       "   'angela': 0.6130716797100945,\n",
       "   'pamela': 0.5891578904213791},\n",
       "  'dustpan': {'joshua': 0.5683130791402093,\n",
       "   'angela': 0.7421636539355131,\n",
       "   'pamela': 0.4114448427182673},\n",
       "  'spice_rack': {'joshua': 0.10506668301158228,\n",
       "   'angela': 0.4865738430402736,\n",
       "   'pamela': 0.9348687209594794}}}"
      ]
     },
     "execution_count": 185,
     "metadata": {},
     "output_type": "execute_result"
    }
   ],
   "source": [
    "room_creator.object_transition_config_str"
   ]
  },
  {
   "cell_type": "code",
   "execution_count": 186,
   "metadata": {},
   "outputs": [
    {
     "data": {
      "text/plain": [
       "{'static': {0: None, 1: None},\n",
       " 'independent': {0: {0: {'north': 0.0,\n",
       "    'east': 0.28323042240954033,\n",
       "    'south': 0.2454444609196356,\n",
       "    'west': 0.0,\n",
       "    'stay': 0.471325116670824},\n",
       "   1: {'north': 0.0,\n",
       "    'east': 0.0,\n",
       "    'south': 0.6027803640767897,\n",
       "    'west': 0.056284052197647025,\n",
       "    'stay': 0.34093558372556326},\n",
       "   2: {'north': 0.26385050005078375,\n",
       "    'east': 0.3527225392056188,\n",
       "    'south': 0.0,\n",
       "    'west': 0.0,\n",
       "    'stay': 0.3834269607435974},\n",
       "   3: {'north': 0.19071850411590704,\n",
       "    'east': 0.0,\n",
       "    'south': 0.32867625785556476,\n",
       "    'west': 0.38679661881444216,\n",
       "    'stay': 0.09380861921408615},\n",
       "   4: {'north': 0.4716565069295895,\n",
       "    'east': 0.0,\n",
       "    'south': 0.0,\n",
       "    'west': 0.0,\n",
       "    'stay': 0.5283434930704105}},\n",
       "  1: {0: {'north': 0.0,\n",
       "    'east': 0.22156974832498574,\n",
       "    'south': 0.39729453554145827,\n",
       "    'west': 0.0,\n",
       "    'stay': 0.3811357161335561},\n",
       "   1: {'north': 0.0,\n",
       "    'east': 0.0,\n",
       "    'south': 0.13520472237137499,\n",
       "    'west': 0.5267975282186231,\n",
       "    'stay': 0.3379977494100019},\n",
       "   2: {'north': 0.20878664939484565,\n",
       "    'east': 0.27157729663811514,\n",
       "    'south': 0.0,\n",
       "    'west': 0.0,\n",
       "    'stay': 0.5196360539670393},\n",
       "   3: {'north': 0.13392370229554273,\n",
       "    'east': 0.0,\n",
       "    'south': 0.27010379425682757,\n",
       "    'west': 0.3183139667282756,\n",
       "    'stay': 0.27765853671935414},\n",
       "   4: {'north': 0.08678536395514472,\n",
       "    'east': 0.0,\n",
       "    'south': 0.0,\n",
       "    'west': 0.0,\n",
       "    'stay': 0.9132146360448553}},\n",
       "  2: {0: {'north': 0.0,\n",
       "    'east': 0.6380825305785914,\n",
       "    'south': 0.19389091615926093,\n",
       "    'west': 0.0,\n",
       "    'stay': 0.16802655326214763},\n",
       "   1: {'north': 0.0,\n",
       "    'east': 0.0,\n",
       "    'south': 0.543547508165844,\n",
       "    'west': 0.20698591975740416,\n",
       "    'stay': 0.24946657207675202},\n",
       "   2: {'north': 0.41494519160795595,\n",
       "    'east': 0.19960406572153058,\n",
       "    'south': 0.0,\n",
       "    'west': 0.0,\n",
       "    'stay': 0.3854507426705134},\n",
       "   3: {'north': 0.3368643019222276,\n",
       "    'east': 0.0,\n",
       "    'south': 0.2880584497673133,\n",
       "    'west': 0.053925508766628306,\n",
       "    'stay': 0.32115173954383075},\n",
       "   4: {'north': 0.3705705391329277,\n",
       "    'east': 0.0,\n",
       "    'south': 0.0,\n",
       "    'west': 0.0,\n",
       "    'stay': 0.6294294608670723}}},\n",
       " 'dependent': {0: {0: 0.3699867913436099,\n",
       "   1: 0.839150649586101,\n",
       "   2: 0.7731103321810179},\n",
       "  1: {0: 0.24569451389758346, 1: 0.6130716797100945, 2: 0.5891578904213791},\n",
       "  2: {0: 0.5683130791402093, 1: 0.7421636539355131, 2: 0.4114448427182673},\n",
       "  3: {0: 0.10506668301158228, 1: 0.4865738430402736, 2: 0.9348687209594794}},\n",
       " 'agent': {'agent': None}}"
      ]
     },
     "execution_count": 186,
     "metadata": {},
     "output_type": "execute_result"
    }
   ],
   "source": [
    "room_creator.object_transition_config"
   ]
  },
  {
   "cell_type": "code",
   "execution_count": 164,
   "metadata": {},
   "outputs": [
    {
     "name": "stderr",
     "output_type": "stream",
     "text": [
      "/home/tk/.virtualenvs/human-memory/lib/python3.10/site-packages/gymnasium/envs/registration.py:481: UserWarning: \u001b[33mWARN: The environment creator metadata doesn't include `render_modes`, contains: ['render.modes']\u001b[0m\n",
      "  logger.warn(\n"
     ]
    },
    {
     "ename": "AssertionError",
     "evalue": "Agent objects do not move by itself.",
     "output_type": "error",
     "traceback": [
      "\u001b[0;31m---------------------------------------------------------------------------\u001b[0m",
      "\u001b[0;31mAssertionError\u001b[0m                            Traceback (most recent call last)",
      "\u001b[1;32m/home/tk/repos/room-env-private/room-env-v2.ipynb Cell 13\u001b[0m line \u001b[0;36m3\n\u001b[1;32m      <a href='vscode-notebook-cell:/home/tk/repos/room-env-private/room-env-v2.ipynb#W4sZmlsZQ%3D%3D?line=3'>4</a>\u001b[0m room_size \u001b[39m=\u001b[39m {\n\u001b[1;32m      <a href='vscode-notebook-cell:/home/tk/repos/room-env-private/room-env-v2.ipynb#W4sZmlsZQ%3D%3D?line=4'>5</a>\u001b[0m     \u001b[39m\"\u001b[39m\u001b[39mroom_config\u001b[39m\u001b[39m\"\u001b[39m: {\n\u001b[1;32m      <a href='vscode-notebook-cell:/home/tk/repos/room-env-private/room-env-v2.ipynb#W4sZmlsZQ%3D%3D?line=5'>6</a>\u001b[0m         \u001b[39m\"\u001b[39m\u001b[39mofficeroom\u001b[39m\u001b[39m\"\u001b[39m: {\n\u001b[0;32m   (...)\u001b[0m\n\u001b[1;32m     <a href='vscode-notebook-cell:/home/tk/repos/room-env-private/room-env-v2.ipynb#W4sZmlsZQ%3D%3D?line=25'>26</a>\u001b[0m     },\n\u001b[1;32m     <a href='vscode-notebook-cell:/home/tk/repos/room-env-private/room-env-v2.ipynb#W4sZmlsZQ%3D%3D?line=26'>27</a>\u001b[0m }\n\u001b[1;32m     <a href='vscode-notebook-cell:/home/tk/repos/room-env-private/room-env-v2.ipynb#W4sZmlsZQ%3D%3D?line=27'>28</a>\u001b[0m config \u001b[39m=\u001b[39m {\n\u001b[1;32m     <a href='vscode-notebook-cell:/home/tk/repos/room-env-private/room-env-v2.ipynb#W4sZmlsZQ%3D%3D?line=28'>29</a>\u001b[0m     \u001b[39m\"\u001b[39m\u001b[39mquestion_prob\u001b[39m\u001b[39m\"\u001b[39m: \u001b[39m1.0\u001b[39m,\n\u001b[1;32m     <a href='vscode-notebook-cell:/home/tk/repos/room-env-private/room-env-v2.ipynb#W4sZmlsZQ%3D%3D?line=29'>30</a>\u001b[0m     \u001b[39m\"\u001b[39m\u001b[39mseed\u001b[39m\u001b[39m\"\u001b[39m: random\u001b[39m.\u001b[39mrandint(\u001b[39m0\u001b[39m, \u001b[39m100000\u001b[39m),\n\u001b[0;32m   (...)\u001b[0m\n\u001b[1;32m     <a href='vscode-notebook-cell:/home/tk/repos/room-env-private/room-env-v2.ipynb#W4sZmlsZQ%3D%3D?line=32'>33</a>\u001b[0m     \u001b[39m\"\u001b[39m\u001b[39mroom_size\u001b[39m\u001b[39m\"\u001b[39m: room_size,\n\u001b[1;32m     <a href='vscode-notebook-cell:/home/tk/repos/room-env-private/room-env-v2.ipynb#W4sZmlsZQ%3D%3D?line=33'>34</a>\u001b[0m }\n\u001b[0;32m---> <a href='vscode-notebook-cell:/home/tk/repos/room-env-private/room-env-v2.ipynb#W4sZmlsZQ%3D%3D?line=34'>35</a>\u001b[0m env \u001b[39m=\u001b[39m gym\u001b[39m.\u001b[39;49mmake(\u001b[39m\"\u001b[39;49m\u001b[39mroom_env:RoomEnv-v2\u001b[39;49m\u001b[39m\"\u001b[39;49m, \u001b[39m*\u001b[39;49m\u001b[39m*\u001b[39;49mconfig)\n\u001b[1;32m     <a href='vscode-notebook-cell:/home/tk/repos/room-env-private/room-env-v2.ipynb#W4sZmlsZQ%3D%3D?line=36'>37</a>\u001b[0m observations, info \u001b[39m=\u001b[39m env\u001b[39m.\u001b[39mreset()\n",
      "File \u001b[0;32m~/.virtualenvs/human-memory/lib/python3.10/site-packages/gymnasium/envs/registration.py:802\u001b[0m, in \u001b[0;36mmake\u001b[0;34m(id, max_episode_steps, autoreset, apply_api_compatibility, disable_env_checker, **kwargs)\u001b[0m\n\u001b[1;32m    799\u001b[0m     render_mode \u001b[39m=\u001b[39m \u001b[39mNone\u001b[39;00m\n\u001b[1;32m    801\u001b[0m \u001b[39mtry\u001b[39;00m:\n\u001b[0;32m--> 802\u001b[0m     env \u001b[39m=\u001b[39m env_creator(\u001b[39m*\u001b[39;49m\u001b[39m*\u001b[39;49menv_spec_kwargs)\n\u001b[1;32m    803\u001b[0m \u001b[39mexcept\u001b[39;00m \u001b[39mTypeError\u001b[39;00m \u001b[39mas\u001b[39;00m e:\n\u001b[1;32m    804\u001b[0m     \u001b[39mif\u001b[39;00m (\n\u001b[1;32m    805\u001b[0m         \u001b[39mstr\u001b[39m(e)\u001b[39m.\u001b[39mfind(\u001b[39m\"\u001b[39m\u001b[39mgot an unexpected keyword argument \u001b[39m\u001b[39m'\u001b[39m\u001b[39mrender_mode\u001b[39m\u001b[39m'\u001b[39m\u001b[39m\"\u001b[39m) \u001b[39m>\u001b[39m\u001b[39m=\u001b[39m \u001b[39m0\u001b[39m\n\u001b[1;32m    806\u001b[0m         \u001b[39mand\u001b[39;00m apply_human_rendering\n\u001b[1;32m    807\u001b[0m     ):\n",
      "File \u001b[0;32m~/repos/room-env-private/room_env/envs/room2.py:395\u001b[0m, in \u001b[0;36mRoomEnv2.__init__\u001b[0;34m(self, question_prob, seed, terminates_at, randomize_observations, room_size)\u001b[0m\n\u001b[1;32m    393\u001b[0m \u001b[39mself\u001b[39m\u001b[39m.\u001b[39m_create_rooms()\n\u001b[1;32m    394\u001b[0m \u001b[39mself\u001b[39m\u001b[39m.\u001b[39m_get_room_map()\n\u001b[0;32m--> 395\u001b[0m \u001b[39mself\u001b[39;49m\u001b[39m.\u001b[39;49m_create_objects()\n\u001b[1;32m    397\u001b[0m \u001b[39m# Our state / action spaces are not tensors. Here we just make a dummy spaces\u001b[39;00m\n\u001b[1;32m    398\u001b[0m \u001b[39m# to bypass the gymnasium sanity check.\u001b[39;00m\n\u001b[1;32m    399\u001b[0m \u001b[39mself\u001b[39m\u001b[39m.\u001b[39mobservation_space \u001b[39m=\u001b[39m gym\u001b[39m.\u001b[39mspaces\u001b[39m.\u001b[39mDiscrete(\u001b[39m1\u001b[39m)\n",
      "File \u001b[0;32m~/repos/room-env-private/room_env/envs/room2.py:453\u001b[0m, in \u001b[0;36mRoomEnv2._create_objects\u001b[0;34m(self)\u001b[0m\n\u001b[1;32m    442\u001b[0m     \u001b[39mself\u001b[39m\u001b[39m.\u001b[39mobjects[\u001b[39m\"\u001b[39m\u001b[39mdependent\u001b[39m\u001b[39m\"\u001b[39m]\u001b[39m.\u001b[39mappend(\n\u001b[1;32m    443\u001b[0m         DependentObject(\n\u001b[1;32m    444\u001b[0m             name,\n\u001b[0;32m   (...)\u001b[0m\n\u001b[1;32m    448\u001b[0m         )\n\u001b[1;32m    449\u001b[0m     )\n\u001b[1;32m    451\u001b[0m \u001b[39mfor\u001b[39;00m name, init_probs \u001b[39min\u001b[39;00m \u001b[39mself\u001b[39m\u001b[39m.\u001b[39mobject_init_config[\u001b[39m\"\u001b[39m\u001b[39magent\u001b[39m\u001b[39m\"\u001b[39m]\u001b[39m.\u001b[39mitems():\n\u001b[1;32m    452\u001b[0m     \u001b[39mself\u001b[39m\u001b[39m.\u001b[39mobjects[\u001b[39m\"\u001b[39m\u001b[39magent\u001b[39m\u001b[39m\"\u001b[39m]\u001b[39m.\u001b[39mappend(\n\u001b[0;32m--> 453\u001b[0m         Agent(\n\u001b[1;32m    454\u001b[0m             \u001b[39m\"\u001b[39;49m\u001b[39magent\u001b[39;49m\u001b[39m\"\u001b[39;49m,\n\u001b[1;32m    455\u001b[0m             init_probs,\n\u001b[1;32m    456\u001b[0m             \u001b[39mself\u001b[39;49m\u001b[39m.\u001b[39;49mobject_transition_config[\u001b[39m\"\u001b[39;49m\u001b[39magent\u001b[39;49m\u001b[39m\"\u001b[39;49m][name],\n\u001b[1;32m    457\u001b[0m             \u001b[39mself\u001b[39;49m\u001b[39m.\u001b[39;49mrooms,\n\u001b[1;32m    458\u001b[0m         )\n\u001b[1;32m    459\u001b[0m     )\n",
      "File \u001b[0;32m~/repos/room-env-private/room_env/envs/room2.py:262\u001b[0m, in \u001b[0;36mAgent.__init__\u001b[0;34m(self, name, init_probs, transition_probs, rooms)\u001b[0m\n\u001b[1;32m    259\u001b[0m \u001b[39m\u001b[39m\u001b[39m\"\"\"Agent class is the same as the independent object class, except that it\u001b[39;00m\n\u001b[1;32m    260\u001b[0m \u001b[39mmoves with the provided action.\"\"\"\u001b[39;00m\n\u001b[1;32m    261\u001b[0m \u001b[39msuper\u001b[39m()\u001b[39m.\u001b[39m\u001b[39m__init__\u001b[39m(name, \u001b[39m\"\u001b[39m\u001b[39magent\u001b[39m\u001b[39m\"\u001b[39m, init_probs, transition_probs)\n\u001b[0;32m--> 262\u001b[0m \u001b[39massert\u001b[39;00m \u001b[39mself\u001b[39m\u001b[39m.\u001b[39mtransition_probs \u001b[39mis\u001b[39;00m \u001b[39mNone\u001b[39;00m, \u001b[39m\"\u001b[39m\u001b[39mAgent objects do not move by itself.\u001b[39m\u001b[39m\"\u001b[39m\n\u001b[1;32m    263\u001b[0m \u001b[39mself\u001b[39m\u001b[39m.\u001b[39mrooms \u001b[39m=\u001b[39m rooms\n",
      "\u001b[0;31mAssertionError\u001b[0m: Agent objects do not move by itself."
     ]
    }
   ],
   "source": [
    "import random\n",
    "import gymnasium as gym\n",
    "\n",
    "room_size = {\n",
    "    \"room_config\": {\n",
    "        \"officeroom\": {\n",
    "            \"north\": \"wall\",\n",
    "            \"east\": \"wall\",\n",
    "            \"south\": \"wall\",\n",
    "            \"west\": \"wall\",\n",
    "        }\n",
    "    },\n",
    "    \"object_transition_config\": {\n",
    "        \"static\": {\"desk\": None},\n",
    "        \"independent\": {},\n",
    "        \"dependent\": {},\n",
    "        \"agent\": {\"agent\": {\"officeroom\": None}},\n",
    "    },\n",
    "    \"object_init_config\": {\n",
    "        \"static\": {\n",
    "            \"desk\": {\"officeroom\": 1},\n",
    "        },\n",
    "        \"independent\": {},\n",
    "        \"dependent\": {},\n",
    "        \"agent\": {\"agent\": {\"officeroom\": 1.0}},\n",
    "    },\n",
    "}\n",
    "config = {\n",
    "    \"question_prob\": 1.0,\n",
    "    \"seed\": random.randint(0, 100000),\n",
    "    \"terminates_at\": 9,\n",
    "    \"randomize_observations\": True,\n",
    "    \"room_size\": room_size,\n",
    "}\n",
    "env = gym.make(\"room_env:RoomEnv-v2\", **config)\n",
    "\n",
    "observations, info = env.reset()"
   ]
  },
  {
   "cell_type": "code",
   "execution_count": 22,
   "metadata": {},
   "outputs": [
    {
     "data": {
      "text/plain": [
       "{'self': ['agent', 'atlocation', 'officeroom', 0],\n",
       " 'room': [['officeroom', 'south', 'wall', 0],\n",
       "  ['desk', 'atlocation', 'officeroom', 0],\n",
       "  ['officeroom', 'east', 'wall', 0],\n",
       "  ['officeroom', 'north', 'wall', 0],\n",
       "  ['officeroom', 'west', 'wall', 0]],\n",
       " 'question': ['desk', 'atlocation', '?', 0]}"
      ]
     },
     "execution_count": 22,
     "metadata": {},
     "output_type": "execute_result"
    }
   ],
   "source": [
    "observations"
   ]
  },
  {
   "cell_type": "code",
   "execution_count": null,
   "metadata": {},
   "outputs": [],
   "source": []
  },
  {
   "cell_type": "code",
   "execution_count": 1,
   "metadata": {},
   "outputs": [
    {
     "name": "stdout",
     "output_type": "stream",
     "text": [
      "101 101 101 100 100\n"
     ]
    },
    {
     "name": "stderr",
     "output_type": "stream",
     "text": [
      "/home/tk/.virtualenvs/human-memory/lib/python3.9/site-packages/gymnasium/envs/registration.py:491: UserWarning: \u001b[33mWARN: The environment creator metadata doesn't include `render_modes`, contains: ['render.modes']\u001b[0m\n",
      "  logger.warn(\n",
      "/home/tk/.virtualenvs/human-memory/lib/python3.9/site-packages/gymnasium/utils/passive_env_checker.py:197: DeprecationWarning: \u001b[33mWARN: Current gymnasium version requires that `Env.reset` can be passed a `seed` instead of using `Env.seed` for resetting the environment random number generator.\u001b[0m\n",
      "  logger.deprecation(\n",
      "/home/tk/.virtualenvs/human-memory/lib/python3.9/site-packages/gymnasium/utils/passive_env_checker.py:210: DeprecationWarning: \u001b[33mWARN: Current gymnasium version requires that `Env.reset` can be passed `options` to allow the environment initialisation to be passed additional information.\u001b[0m\n",
      "  logger.deprecation(\n",
      "/home/tk/.virtualenvs/human-memory/lib/python3.9/site-packages/gymnasium/utils/passive_env_checker.py:156: UserWarning: \u001b[33mWARN: The obs returned by the `reset()` method should be an int or np.int64, actual type: <class 'tuple'>\u001b[0m\n",
      "  logger.warn(f\"{pre} should be an int or np.int64, actual type: {type(obs)}\")\n",
      "/home/tk/.virtualenvs/human-memory/lib/python3.9/site-packages/gymnasium/utils/passive_env_checker.py:188: UserWarning: \u001b[33mWARN: The obs returned by the `reset()` method is not within the observation space.\u001b[0m\n",
      "  logger.warn(f\"{pre} is not within the observation space.\")\n",
      "/home/tk/.virtualenvs/human-memory/lib/python3.9/site-packages/gymnasium/utils/passive_env_checker.py:156: UserWarning: \u001b[33mWARN: The obs returned by the `step()` method should be an int or np.int64, actual type: <class 'tuple'>\u001b[0m\n",
      "  logger.warn(f\"{pre} should be an int or np.int64, actual type: {type(obs)}\")\n",
      "/home/tk/.virtualenvs/human-memory/lib/python3.9/site-packages/gymnasium/utils/passive_env_checker.py:188: UserWarning: \u001b[33mWARN: The obs returned by the `step()` method is not within the observation space.\u001b[0m\n",
      "  logger.warn(f\"{pre} is not within the observation space.\")\n"
     ]
    }
   ],
   "source": [
    "import gymnasium as gym\n",
    "import random\n",
    "\n",
    "env = gym.make(\"room_env:RoomEnv-v2\")\n",
    "(obs, question), info = env.reset()\n",
    "observations = []\n",
    "questions = []\n",
    "infos = []\n",
    "actions = []\n",
    "rewards = []\n",
    "observations.append(obs)\n",
    "questions.append(question)\n",
    "infos.append(info)\n",
    "while True:\n",
    "    action_qa = question[0]\n",
    "    action_explore = random.choice([\"north\", \"east\", \"south\", \"west\", \"stay\"])\n",
    "    (obs, question), reward, done, truncated, info = env.step((\"wall\", action_explore))\n",
    "\n",
    "    observations.append(obs)\n",
    "    questions.append(question)\n",
    "    infos.append(info)\n",
    "    actions.append((action_qa, action_explore))\n",
    "    rewards.append(reward)\n",
    "    if done:\n",
    "        break\n",
    "\n",
    "print(len(observations), len(questions), len(infos), len(actions), len(rewards))"
   ]
  },
  {
   "cell_type": "code",
   "execution_count": 8,
   "metadata": {},
   "outputs": [],
   "source": [
    "import gymnasium as gym\n",
    "import random\n",
    "\n",
    "from room_env.envs.room2 import *\n",
    "\n",
    "room_size = {\n",
    "    \"room_config\": {\n",
    "        \"officeroom\": {\n",
    "            \"north\": \"wall\",\n",
    "            \"east\": \"livingroom\",\n",
    "            \"south\": \"wall\",\n",
    "            \"west\": \"wall\",\n",
    "        },\n",
    "        \"livingroom\": {\n",
    "            \"north\": \"wall\",\n",
    "            \"east\": \"wall\",\n",
    "            \"south\": \"wall\",\n",
    "            \"west\": \"officeroom\",\n",
    "        },\n",
    "    },\n",
    "    \"object_transition_config\": {\n",
    "        \"static\": {\"desk\": None},\n",
    "        \"independent\": {\n",
    "            \"tae\": {\n",
    "                \"officeroom\": {\n",
    "                    \"north\": 0,\n",
    "                    \"east\": 1.0,\n",
    "                    \"south\": 0,\n",
    "                    \"west\": 0,\n",
    "                    \"stay\": 0,\n",
    "                },\n",
    "                \"livingroom\": {\n",
    "                    \"north\": 0,\n",
    "                    \"east\": 0,\n",
    "                    \"south\": 0,\n",
    "                    \"west\": 1.0,\n",
    "                    \"stay\": 0,\n",
    "                },\n",
    "            },\n",
    "        },\n",
    "        \"dependent\": {\n",
    "            \"laptop\": {\"tae\": 1.0},\n",
    "        },\n",
    "        \"agent\": {\"agent\": {\"officeroom\": None, \"livingroom\": None}},\n",
    "    },\n",
    "    \"object_init_config\": {\n",
    "        \"static\": {\n",
    "            \"desk\": {\"officeroom\": 1, \"livingroom\": 0},\n",
    "        },\n",
    "        \"independent\": {\n",
    "            \"tae\": {\"officeroom\": 1.0, \"livingroom\": 0},\n",
    "        },\n",
    "        \"dependent\": {\n",
    "            \"laptop\": {\"officeroom\": 1.0, \"livingroom\": 0},\n",
    "        },\n",
    "        \"agent\": {\"agent\": {\"officeroom\": 1.0, \"livingroom\": 0, \"bedroom\": 0}},\n",
    "    },\n",
    "}\n",
    "config = {\n",
    "    \"question_prob\": 1.0,\n",
    "    \"seed\": random.randint(0, 100000),\n",
    "    \"terminates_at\": 99,\n",
    "    \"room_size\": room_size,\n",
    "}\n",
    "env = gym.make(\"room_env:RoomEnv-v2\", **config)\n",
    "(observations_, question), info = env.reset()"
   ]
  },
  {
   "cell_type": "code",
   "execution_count": 9,
   "metadata": {},
   "outputs": [
    {
     "data": {
      "text/plain": [
       "(['?', 'atlocation', 'officeroom', 0], {})"
      ]
     },
     "execution_count": 9,
     "metadata": {},
     "output_type": "execute_result"
    }
   ],
   "source": [
    "question, info"
   ]
  },
  {
   "cell_type": "code",
   "execution_count": 10,
   "metadata": {},
   "outputs": [
    {
     "data": {
      "text/plain": [
       "(([['agent', 'atlocation', 'livingroom', 1],\n",
       "   ['tae', 'atlocation', 'livingroom', 1],\n",
       "   ['laptop', 'atlocation', 'livingroom', 1],\n",
       "   ['livingroom', 'north', 'wall', 1],\n",
       "   ['livingroom', 'east', 'wall', 1],\n",
       "   ['livingroom', 'south', 'wall', 1],\n",
       "   ['livingroom', 'west', 'officeroom', 1]],\n",
       "  ['?', 'atlocation', 'livingroom', 1]),\n",
       " 1,\n",
       " False,\n",
       " False,\n",
       " {'answers': ['desk', 'tae', 'laptop'], 'timestamp': 0})"
      ]
     },
     "execution_count": 10,
     "metadata": {},
     "output_type": "execute_result"
    }
   ],
   "source": [
    "env.step((\"desk\", \"east\"))"
   ]
  },
  {
   "cell_type": "code",
   "execution_count": 11,
   "metadata": {},
   "outputs": [
    {
     "data": {
      "text/plain": [
       "(([['agent', 'atlocation', 'officeroom', 2],\n",
       "   ['desk', 'atlocation', 'officeroom', 2],\n",
       "   ['tae', 'atlocation', 'officeroom', 2],\n",
       "   ['laptop', 'atlocation', 'officeroom', 2],\n",
       "   ['officeroom', 'north', 'wall', 2],\n",
       "   ['officeroom', 'east', 'livingroom', 2],\n",
       "   ['officeroom', 'south', 'wall', 2],\n",
       "   ['officeroom', 'west', 'wall', 2]],\n",
       "  ['desk', 'atlocation', '?', 2]),\n",
       " 1,\n",
       " False,\n",
       " False,\n",
       " {'answers': ['tae', 'laptop'], 'timestamp': 1})"
      ]
     },
     "execution_count": 11,
     "metadata": {},
     "output_type": "execute_result"
    }
   ],
   "source": [
    "env.step((\"tae\", \"west\"))"
   ]
  },
  {
   "cell_type": "code",
   "execution_count": 20,
   "metadata": {},
   "outputs": [
    {
     "data": {
      "text/plain": [
       "True"
      ]
     },
     "execution_count": 20,
     "metadata": {},
     "output_type": "execute_result"
    }
   ],
   "source": [
    "{\"answers\": [\"agent\", \"desk\", \"tae\", \"laptop\"], \"timestamp\": 0} == {\n",
    "    \"answers\": [\"agent\", \"desk\", \"tae\", \"laptop\"],\n",
    "    \"timestamp\": 0,\n",
    "}"
   ]
  },
  {
   "cell_type": "code",
   "execution_count": 12,
   "metadata": {},
   "outputs": [
    {
     "data": {
      "text/plain": [
       "([[['agent', 'atlocation', 'officeroom', 0],\n",
       "   ['desk', 'atlocation', 'officeroom', 0],\n",
       "   ['tae', 'atlocation', 'officeroom', 0],\n",
       "   ['laptop', 'atlocation', 'officeroom', 0],\n",
       "   ['officeroom', 'north', 'wall', 0],\n",
       "   ['officeroom', 'east', 'livingroom', 0],\n",
       "   ['officeroom', 'south', 'wall', 0],\n",
       "   ['officeroom', 'west', 'wall', 0]]],\n",
       " ['?', 'atlocation', 'officeroom', 0])"
      ]
     },
     "execution_count": 12,
     "metadata": {},
     "output_type": "execute_result"
    }
   ],
   "source": [
    "observations, question"
   ]
  },
  {
   "cell_type": "code",
   "execution_count": 5,
   "metadata": {},
   "outputs": [
    {
     "data": {
      "text/plain": [
       "([['bedroom', 'north', 'livingroom', 100],\n",
       "  ['bedroom', 'east', 'wall', 100],\n",
       "  ['bedroom', 'south', 'wall', 100],\n",
       "  ['bedroom', 'west', 'wall', 100],\n",
       "  ['bed', 'atlocation', 'bedroom', 100],\n",
       "  ['michael', 'atlocation', 'bedroom', 100],\n",
       "  ['vincent', 'atlocation', 'bedroom', 100],\n",
       "  ['headset', 'atlocation', 'bedroom', 100],\n",
       "  ['agent', 'atlocation', 'bedroom', 100]],\n",
       " ['table', '?', 'livingroom', 100])"
      ]
     },
     "execution_count": 5,
     "metadata": {},
     "output_type": "execute_result"
    }
   ],
   "source": [
    "env.observations, env.question"
   ]
  },
  {
   "cell_type": "code",
   "execution_count": 39,
   "metadata": {},
   "outputs": [
    {
     "data": {
      "text/plain": [
       "({'arg': 'bar'}, {'arg': 'foo'})"
      ]
     },
     "execution_count": 39,
     "metadata": {},
     "output_type": "execute_result"
    }
   ],
   "source": [
    "class Foo:\n",
    "    def __init__(self, arg) -> None:\n",
    "        self.arg = arg\n",
    "\n",
    "    def get_arg(self):\n",
    "        return self.arg\n",
    "\n",
    "\n",
    "foo = Foo({\"arg\": \"foo\"})\n",
    "bar = foo.get_arg()\n",
    "foo.arg = {\"arg\": \"bar\"}\n",
    "\n",
    "foo.arg, bar"
   ]
  },
  {
   "cell_type": "code",
   "execution_count": 26,
   "metadata": {},
   "outputs": [
    {
     "data": {
      "text/plain": [
       "(['foo', 'bar'], {'answers': ['foo', 'bar']})"
      ]
     },
     "execution_count": 26,
     "metadata": {},
     "output_type": "execute_result"
    }
   ],
   "source": [
    "foo = [\"foo\"]\n",
    "bar = {\"answers\": foo}\n",
    "\n",
    "bar[\"answers\"].append(\"bar\")\n",
    "\n",
    "\n",
    "foo, bar"
   ]
  },
  {
   "cell_type": "code",
   "execution_count": null,
   "metadata": {},
   "outputs": [],
   "source": [
    "from room_env.envs.room2 import (\n",
    "    Object,\n",
    "    StaticObject,\n",
    "    IndepdentObject,\n",
    "    DependentObject,\n",
    "    Room,\n",
    "    RoomEnv2,\n",
    ")\n",
    "\n",
    "env = RoomEnv2(**config)\n",
    "(obs, question), info = env.reset()\n",
    "\n",
    "rewards = []\n",
    "while True:\n",
    "    (obs, question), reward, done, info = env.step(\"wall\", \"north\")\n",
    "    print(obs, question, reward, done, info)\n",
    "    rewards.append(reward)\n",
    "    if done:\n",
    "        break"
   ]
  },
  {
   "cell_type": "code",
   "execution_count": null,
   "metadata": {},
   "outputs": [],
   "source": [
    "from room_env.envs.room2 import (\n",
    "    Object,\n",
    "    StaticObject,\n",
    "    IndepdentObject,\n",
    "    DependentObject,\n",
    "    Room,\n",
    "    RoomEnv2,\n",
    ")\n",
    "\n",
    "env = RoomEnv2(**config)\n",
    "(obs, question), info = env.reset()\n",
    "\n",
    "obs, question"
   ]
  },
  {
   "cell_type": "code",
   "execution_count": null,
   "metadata": {},
   "outputs": [],
   "source": [
    "rewards = []\n",
    "while True:\n",
    "    (obs, question), reward, done, info = env.step(\"wall\", \"north\")\n",
    "    print(obs, question, reward, done, info)\n",
    "    rewards.append(reward)\n",
    "    if done:\n",
    "        break"
   ]
  },
  {
   "cell_type": "code",
   "execution_count": null,
   "metadata": {},
   "outputs": [],
   "source": [
    "len(rewards)"
   ]
  },
  {
   "cell_type": "code",
   "execution_count": null,
   "metadata": {},
   "outputs": [],
   "source": [
    "env.question"
   ]
  },
  {
   "cell_type": "code",
   "execution_count": null,
   "metadata": {},
   "outputs": [],
   "source": [
    "env._get_hidden_global_state()"
   ]
  },
  {
   "cell_type": "code",
   "execution_count": null,
   "metadata": {},
   "outputs": [],
   "source": [
    "(obs, question), reward, done, info = env.step(\"wall\", \"north\")\n",
    "(obs, question), reward, done, info"
   ]
  }
 ],
 "metadata": {
  "interpreter": {
   "hash": "c7c14ce45c674ffbe7e3a8bc18299264a1035542c780d18c0e8f0c585e044f28"
  },
  "kernelspec": {
   "display_name": "Python 3.8.12 ('dev-python3.8')",
   "language": "python",
   "name": "python3"
  },
  "language_info": {
   "codemirror_mode": {
    "name": "ipython",
    "version": 3
   },
   "file_extension": ".py",
   "mimetype": "text/x-python",
   "name": "python",
   "nbconvert_exporter": "python",
   "pygments_lexer": "ipython3",
   "version": "3.10.12"
  },
  "orig_nbformat": 4
 },
 "nbformat": 4,
 "nbformat_minor": 2
}
