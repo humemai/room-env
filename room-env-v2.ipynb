{
 "cells": [
  {
   "cell_type": "code",
   "execution_count": 1,
   "metadata": {},
   "outputs": [
    {
     "name": "stderr",
     "output_type": "stream",
     "text": [
      "/home/tk/.virtualenvs/human-memory/lib/python3.10/site-packages/gymnasium/envs/registration.py:481: UserWarning: \u001b[33mWARN: The environment creator metadata doesn't include `render_modes`, contains: ['render.modes']\u001b[0m\n",
      "  logger.warn(\n",
      "/home/tk/.virtualenvs/human-memory/lib/python3.10/site-packages/gymnasium/utils/passive_env_checker.py:168: DeprecationWarning: \u001b[33mWARN: Current gymnasium version requires that `Env.reset` can be passed a `seed` instead of using `Env.seed` for resetting the environment random number generator.\u001b[0m\n",
      "  logger.deprecation(\n",
      "/home/tk/.virtualenvs/human-memory/lib/python3.10/site-packages/gymnasium/utils/passive_env_checker.py:181: DeprecationWarning: \u001b[33mWARN: Current gymnasium version requires that `Env.reset` can be passed `options` to allow the environment initialisation to be passed additional information.\u001b[0m\n",
      "  logger.deprecation(\n",
      "/home/tk/.virtualenvs/human-memory/lib/python3.10/site-packages/gymnasium/utils/passive_env_checker.py:127: UserWarning: \u001b[33mWARN: The obs returned by the `reset()` method should be an int or np.int64, actual type: <class 'tuple'>\u001b[0m\n",
      "  logger.warn(f\"{pre} should be an int or np.int64, actual type: {type(obs)}\")\n",
      "/home/tk/.virtualenvs/human-memory/lib/python3.10/site-packages/gymnasium/utils/passive_env_checker.py:159: UserWarning: \u001b[33mWARN: The obs returned by the `reset()` method is not within the observation space.\u001b[0m\n",
      "  logger.warn(f\"{pre} is not within the observation space.\")\n",
      "/home/tk/.virtualenvs/human-memory/lib/python3.10/site-packages/gymnasium/utils/passive_env_checker.py:127: UserWarning: \u001b[33mWARN: The obs returned by the `step()` method should be an int or np.int64, actual type: <class 'tuple'>\u001b[0m\n",
      "  logger.warn(f\"{pre} should be an int or np.int64, actual type: {type(obs)}\")\n",
      "/home/tk/.virtualenvs/human-memory/lib/python3.10/site-packages/gymnasium/utils/passive_env_checker.py:159: UserWarning: \u001b[33mWARN: The obs returned by the `step()` method is not within the observation space.\u001b[0m\n",
      "  logger.warn(f\"{pre} is not within the observation space.\")\n"
     ]
    }
   ],
   "source": [
    "import gymnasium as gym\n",
    "import random\n",
    "\n",
    "env = gym.make(\"room_env:RoomEnv-v2\")\n",
    "(obs, question), info = env.reset()\n",
    "while True:\n",
    "    action_qa = question[0]\n",
    "    action_explore = random.choice([\"north\", \"east\", \"south\", \"west\", \"stay\"])\n",
    "    (obs, question), reward, done, truncated, info = env.step((\"wall\", action_explore))\n",
    "    if done:\n",
    "        break"
   ]
  },
  {
   "cell_type": "code",
   "execution_count": 2,
   "metadata": {},
   "outputs": [
    {
     "name": "stderr",
     "output_type": "stream",
     "text": [
      "/home/tk/.virtualenvs/human-memory/lib/python3.10/site-packages/gymnasium/core.py:311: UserWarning: \u001b[33mWARN: env.get_observations_and_question to get variables from other wrappers is deprecated and will be removed in v1.0, to get this variable you can do `env.unwrapped.get_observations_and_question` for environment variables or `env.get_wrapper_attr('get_observations_and_question')` that will search the reminding wrappers.\u001b[0m\n",
      "  logger.warn(\n"
     ]
    },
    {
     "data": {
      "text/plain": [
       "([['bedroom', 'north', 'livingroom', 100],\n",
       "  ['bedroom', 'east', 'wall', 100],\n",
       "  ['bedroom', 'south', 'wall', 100],\n",
       "  ['bedroom', 'west', 'wall', 100],\n",
       "  ['bed', 'atlocation', 'bedroom', 100],\n",
       "  ['michael', 'atlocation', 'bedroom', 100],\n",
       "  ['vincent', 'atlocation', 'bedroom', 100],\n",
       "  ['headset', 'atlocation', 'bedroom', 100],\n",
       "  ['agent', 'atlocation', 'bedroom', 100]],\n",
       " ['table', '?', 'livingroom', 100])"
      ]
     },
     "execution_count": 2,
     "metadata": {},
     "output_type": "execute_result"
    }
   ],
   "source": [
    "observations, question = env.get_observations_and_question()\n",
    "observations, question"
   ]
  },
  {
   "cell_type": "code",
   "execution_count": 3,
   "metadata": {},
   "outputs": [
    {
     "name": "stderr",
     "output_type": "stream",
     "text": [
      "/home/tk/.virtualenvs/human-memory/lib/python3.10/site-packages/gymnasium/core.py:311: UserWarning: \u001b[33mWARN: env.observations to get variables from other wrappers is deprecated and will be removed in v1.0, to get this variable you can do `env.unwrapped.observations` for environment variables or `env.get_wrapper_attr('observations')` that will search the reminding wrappers.\u001b[0m\n",
      "  logger.warn(\n",
      "/home/tk/.virtualenvs/human-memory/lib/python3.10/site-packages/gymnasium/core.py:311: UserWarning: \u001b[33mWARN: env.question to get variables from other wrappers is deprecated and will be removed in v1.0, to get this variable you can do `env.unwrapped.question` for environment variables or `env.get_wrapper_attr('question')` that will search the reminding wrappers.\u001b[0m\n",
      "  logger.warn(\n"
     ]
    },
    {
     "data": {
      "text/plain": [
       "([['bedroom', 'north', 'livingroom', 100],\n",
       "  ['bedroom', 'east', 'wall', 100],\n",
       "  ['bedroom', 'south', 'wall', 100],\n",
       "  ['bedroom', 'west', 'wall', 100],\n",
       "  ['bed', 'atlocation', 'bedroom', 100],\n",
       "  ['michael', 'atlocation', 'bedroom', 100],\n",
       "  ['vincent', 'atlocation', 'bedroom', 100],\n",
       "  ['headset', 'atlocation', 'bedroom', 100],\n",
       "  ['agent', 'atlocation', 'bedroom', 100]],\n",
       " ['table', '?', 'livingroom', 100])"
      ]
     },
     "execution_count": 3,
     "metadata": {},
     "output_type": "execute_result"
    }
   ],
   "source": [
    "env.observations, env.question"
   ]
  },
  {
   "cell_type": "code",
   "execution_count": 4,
   "metadata": {},
   "outputs": [
    {
     "data": {
      "text/plain": [
       "([['bedroom', 'north', 'livingroom', 100],\n",
       "  ['bedroom', 'east', 'wall', 100],\n",
       "  ['bedroom', 'south', 'wall', 100],\n",
       "  ['bedroom', 'west', 'wall', 100],\n",
       "  ['bed', 'atlocation', 'bedroom', 100],\n",
       "  ['michael', 'atlocation', 'bedroom', 100],\n",
       "  ['vincent', 'atlocation', 'bedroom', 100],\n",
       "  ['headset', 'atlocation', 'bedroom', 100],\n",
       "  ['agent', 'atlocation', 'bedroom', 100],\n",
       "  [1, 2, 3]],\n",
       " ['table', '?', 'fuck', 100])"
      ]
     },
     "execution_count": 4,
     "metadata": {},
     "output_type": "execute_result"
    }
   ],
   "source": [
    "observations.append([1, 2, 3])\n",
    "question[2] = \"fuck\"\n",
    "\n",
    "observations, question"
   ]
  },
  {
   "cell_type": "code",
   "execution_count": 5,
   "metadata": {},
   "outputs": [
    {
     "data": {
      "text/plain": [
       "([['bedroom', 'north', 'livingroom', 100],\n",
       "  ['bedroom', 'east', 'wall', 100],\n",
       "  ['bedroom', 'south', 'wall', 100],\n",
       "  ['bedroom', 'west', 'wall', 100],\n",
       "  ['bed', 'atlocation', 'bedroom', 100],\n",
       "  ['michael', 'atlocation', 'bedroom', 100],\n",
       "  ['vincent', 'atlocation', 'bedroom', 100],\n",
       "  ['headset', 'atlocation', 'bedroom', 100],\n",
       "  ['agent', 'atlocation', 'bedroom', 100]],\n",
       " ['table', '?', 'livingroom', 100])"
      ]
     },
     "execution_count": 5,
     "metadata": {},
     "output_type": "execute_result"
    }
   ],
   "source": [
    "env.observations, env.question"
   ]
  },
  {
   "cell_type": "code",
   "execution_count": 39,
   "metadata": {},
   "outputs": [
    {
     "data": {
      "text/plain": [
       "({'arg': 'bar'}, {'arg': 'foo'})"
      ]
     },
     "execution_count": 39,
     "metadata": {},
     "output_type": "execute_result"
    }
   ],
   "source": [
    "class Foo:\n",
    "    def __init__(self, arg) -> None:\n",
    "        self.arg = arg\n",
    "\n",
    "    def get_arg(self):\n",
    "        return self.arg\n",
    "\n",
    "\n",
    "foo = Foo({\"arg\": \"foo\"})\n",
    "bar = foo.get_arg()\n",
    "foo.arg = {\"arg\": \"bar\"}\n",
    "\n",
    "foo.arg, bar"
   ]
  },
  {
   "cell_type": "code",
   "execution_count": 26,
   "metadata": {},
   "outputs": [
    {
     "data": {
      "text/plain": [
       "(['foo', 'bar'], {'answers': ['foo', 'bar']})"
      ]
     },
     "execution_count": 26,
     "metadata": {},
     "output_type": "execute_result"
    }
   ],
   "source": [
    "foo = [\"foo\"]\n",
    "bar = {\"answers\": foo}\n",
    "\n",
    "bar[\"answers\"].append(\"bar\")\n",
    "\n",
    "\n",
    "foo, bar"
   ]
  },
  {
   "cell_type": "code",
   "execution_count": null,
   "metadata": {},
   "outputs": [],
   "source": [
    "from room_env.envs.room2 import (\n",
    "    Object,\n",
    "    StaticObject,\n",
    "    IndepdentObject,\n",
    "    DependentObject,\n",
    "    Room,\n",
    "    RoomEnv2,\n",
    ")\n",
    "\n",
    "env = RoomEnv2(**config)\n",
    "(obs, question), info = env.reset()\n",
    "\n",
    "rewards = []\n",
    "while True:\n",
    "    (obs, question), reward, done, info = env.step(\"wall\", \"north\")\n",
    "    print(obs, question, reward, done, info)\n",
    "    rewards.append(reward)\n",
    "    if done:\n",
    "        break"
   ]
  },
  {
   "cell_type": "code",
   "execution_count": null,
   "metadata": {},
   "outputs": [],
   "source": [
    "from room_env.envs.room2 import (\n",
    "    Object,\n",
    "    StaticObject,\n",
    "    IndepdentObject,\n",
    "    DependentObject,\n",
    "    Room,\n",
    "    RoomEnv2,\n",
    ")\n",
    "\n",
    "env = RoomEnv2(**config)\n",
    "(obs, question), info = env.reset()\n",
    "\n",
    "obs, question"
   ]
  },
  {
   "cell_type": "code",
   "execution_count": null,
   "metadata": {},
   "outputs": [],
   "source": [
    "rewards = []\n",
    "while True:\n",
    "    (obs, question), reward, done, info = env.step(\"wall\", \"north\")\n",
    "    print(obs, question, reward, done, info)\n",
    "    rewards.append(reward)\n",
    "    if done:\n",
    "        break"
   ]
  },
  {
   "cell_type": "code",
   "execution_count": null,
   "metadata": {},
   "outputs": [],
   "source": [
    "len(rewards)"
   ]
  },
  {
   "cell_type": "code",
   "execution_count": null,
   "metadata": {},
   "outputs": [],
   "source": [
    "env.question"
   ]
  },
  {
   "cell_type": "code",
   "execution_count": null,
   "metadata": {},
   "outputs": [],
   "source": [
    "env._get_hidden_global_state()"
   ]
  },
  {
   "cell_type": "code",
   "execution_count": null,
   "metadata": {},
   "outputs": [],
   "source": [
    "(obs, question), reward, done, info = env.step(\"wall\", \"north\")\n",
    "(obs, question), reward, done, info"
   ]
  }
 ],
 "metadata": {
  "interpreter": {
   "hash": "c7c14ce45c674ffbe7e3a8bc18299264a1035542c780d18c0e8f0c585e044f28"
  },
  "kernelspec": {
   "display_name": "Python 3.8.12 ('dev-python3.8')",
   "language": "python",
   "name": "python3"
  },
  "language_info": {
   "codemirror_mode": {
    "name": "ipython",
    "version": 3
   },
   "file_extension": ".py",
   "mimetype": "text/x-python",
   "name": "python",
   "nbconvert_exporter": "python",
   "pygments_lexer": "ipython3",
   "version": "3.10.12"
  },
  "orig_nbformat": 4
 },
 "nbformat": 4,
 "nbformat_minor": 2
}
