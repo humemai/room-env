{
 "cells": [
  {
   "cell_type": "code",
   "execution_count": 1,
   "metadata": {},
   "outputs": [],
   "source": [
    "room_config = {\n",
    "    \"officeroom\": {\n",
    "        \"north\": \"wall\",\n",
    "        \"east\": \"livingroom\",\n",
    "        \"south\": \"wall\",\n",
    "        \"west\": \"wall\",\n",
    "    },\n",
    "    \"livingroom\": {\n",
    "        \"north\": \"wall\",\n",
    "        \"east\": \"wall\",\n",
    "        \"south\": \"bedroom\",\n",
    "        \"west\": \"officeroom\",\n",
    "    },\n",
    "    \"bedroom\": {\n",
    "        \"north\": \"livingroom\",\n",
    "        \"east\": \"wall\",\n",
    "        \"south\": \"wall\",\n",
    "        \"west\": \"wall\",\n",
    "    },\n",
    "}\n",
    "\n",
    "\n",
    "object_transition_config = {\n",
    "    \"static\": {\"bed\": None, \"desk\": None, \"table\": None},\n",
    "    \"independent\": {\n",
    "        \"tae\": {\n",
    "            \"officeroom\": {\"north\": 0, \"east\": 0.1, \"south\": 0, \"west\": 0, \"stay\": 0.9},\n",
    "            \"livingroom\": {\n",
    "                \"north\": 0,\n",
    "                \"east\": 0,\n",
    "                \"south\": 0,\n",
    "                \"west\": 0.1,\n",
    "                \"stay\": 0.9,\n",
    "            },\n",
    "            \"bedroom\": {\"north\": 0, \"east\": 0, \"south\": 0, \"west\": 0, \"stay\": 0},\n",
    "        },\n",
    "        \"michael\": {\n",
    "            \"officeroom\": {\n",
    "                \"north\": 0,\n",
    "                \"east\": 0,\n",
    "                \"south\": 0,\n",
    "                \"west\": 0,\n",
    "                \"stay\": 0,\n",
    "            },\n",
    "            \"livingroom\": {\n",
    "                \"north\": 0,\n",
    "                \"east\": 0,\n",
    "                \"south\": 0.9,\n",
    "                \"west\": 0,\n",
    "                \"stay\": 0.1,\n",
    "            },\n",
    "            \"bedroom\": {\"north\": 0.1, \"east\": 0, \"south\": 0, \"west\": 0, \"stay\": 0.9},\n",
    "        },\n",
    "        \"vincent\": {\n",
    "            \"officeroom\": {\n",
    "                \"north\": 0,\n",
    "                \"east\": 0.5,\n",
    "                \"south\": 0,\n",
    "                \"west\": 0,\n",
    "                \"stay\": 0.5,\n",
    "            },\n",
    "            \"livingroom\": {\n",
    "                \"north\": 0,\n",
    "                \"east\": 0,\n",
    "                \"south\": 0.333,\n",
    "                \"west\": 0.333,\n",
    "                \"stay\": 0.333,\n",
    "            },\n",
    "            \"bedroom\": {\n",
    "                \"north\": 0.5,\n",
    "                \"east\": 0,\n",
    "                \"south\": 0,\n",
    "                \"west\": 0,\n",
    "                \"stay\": 0.5,\n",
    "            },\n",
    "        },\n",
    "    },\n",
    "    \"dependent\": {\n",
    "        \"laptop\": {\"tae\": 0.7, \"michael\": 0.4, \"vincent\": 0.1},\n",
    "        \"phone\": {\"tae\": 0.1, \"michael\": 0.7, \"vincent\": 0.4},\n",
    "        \"headset\": {\"tae\": 0.4, \"michael\": 0.1, \"vincent\": 0.9},\n",
    "    },\n",
    "    \"agent\": {\n",
    "        \"agent\": {\"officeroom\": None, \"livingroom\": None, \"bedroom\": None},\n",
    "    },\n",
    "}\n",
    "\n",
    "object_init_config = {\n",
    "    \"static\": {\n",
    "        \"bed\": {\"officeroom\": 0, \"livingroom\": 0, \"bedroom\": 1},\n",
    "        \"desk\": {\"officeroom\": 1, \"livingroom\": 0, \"bedroom\": 0},\n",
    "        \"table\": {\"officeroom\": 0, \"livingroom\": 1, \"bedroom\": 0},\n",
    "    },\n",
    "    \"independent\": {\n",
    "        \"tae\": {\"officeroom\": 0.5, \"livingroom\": 0.5, \"bedroom\": 0},\n",
    "        \"michael\": {\"officeroom\": 0, \"livingroom\": 0.5, \"bedroom\": 0.5},\n",
    "        \"vincent\": {\"officeroom\": 0.333, \"livingroom\": 0.333, \"bedroom\": 0.333},\n",
    "    },\n",
    "    \"dependent\": {\n",
    "        \"laptop\": {\"officeroom\": 0.333, \"livingroom\": 0.333, \"bedroom\": 0.333},\n",
    "        \"phone\": {\"officeroom\": 0.333, \"livingroom\": 0.333, \"bedroom\": 0.333},\n",
    "        \"headset\": {\"officeroom\": 0.333, \"livingroom\": 0.333, \"bedroom\": 0.333},\n",
    "    },\n",
    "    \"agent\": {\n",
    "        \"agent\": {\"officeroom\": 0.333, \"livingroom\": 0.333, \"bedroom\": 0.333},\n",
    "    },\n",
    "}\n",
    "\n",
    "config = {\n",
    "    \"room_config\": room_config,\n",
    "    \"object_transition_config\": object_transition_config,\n",
    "    \"object_init_config\": object_init_config,\n",
    "    \"question_prob\": 1.0,\n",
    "    \"seed\": 42,\n",
    "    \"terminates_at\": 99,\n",
    "}"
   ]
  },
  {
   "cell_type": "code",
   "execution_count": 2,
   "metadata": {},
   "outputs": [
    {
     "name": "stderr",
     "output_type": "stream",
     "text": [
      "/home/tk/.virtualenvs/human-memory/lib/python3.9/site-packages/gymnasium/envs/registration.py:491: UserWarning: \u001b[33mWARN: The environment creator metadata doesn't include `render_modes`, contains: ['render.modes']\u001b[0m\n",
      "  logger.warn(\n",
      "/home/tk/.virtualenvs/human-memory/lib/python3.9/site-packages/gymnasium/utils/passive_env_checker.py:197: DeprecationWarning: \u001b[33mWARN: Current gymnasium version requires that `Env.reset` can be passed a `seed` instead of using `Env.seed` for resetting the environment random number generator.\u001b[0m\n",
      "  logger.deprecation(\n",
      "/home/tk/.virtualenvs/human-memory/lib/python3.9/site-packages/gymnasium/utils/passive_env_checker.py:210: DeprecationWarning: \u001b[33mWARN: Current gymnasium version requires that `Env.reset` can be passed `options` to allow the environment initialisation to be passed additional information.\u001b[0m\n",
      "  logger.deprecation(\n",
      "/home/tk/.virtualenvs/human-memory/lib/python3.9/site-packages/gymnasium/utils/passive_env_checker.py:156: UserWarning: \u001b[33mWARN: The obs returned by the `reset()` method should be an int or np.int64, actual type: <class 'tuple'>\u001b[0m\n",
      "  logger.warn(f\"{pre} should be an int or np.int64, actual type: {type(obs)}\")\n",
      "/home/tk/.virtualenvs/human-memory/lib/python3.9/site-packages/gymnasium/utils/passive_env_checker.py:188: UserWarning: \u001b[33mWARN: The obs returned by the `reset()` method is not within the observation space.\u001b[0m\n",
      "  logger.warn(f\"{pre} is not within the observation space.\")\n",
      "/home/tk/.virtualenvs/human-memory/lib/python3.9/site-packages/gymnasium/utils/passive_env_checker.py:156: UserWarning: \u001b[33mWARN: The obs returned by the `step()` method should be an int or np.int64, actual type: <class 'tuple'>\u001b[0m\n",
      "  logger.warn(f\"{pre} should be an int or np.int64, actual type: {type(obs)}\")\n",
      "/home/tk/.virtualenvs/human-memory/lib/python3.9/site-packages/gymnasium/utils/passive_env_checker.py:188: UserWarning: \u001b[33mWARN: The obs returned by the `step()` method is not within the observation space.\u001b[0m\n",
      "  logger.warn(f\"{pre} is not within the observation space.\")\n"
     ]
    }
   ],
   "source": [
    "import gymnasium as gym\n",
    "import random\n",
    "\n",
    "env = gym.make(\"room_env:RoomEnv-v2\", **config)\n",
    "(obs, question), info = env.reset()\n",
    "while True:\n",
    "    action_qa = question[0]\n",
    "    action_explore = random.choice([\"north\", \"east\", \"south\", \"west\", \"stay\"])\n",
    "    (obs, question), reward, done, truncated, info = env.step((\"wall\", action_explore))\n",
    "    if done:\n",
    "        break"
   ]
  },
  {
   "cell_type": "code",
   "execution_count": 3,
   "metadata": {},
   "outputs": [
    {
     "name": "stdout",
     "output_type": "stream",
     "text": [
      "Foo\n"
     ]
    }
   ],
   "source": [
    "env.stepp()"
   ]
  },
  {
   "cell_type": "code",
   "execution_count": 7,
   "metadata": {},
   "outputs": [
    {
     "data": {
      "text/plain": [
       "['totheeast', 'tothesouth', 'tothewest']"
      ]
     },
     "execution_count": 7,
     "metadata": {},
     "output_type": "execute_result"
    }
   ],
   "source": [
    "env.answers"
   ]
  },
  {
   "cell_type": "code",
   "execution_count": 5,
   "metadata": {},
   "outputs": [
    {
     "name": "stdout",
     "output_type": "stream",
     "text": [
      "[['livingroom', 'tothenorth', 'wall', 1], ['livingroom', 'totheeast', 'wall', 1], ['livingroom', 'tothesouth', 'bedroom', 1], ['livingroom', 'tothewest', 'officeroom', 1], ['table', 'atlocation', 'livingroom', 1], ['agent', 'atlocation', 'livingroom', 1]] ['?', 'atlocation', 'livingroom', 1] -1 False {}\n",
      "[['livingroom', 'tothenorth', 'wall', 2], ['livingroom', 'totheeast', 'wall', 2], ['livingroom', 'tothesouth', 'bedroom', 2], ['livingroom', 'tothewest', 'officeroom', 2], ['table', 'atlocation', 'livingroom', 2], ['agent', 'atlocation', 'livingroom', 2]] ['phone', 'atlocation', '?', 2] -1 False {}\n",
      "[['livingroom', 'tothenorth', 'wall', 3], ['livingroom', 'totheeast', 'wall', 3], ['livingroom', 'tothesouth', 'bedroom', 3], ['livingroom', 'tothewest', 'officeroom', 3], ['table', 'atlocation', 'livingroom', 3], ['vincent', 'atlocation', 'livingroom', 3], ['phone', 'atlocation', 'livingroom', 3], ['headset', 'atlocation', 'livingroom', 3], ['agent', 'atlocation', 'livingroom', 3]] ['?', 'totheeast', 'livingroom', 3] -1 False {}\n",
      "[['livingroom', 'tothenorth', 'wall', 4], ['livingroom', 'totheeast', 'wall', 4], ['livingroom', 'tothesouth', 'bedroom', 4], ['livingroom', 'tothewest', 'officeroom', 4], ['table', 'atlocation', 'livingroom', 4], ['phone', 'atlocation', 'livingroom', 4], ['agent', 'atlocation', 'livingroom', 4]] ['bed', 'atlocation', '?', 4] -1 False {}\n",
      "[['livingroom', 'tothenorth', 'wall', 5], ['livingroom', 'totheeast', 'wall', 5], ['livingroom', 'tothesouth', 'bedroom', 5], ['livingroom', 'tothewest', 'officeroom', 5], ['table', 'atlocation', 'livingroom', 5], ['phone', 'atlocation', 'livingroom', 5], ['agent', 'atlocation', 'livingroom', 5]] ['livingroom', 'tothenorth', '?', 5] -1 False {}\n",
      "[['livingroom', 'tothenorth', 'wall', 6], ['livingroom', 'totheeast', 'wall', 6], ['livingroom', 'tothesouth', 'bedroom', 6], ['livingroom', 'tothewest', 'officeroom', 6], ['table', 'atlocation', 'livingroom', 6], ['vincent', 'atlocation', 'livingroom', 6], ['phone', 'atlocation', 'livingroom', 6], ['agent', 'atlocation', 'livingroom', 6]] ['phone', '?', 'livingroom', 6] 1 False {}\n",
      "[['livingroom', 'tothenorth', 'wall', 7], ['livingroom', 'totheeast', 'wall', 7], ['livingroom', 'tothesouth', 'bedroom', 7], ['livingroom', 'tothewest', 'officeroom', 7], ['table', 'atlocation', 'livingroom', 7], ['phone', 'atlocation', 'livingroom', 7], ['agent', 'atlocation', 'livingroom', 7]] ['officeroom', '?', 'wall', 7] -1 False {}\n",
      "[['livingroom', 'tothenorth', 'wall', 8], ['livingroom', 'totheeast', 'wall', 8], ['livingroom', 'tothesouth', 'bedroom', 8], ['livingroom', 'tothewest', 'officeroom', 8], ['table', 'atlocation', 'livingroom', 8], ['phone', 'atlocation', 'livingroom', 8], ['agent', 'atlocation', 'livingroom', 8]] ['headset', 'atlocation', '?', 8] -1 False {}\n",
      "[['livingroom', 'tothenorth', 'wall', 9], ['livingroom', 'totheeast', 'wall', 9], ['livingroom', 'tothesouth', 'bedroom', 9], ['livingroom', 'tothewest', 'officeroom', 9], ['table', 'atlocation', 'livingroom', 9], ['phone', 'atlocation', 'livingroom', 9], ['agent', 'atlocation', 'livingroom', 9]] ['officeroom', '?', 'wall', 9] -1 False {}\n",
      "[['livingroom', 'tothenorth', 'wall', 10], ['livingroom', 'totheeast', 'wall', 10], ['livingroom', 'tothesouth', 'bedroom', 10], ['livingroom', 'tothewest', 'officeroom', 10], ['table', 'atlocation', 'livingroom', 10], ['vincent', 'atlocation', 'livingroom', 10], ['phone', 'atlocation', 'livingroom', 10], ['agent', 'atlocation', 'livingroom', 10]] ['officeroom', 'tothesouth', '?', 10] -1 False {}\n",
      "[['livingroom', 'tothenorth', 'wall', 11], ['livingroom', 'totheeast', 'wall', 11], ['livingroom', 'tothesouth', 'bedroom', 11], ['livingroom', 'tothewest', 'officeroom', 11], ['table', 'atlocation', 'livingroom', 11], ['phone', 'atlocation', 'livingroom', 11], ['agent', 'atlocation', 'livingroom', 11]] ['vincent', 'atlocation', '?', 11] 1 False {}\n",
      "[['livingroom', 'tothenorth', 'wall', 12], ['livingroom', 'totheeast', 'wall', 12], ['livingroom', 'tothesouth', 'bedroom', 12], ['livingroom', 'tothewest', 'officeroom', 12], ['table', 'atlocation', 'livingroom', 12], ['phone', 'atlocation', 'livingroom', 12], ['agent', 'atlocation', 'livingroom', 12]] ['?', 'tothewest', 'officeroom', 12] -1 False {}\n",
      "[['livingroom', 'tothenorth', 'wall', 13], ['livingroom', 'totheeast', 'wall', 13], ['livingroom', 'tothesouth', 'bedroom', 13], ['livingroom', 'tothewest', 'officeroom', 13], ['table', 'atlocation', 'livingroom', 13], ['vincent', 'atlocation', 'livingroom', 13], ['phone', 'atlocation', 'livingroom', 13], ['agent', 'atlocation', 'livingroom', 13]] ['officeroom', 'tothesouth', '?', 13] -1 False {}\n",
      "[['livingroom', 'tothenorth', 'wall', 14], ['livingroom', 'totheeast', 'wall', 14], ['livingroom', 'tothesouth', 'bedroom', 14], ['livingroom', 'tothewest', 'officeroom', 14], ['table', 'atlocation', 'livingroom', 14], ['agent', 'atlocation', 'livingroom', 14]] ['bedroom', '?', 'wall', 14] 1 False {}\n",
      "[['livingroom', 'tothenorth', 'wall', 15], ['livingroom', 'totheeast', 'wall', 15], ['livingroom', 'tothesouth', 'bedroom', 15], ['livingroom', 'tothewest', 'officeroom', 15], ['table', 'atlocation', 'livingroom', 15], ['michael', 'atlocation', 'livingroom', 15], ['phone', 'atlocation', 'livingroom', 15], ['agent', 'atlocation', 'livingroom', 15]] ['?', 'tothewest', 'officeroom', 15] -1 False {}\n",
      "[['livingroom', 'tothenorth', 'wall', 16], ['livingroom', 'totheeast', 'wall', 16], ['livingroom', 'tothesouth', 'bedroom', 16], ['livingroom', 'tothewest', 'officeroom', 16], ['table', 'atlocation', 'livingroom', 16], ['vincent', 'atlocation', 'livingroom', 16], ['headset', 'atlocation', 'livingroom', 16], ['agent', 'atlocation', 'livingroom', 16]] ['?', 'tothesouth', 'wall', 16] -1 False {}\n",
      "[['livingroom', 'tothenorth', 'wall', 17], ['livingroom', 'totheeast', 'wall', 17], ['livingroom', 'tothesouth', 'bedroom', 17], ['livingroom', 'tothewest', 'officeroom', 17], ['table', 'atlocation', 'livingroom', 17], ['agent', 'atlocation', 'livingroom', 17]] ['bedroom', '?', 'wall', 17] -1 False {}\n",
      "[['livingroom', 'tothenorth', 'wall', 18], ['livingroom', 'totheeast', 'wall', 18], ['livingroom', 'tothesouth', 'bedroom', 18], ['livingroom', 'tothewest', 'officeroom', 18], ['table', 'atlocation', 'livingroom', 18], ['agent', 'atlocation', 'livingroom', 18]] ['?', 'tothesouth', 'wall', 18] -1 False {}\n",
      "[['livingroom', 'tothenorth', 'wall', 19], ['livingroom', 'totheeast', 'wall', 19], ['livingroom', 'tothesouth', 'bedroom', 19], ['livingroom', 'tothewest', 'officeroom', 19], ['table', 'atlocation', 'livingroom', 19], ['agent', 'atlocation', 'livingroom', 19]] ['?', 'atlocation', 'bedroom', 19] -1 False {}\n",
      "[['livingroom', 'tothenorth', 'wall', 20], ['livingroom', 'totheeast', 'wall', 20], ['livingroom', 'tothesouth', 'bedroom', 20], ['livingroom', 'tothewest', 'officeroom', 20], ['table', 'atlocation', 'livingroom', 20], ['vincent', 'atlocation', 'livingroom', 20], ['agent', 'atlocation', 'livingroom', 20]] ['livingroom', '?', 'officeroom', 20] -1 False {}\n",
      "[['livingroom', 'tothenorth', 'wall', 21], ['livingroom', 'totheeast', 'wall', 21], ['livingroom', 'tothesouth', 'bedroom', 21], ['livingroom', 'tothewest', 'officeroom', 21], ['table', 'atlocation', 'livingroom', 21], ['agent', 'atlocation', 'livingroom', 21]] ['michael', '?', 'bedroom', 21] -1 False {}\n",
      "[['livingroom', 'tothenorth', 'wall', 22], ['livingroom', 'totheeast', 'wall', 22], ['livingroom', 'tothesouth', 'bedroom', 22], ['livingroom', 'tothewest', 'officeroom', 22], ['table', 'atlocation', 'livingroom', 22], ['michael', 'atlocation', 'livingroom', 22], ['vincent', 'atlocation', 'livingroom', 22], ['laptop', 'atlocation', 'livingroom', 22], ['phone', 'atlocation', 'livingroom', 22], ['agent', 'atlocation', 'livingroom', 22]] ['vincent', '?', 'livingroom', 22] -1 False {}\n",
      "[['livingroom', 'tothenorth', 'wall', 23], ['livingroom', 'totheeast', 'wall', 23], ['livingroom', 'tothesouth', 'bedroom', 23], ['livingroom', 'tothewest', 'officeroom', 23], ['table', 'atlocation', 'livingroom', 23], ['agent', 'atlocation', 'livingroom', 23]] ['livingroom', 'tothesouth', '?', 23] -1 False {}\n",
      "[['livingroom', 'tothenorth', 'wall', 24], ['livingroom', 'totheeast', 'wall', 24], ['livingroom', 'tothesouth', 'bedroom', 24], ['livingroom', 'tothewest', 'officeroom', 24], ['table', 'atlocation', 'livingroom', 24], ['agent', 'atlocation', 'livingroom', 24]] ['headset', '?', 'officeroom', 24] -1 False {}\n",
      "[['livingroom', 'tothenorth', 'wall', 25], ['livingroom', 'totheeast', 'wall', 25], ['livingroom', 'tothesouth', 'bedroom', 25], ['livingroom', 'tothewest', 'officeroom', 25], ['table', 'atlocation', 'livingroom', 25], ['agent', 'atlocation', 'livingroom', 25]] ['officeroom', '?', 'livingroom', 25] -1 False {}\n",
      "[['livingroom', 'tothenorth', 'wall', 26], ['livingroom', 'totheeast', 'wall', 26], ['livingroom', 'tothesouth', 'bedroom', 26], ['livingroom', 'tothewest', 'officeroom', 26], ['table', 'atlocation', 'livingroom', 26], ['vincent', 'atlocation', 'livingroom', 26], ['agent', 'atlocation', 'livingroom', 26]] ['desk', 'atlocation', '?', 26] -1 False {}\n",
      "[['livingroom', 'tothenorth', 'wall', 27], ['livingroom', 'totheeast', 'wall', 27], ['livingroom', 'tothesouth', 'bedroom', 27], ['livingroom', 'tothewest', 'officeroom', 27], ['table', 'atlocation', 'livingroom', 27], ['agent', 'atlocation', 'livingroom', 27]] ['desk', 'atlocation', '?', 27] -1 False {}\n",
      "[['livingroom', 'tothenorth', 'wall', 28], ['livingroom', 'totheeast', 'wall', 28], ['livingroom', 'tothesouth', 'bedroom', 28], ['livingroom', 'tothewest', 'officeroom', 28], ['table', 'atlocation', 'livingroom', 28], ['agent', 'atlocation', 'livingroom', 28]] ['?', 'tothewest', 'officeroom', 28] -1 False {}\n",
      "[['livingroom', 'tothenorth', 'wall', 29], ['livingroom', 'totheeast', 'wall', 29], ['livingroom', 'tothesouth', 'bedroom', 29], ['livingroom', 'tothewest', 'officeroom', 29], ['table', 'atlocation', 'livingroom', 29], ['vincent', 'atlocation', 'livingroom', 29], ['agent', 'atlocation', 'livingroom', 29]] ['vincent', '?', 'livingroom', 29] -1 False {}\n",
      "[['livingroom', 'tothenorth', 'wall', 30], ['livingroom', 'totheeast', 'wall', 30], ['livingroom', 'tothesouth', 'bedroom', 30], ['livingroom', 'tothewest', 'officeroom', 30], ['table', 'atlocation', 'livingroom', 30], ['agent', 'atlocation', 'livingroom', 30]] ['?', 'atlocation', 'bedroom', 30] -1 False {}\n",
      "[['livingroom', 'tothenorth', 'wall', 31], ['livingroom', 'totheeast', 'wall', 31], ['livingroom', 'tothesouth', 'bedroom', 31], ['livingroom', 'tothewest', 'officeroom', 31], ['table', 'atlocation', 'livingroom', 31], ['agent', 'atlocation', 'livingroom', 31]] ['?', 'atlocation', 'livingroom', 31] -1 False {}\n",
      "[['livingroom', 'tothenorth', 'wall', 32], ['livingroom', 'totheeast', 'wall', 32], ['livingroom', 'tothesouth', 'bedroom', 32], ['livingroom', 'tothewest', 'officeroom', 32], ['table', 'atlocation', 'livingroom', 32], ['vincent', 'atlocation', 'livingroom', 32], ['phone', 'atlocation', 'livingroom', 32], ['agent', 'atlocation', 'livingroom', 32]] ['agent', 'atlocation', '?', 32] -1 False {}\n",
      "[['livingroom', 'tothenorth', 'wall', 33], ['livingroom', 'totheeast', 'wall', 33], ['livingroom', 'tothesouth', 'bedroom', 33], ['livingroom', 'tothewest', 'officeroom', 33], ['table', 'atlocation', 'livingroom', 33], ['agent', 'atlocation', 'livingroom', 33]] ['table', 'atlocation', '?', 33] -1 False {}\n",
      "[['livingroom', 'tothenorth', 'wall', 34], ['livingroom', 'totheeast', 'wall', 34], ['livingroom', 'tothesouth', 'bedroom', 34], ['livingroom', 'tothewest', 'officeroom', 34], ['table', 'atlocation', 'livingroom', 34], ['agent', 'atlocation', 'livingroom', 34]] ['agent', '?', 'livingroom', 34] -1 False {}\n",
      "[['livingroom', 'tothenorth', 'wall', 35], ['livingroom', 'totheeast', 'wall', 35], ['livingroom', 'tothesouth', 'bedroom', 35], ['livingroom', 'tothewest', 'officeroom', 35], ['table', 'atlocation', 'livingroom', 35], ['michael', 'atlocation', 'livingroom', 35], ['vincent', 'atlocation', 'livingroom', 35], ['laptop', 'atlocation', 'livingroom', 35], ['headset', 'atlocation', 'livingroom', 35], ['agent', 'atlocation', 'livingroom', 35]] ['tae', '?', 'officeroom', 35] -1 False {}\n",
      "[['livingroom', 'tothenorth', 'wall', 36], ['livingroom', 'totheeast', 'wall', 36], ['livingroom', 'tothesouth', 'bedroom', 36], ['livingroom', 'tothewest', 'officeroom', 36], ['table', 'atlocation', 'livingroom', 36], ['vincent', 'atlocation', 'livingroom', 36], ['laptop', 'atlocation', 'livingroom', 36], ['headset', 'atlocation', 'livingroom', 36], ['agent', 'atlocation', 'livingroom', 36]] ['michael', '?', 'bedroom', 36] -1 False {}\n",
      "[['livingroom', 'tothenorth', 'wall', 37], ['livingroom', 'totheeast', 'wall', 37], ['livingroom', 'tothesouth', 'bedroom', 37], ['livingroom', 'tothewest', 'officeroom', 37], ['table', 'atlocation', 'livingroom', 37], ['laptop', 'atlocation', 'livingroom', 37], ['agent', 'atlocation', 'livingroom', 37]] ['phone', 'atlocation', '?', 37] -1 False {}\n",
      "[['livingroom', 'tothenorth', 'wall', 38], ['livingroom', 'totheeast', 'wall', 38], ['livingroom', 'tothesouth', 'bedroom', 38], ['livingroom', 'tothewest', 'officeroom', 38], ['table', 'atlocation', 'livingroom', 38], ['vincent', 'atlocation', 'livingroom', 38], ['laptop', 'atlocation', 'livingroom', 38], ['headset', 'atlocation', 'livingroom', 38], ['agent', 'atlocation', 'livingroom', 38]] ['headset', '?', 'livingroom', 38] -1 False {}\n",
      "[['livingroom', 'tothenorth', 'wall', 39], ['livingroom', 'totheeast', 'wall', 39], ['livingroom', 'tothesouth', 'bedroom', 39], ['livingroom', 'tothewest', 'officeroom', 39], ['table', 'atlocation', 'livingroom', 39], ['laptop', 'atlocation', 'livingroom', 39], ['agent', 'atlocation', 'livingroom', 39]] ['?', 'tothenorth', 'wall', 39] -1 False {}\n",
      "[['livingroom', 'tothenorth', 'wall', 40], ['livingroom', 'totheeast', 'wall', 40], ['livingroom', 'tothesouth', 'bedroom', 40], ['livingroom', 'tothewest', 'officeroom', 40], ['table', 'atlocation', 'livingroom', 40], ['vincent', 'atlocation', 'livingroom', 40], ['laptop', 'atlocation', 'livingroom', 40], ['headset', 'atlocation', 'livingroom', 40], ['agent', 'atlocation', 'livingroom', 40]] ['desk', '?', 'officeroom', 40] -1 False {}\n",
      "[['livingroom', 'tothenorth', 'wall', 41], ['livingroom', 'totheeast', 'wall', 41], ['livingroom', 'tothesouth', 'bedroom', 41], ['livingroom', 'tothewest', 'officeroom', 41], ['table', 'atlocation', 'livingroom', 41], ['vincent', 'atlocation', 'livingroom', 41], ['laptop', 'atlocation', 'livingroom', 41], ['headset', 'atlocation', 'livingroom', 41], ['agent', 'atlocation', 'livingroom', 41]] ['bedroom', '?', 'wall', 41] -1 False {}\n",
      "[['livingroom', 'tothenorth', 'wall', 42], ['livingroom', 'totheeast', 'wall', 42], ['livingroom', 'tothesouth', 'bedroom', 42], ['livingroom', 'tothewest', 'officeroom', 42], ['table', 'atlocation', 'livingroom', 42], ['vincent', 'atlocation', 'livingroom', 42], ['laptop', 'atlocation', 'livingroom', 42], ['headset', 'atlocation', 'livingroom', 42], ['agent', 'atlocation', 'livingroom', 42]] ['bedroom', '?', 'livingroom', 42] -1 False {}\n",
      "[['livingroom', 'tothenorth', 'wall', 43], ['livingroom', 'totheeast', 'wall', 43], ['livingroom', 'tothesouth', 'bedroom', 43], ['livingroom', 'tothewest', 'officeroom', 43], ['table', 'atlocation', 'livingroom', 43], ['vincent', 'atlocation', 'livingroom', 43], ['laptop', 'atlocation', 'livingroom', 43], ['headset', 'atlocation', 'livingroom', 43], ['agent', 'atlocation', 'livingroom', 43]] ['phone', 'atlocation', '?', 43] -1 False {}\n",
      "[['livingroom', 'tothenorth', 'wall', 44], ['livingroom', 'totheeast', 'wall', 44], ['livingroom', 'tothesouth', 'bedroom', 44], ['livingroom', 'tothewest', 'officeroom', 44], ['table', 'atlocation', 'livingroom', 44], ['laptop', 'atlocation', 'livingroom', 44], ['headset', 'atlocation', 'livingroom', 44], ['agent', 'atlocation', 'livingroom', 44]] ['livingroom', '?', 'wall', 44] -1 False {}\n",
      "[['livingroom', 'tothenorth', 'wall', 45], ['livingroom', 'totheeast', 'wall', 45], ['livingroom', 'tothesouth', 'bedroom', 45], ['livingroom', 'tothewest', 'officeroom', 45], ['table', 'atlocation', 'livingroom', 45], ['vincent', 'atlocation', 'livingroom', 45], ['laptop', 'atlocation', 'livingroom', 45], ['headset', 'atlocation', 'livingroom', 45], ['agent', 'atlocation', 'livingroom', 45]] ['?', 'tothenorth', 'livingroom', 45] -1 False {}\n",
      "[['livingroom', 'tothenorth', 'wall', 46], ['livingroom', 'totheeast', 'wall', 46], ['livingroom', 'tothesouth', 'bedroom', 46], ['livingroom', 'tothewest', 'officeroom', 46], ['table', 'atlocation', 'livingroom', 46], ['michael', 'atlocation', 'livingroom', 46], ['vincent', 'atlocation', 'livingroom', 46], ['laptop', 'atlocation', 'livingroom', 46], ['headset', 'atlocation', 'livingroom', 46], ['agent', 'atlocation', 'livingroom', 46]] ['?', 'atlocation', 'officeroom', 46] -1 False {}\n",
      "[['livingroom', 'tothenorth', 'wall', 47], ['livingroom', 'totheeast', 'wall', 47], ['livingroom', 'tothesouth', 'bedroom', 47], ['livingroom', 'tothewest', 'officeroom', 47], ['table', 'atlocation', 'livingroom', 47], ['vincent', 'atlocation', 'livingroom', 47], ['headset', 'atlocation', 'livingroom', 47], ['agent', 'atlocation', 'livingroom', 47]] ['livingroom', '?', 'wall', 47] -1 False {}\n",
      "[['livingroom', 'tothenorth', 'wall', 48], ['livingroom', 'totheeast', 'wall', 48], ['livingroom', 'tothesouth', 'bedroom', 48], ['livingroom', 'tothewest', 'officeroom', 48], ['table', 'atlocation', 'livingroom', 48], ['tae', 'atlocation', 'livingroom', 48], ['vincent', 'atlocation', 'livingroom', 48], ['headset', 'atlocation', 'livingroom', 48], ['agent', 'atlocation', 'livingroom', 48]] ['laptop', 'atlocation', '?', 48] -1 False {}\n",
      "[['livingroom', 'tothenorth', 'wall', 49], ['livingroom', 'totheeast', 'wall', 49], ['livingroom', 'tothesouth', 'bedroom', 49], ['livingroom', 'tothewest', 'officeroom', 49], ['table', 'atlocation', 'livingroom', 49], ['tae', 'atlocation', 'livingroom', 49], ['headset', 'atlocation', 'livingroom', 49], ['agent', 'atlocation', 'livingroom', 49]] ['?', 'atlocation', 'bedroom', 49] -1 False {}\n",
      "[['livingroom', 'tothenorth', 'wall', 50], ['livingroom', 'totheeast', 'wall', 50], ['livingroom', 'tothesouth', 'bedroom', 50], ['livingroom', 'tothewest', 'officeroom', 50], ['table', 'atlocation', 'livingroom', 50], ['tae', 'atlocation', 'livingroom', 50], ['headset', 'atlocation', 'livingroom', 50], ['agent', 'atlocation', 'livingroom', 50]] ['headset', '?', 'livingroom', 50] -1 False {}\n",
      "[['livingroom', 'tothenorth', 'wall', 51], ['livingroom', 'totheeast', 'wall', 51], ['livingroom', 'tothesouth', 'bedroom', 51], ['livingroom', 'tothewest', 'officeroom', 51], ['table', 'atlocation', 'livingroom', 51], ['tae', 'atlocation', 'livingroom', 51], ['headset', 'atlocation', 'livingroom', 51], ['agent', 'atlocation', 'livingroom', 51]] ['laptop', '?', 'bedroom', 51] -1 False {}\n",
      "[['livingroom', 'tothenorth', 'wall', 52], ['livingroom', 'totheeast', 'wall', 52], ['livingroom', 'tothesouth', 'bedroom', 52], ['livingroom', 'tothewest', 'officeroom', 52], ['table', 'atlocation', 'livingroom', 52], ['tae', 'atlocation', 'livingroom', 52], ['vincent', 'atlocation', 'livingroom', 52], ['headset', 'atlocation', 'livingroom', 52], ['agent', 'atlocation', 'livingroom', 52]] ['?', 'tothesouth', 'wall', 52] -1 False {}\n",
      "[['livingroom', 'tothenorth', 'wall', 53], ['livingroom', 'totheeast', 'wall', 53], ['livingroom', 'tothesouth', 'bedroom', 53], ['livingroom', 'tothewest', 'officeroom', 53], ['table', 'atlocation', 'livingroom', 53], ['tae', 'atlocation', 'livingroom', 53], ['agent', 'atlocation', 'livingroom', 53]] ['?', 'atlocation', 'officeroom', 53] -1 False {}\n",
      "[['livingroom', 'tothenorth', 'wall', 54], ['livingroom', 'totheeast', 'wall', 54], ['livingroom', 'tothesouth', 'bedroom', 54], ['livingroom', 'tothewest', 'officeroom', 54], ['table', 'atlocation', 'livingroom', 54], ['tae', 'atlocation', 'livingroom', 54], ['vincent', 'atlocation', 'livingroom', 54], ['headset', 'atlocation', 'livingroom', 54], ['agent', 'atlocation', 'livingroom', 54]] ['?', 'atlocation', 'livingroom', 54] -1 False {}\n",
      "[['livingroom', 'tothenorth', 'wall', 55], ['livingroom', 'totheeast', 'wall', 55], ['livingroom', 'tothesouth', 'bedroom', 55], ['livingroom', 'tothewest', 'officeroom', 55], ['table', 'atlocation', 'livingroom', 55], ['tae', 'atlocation', 'livingroom', 55], ['agent', 'atlocation', 'livingroom', 55]] ['bedroom', 'tothewest', '?', 55] -1 False {}\n",
      "[['livingroom', 'tothenorth', 'wall', 56], ['livingroom', 'totheeast', 'wall', 56], ['livingroom', 'tothesouth', 'bedroom', 56], ['livingroom', 'tothewest', 'officeroom', 56], ['table', 'atlocation', 'livingroom', 56], ['tae', 'atlocation', 'livingroom', 56], ['agent', 'atlocation', 'livingroom', 56]] ['laptop', 'atlocation', '?', 56] 1 False {}\n",
      "[['livingroom', 'tothenorth', 'wall', 57], ['livingroom', 'totheeast', 'wall', 57], ['livingroom', 'tothesouth', 'bedroom', 57], ['livingroom', 'tothewest', 'officeroom', 57], ['table', 'atlocation', 'livingroom', 57], ['tae', 'atlocation', 'livingroom', 57], ['vincent', 'atlocation', 'livingroom', 57], ['headset', 'atlocation', 'livingroom', 57], ['agent', 'atlocation', 'livingroom', 57]] ['?', 'totheeast', 'livingroom', 57] -1 False {}\n",
      "[['livingroom', 'tothenorth', 'wall', 58], ['livingroom', 'totheeast', 'wall', 58], ['livingroom', 'tothesouth', 'bedroom', 58], ['livingroom', 'tothewest', 'officeroom', 58], ['table', 'atlocation', 'livingroom', 58], ['tae', 'atlocation', 'livingroom', 58], ['vincent', 'atlocation', 'livingroom', 58], ['headset', 'atlocation', 'livingroom', 58], ['agent', 'atlocation', 'livingroom', 58]] ['tae', '?', 'livingroom', 58] -1 False {}\n",
      "[['livingroom', 'tothenorth', 'wall', 59], ['livingroom', 'totheeast', 'wall', 59], ['livingroom', 'tothesouth', 'bedroom', 59], ['livingroom', 'tothewest', 'officeroom', 59], ['table', 'atlocation', 'livingroom', 59], ['tae', 'atlocation', 'livingroom', 59], ['vincent', 'atlocation', 'livingroom', 59], ['headset', 'atlocation', 'livingroom', 59], ['agent', 'atlocation', 'livingroom', 59]] ['?', 'tothenorth', 'wall', 59] -1 False {}\n",
      "[['livingroom', 'tothenorth', 'wall', 60], ['livingroom', 'totheeast', 'wall', 60], ['livingroom', 'tothesouth', 'bedroom', 60], ['livingroom', 'tothewest', 'officeroom', 60], ['table', 'atlocation', 'livingroom', 60], ['tae', 'atlocation', 'livingroom', 60], ['michael', 'atlocation', 'livingroom', 60], ['laptop', 'atlocation', 'livingroom', 60], ['agent', 'atlocation', 'livingroom', 60]] ['table', '?', 'livingroom', 60] -1 False {}\n",
      "[['livingroom', 'tothenorth', 'wall', 61], ['livingroom', 'totheeast', 'wall', 61], ['livingroom', 'tothesouth', 'bedroom', 61], ['livingroom', 'tothewest', 'officeroom', 61], ['table', 'atlocation', 'livingroom', 61], ['tae', 'atlocation', 'livingroom', 61], ['laptop', 'atlocation', 'livingroom', 61], ['agent', 'atlocation', 'livingroom', 61]] ['bedroom', 'tothenorth', '?', 61] -1 False {}\n",
      "[['livingroom', 'tothenorth', 'wall', 62], ['livingroom', 'totheeast', 'wall', 62], ['livingroom', 'tothesouth', 'bedroom', 62], ['livingroom', 'tothewest', 'officeroom', 62], ['table', 'atlocation', 'livingroom', 62], ['tae', 'atlocation', 'livingroom', 62], ['vincent', 'atlocation', 'livingroom', 62], ['laptop', 'atlocation', 'livingroom', 62], ['headset', 'atlocation', 'livingroom', 62], ['agent', 'atlocation', 'livingroom', 62]] ['?', 'atlocation', 'livingroom', 62] -1 False {}\n",
      "[['livingroom', 'tothenorth', 'wall', 63], ['livingroom', 'totheeast', 'wall', 63], ['livingroom', 'tothesouth', 'bedroom', 63], ['livingroom', 'tothewest', 'officeroom', 63], ['table', 'atlocation', 'livingroom', 63], ['tae', 'atlocation', 'livingroom', 63], ['laptop', 'atlocation', 'livingroom', 63], ['agent', 'atlocation', 'livingroom', 63]] ['?', 'tothenorth', 'livingroom', 63] -1 False {}\n",
      "[['livingroom', 'tothenorth', 'wall', 64], ['livingroom', 'totheeast', 'wall', 64], ['livingroom', 'tothesouth', 'bedroom', 64], ['livingroom', 'tothewest', 'officeroom', 64], ['table', 'atlocation', 'livingroom', 64], ['tae', 'atlocation', 'livingroom', 64], ['laptop', 'atlocation', 'livingroom', 64], ['agent', 'atlocation', 'livingroom', 64]] ['bed', '?', 'bedroom', 64] -1 False {}\n",
      "[['livingroom', 'tothenorth', 'wall', 65], ['livingroom', 'totheeast', 'wall', 65], ['livingroom', 'tothesouth', 'bedroom', 65], ['livingroom', 'tothewest', 'officeroom', 65], ['table', 'atlocation', 'livingroom', 65], ['tae', 'atlocation', 'livingroom', 65], ['michael', 'atlocation', 'livingroom', 65], ['vincent', 'atlocation', 'livingroom', 65], ['laptop', 'atlocation', 'livingroom', 65], ['headset', 'atlocation', 'livingroom', 65], ['agent', 'atlocation', 'livingroom', 65]] ['agent', '?', 'livingroom', 65] -1 False {}\n",
      "[['livingroom', 'tothenorth', 'wall', 66], ['livingroom', 'totheeast', 'wall', 66], ['livingroom', 'tothesouth', 'bedroom', 66], ['livingroom', 'tothewest', 'officeroom', 66], ['table', 'atlocation', 'livingroom', 66], ['tae', 'atlocation', 'livingroom', 66], ['laptop', 'atlocation', 'livingroom', 66], ['headset', 'atlocation', 'livingroom', 66], ['agent', 'atlocation', 'livingroom', 66]] ['?', 'atlocation', 'livingroom', 66] -1 False {}\n",
      "[['livingroom', 'tothenorth', 'wall', 67], ['livingroom', 'totheeast', 'wall', 67], ['livingroom', 'tothesouth', 'bedroom', 67], ['livingroom', 'tothewest', 'officeroom', 67], ['table', 'atlocation', 'livingroom', 67], ['tae', 'atlocation', 'livingroom', 67], ['vincent', 'atlocation', 'livingroom', 67], ['laptop', 'atlocation', 'livingroom', 67], ['phone', 'atlocation', 'livingroom', 67], ['headset', 'atlocation', 'livingroom', 67], ['agent', 'atlocation', 'livingroom', 67]] ['officeroom', '?', 'wall', 67] -1 False {}\n",
      "[['livingroom', 'tothenorth', 'wall', 68], ['livingroom', 'totheeast', 'wall', 68], ['livingroom', 'tothesouth', 'bedroom', 68], ['livingroom', 'tothewest', 'officeroom', 68], ['table', 'atlocation', 'livingroom', 68], ['tae', 'atlocation', 'livingroom', 68], ['vincent', 'atlocation', 'livingroom', 68], ['laptop', 'atlocation', 'livingroom', 68], ['phone', 'atlocation', 'livingroom', 68], ['headset', 'atlocation', 'livingroom', 68], ['agent', 'atlocation', 'livingroom', 68]] ['?', 'totheeast', 'livingroom', 68] -1 False {}\n",
      "[['livingroom', 'tothenorth', 'wall', 69], ['livingroom', 'totheeast', 'wall', 69], ['livingroom', 'tothesouth', 'bedroom', 69], ['livingroom', 'tothewest', 'officeroom', 69], ['table', 'atlocation', 'livingroom', 69], ['tae', 'atlocation', 'livingroom', 69], ['vincent', 'atlocation', 'livingroom', 69], ['laptop', 'atlocation', 'livingroom', 69], ['phone', 'atlocation', 'livingroom', 69], ['headset', 'atlocation', 'livingroom', 69], ['agent', 'atlocation', 'livingroom', 69]] ['?', 'atlocation', 'livingroom', 69] -1 False {}\n",
      "[['livingroom', 'tothenorth', 'wall', 70], ['livingroom', 'totheeast', 'wall', 70], ['livingroom', 'tothesouth', 'bedroom', 70], ['livingroom', 'tothewest', 'officeroom', 70], ['table', 'atlocation', 'livingroom', 70], ['tae', 'atlocation', 'livingroom', 70], ['laptop', 'atlocation', 'livingroom', 70], ['agent', 'atlocation', 'livingroom', 70]] ['livingroom', 'tothesouth', '?', 70] -1 False {}\n",
      "[['livingroom', 'tothenorth', 'wall', 71], ['livingroom', 'totheeast', 'wall', 71], ['livingroom', 'tothesouth', 'bedroom', 71], ['livingroom', 'tothewest', 'officeroom', 71], ['table', 'atlocation', 'livingroom', 71], ['tae', 'atlocation', 'livingroom', 71], ['vincent', 'atlocation', 'livingroom', 71], ['laptop', 'atlocation', 'livingroom', 71], ['headset', 'atlocation', 'livingroom', 71], ['agent', 'atlocation', 'livingroom', 71]] ['bedroom', 'totheeast', '?', 71] -1 False {}\n",
      "[['livingroom', 'tothenorth', 'wall', 72], ['livingroom', 'totheeast', 'wall', 72], ['livingroom', 'tothesouth', 'bedroom', 72], ['livingroom', 'tothewest', 'officeroom', 72], ['table', 'atlocation', 'livingroom', 72], ['tae', 'atlocation', 'livingroom', 72], ['laptop', 'atlocation', 'livingroom', 72], ['agent', 'atlocation', 'livingroom', 72]] ['livingroom', 'tothesouth', '?', 72] 1 False {}\n",
      "[['livingroom', 'tothenorth', 'wall', 73], ['livingroom', 'totheeast', 'wall', 73], ['livingroom', 'tothesouth', 'bedroom', 73], ['livingroom', 'tothewest', 'officeroom', 73], ['table', 'atlocation', 'livingroom', 73], ['tae', 'atlocation', 'livingroom', 73], ['vincent', 'atlocation', 'livingroom', 73], ['laptop', 'atlocation', 'livingroom', 73], ['headset', 'atlocation', 'livingroom', 73], ['agent', 'atlocation', 'livingroom', 73]] ['officeroom', '?', 'wall', 73] -1 False {}\n",
      "[['livingroom', 'tothenorth', 'wall', 74], ['livingroom', 'totheeast', 'wall', 74], ['livingroom', 'tothesouth', 'bedroom', 74], ['livingroom', 'tothewest', 'officeroom', 74], ['table', 'atlocation', 'livingroom', 74], ['tae', 'atlocation', 'livingroom', 74], ['michael', 'atlocation', 'livingroom', 74], ['laptop', 'atlocation', 'livingroom', 74], ['phone', 'atlocation', 'livingroom', 74], ['agent', 'atlocation', 'livingroom', 74]] ['?', 'atlocation', 'bedroom', 74] -1 False {}\n",
      "[['livingroom', 'tothenorth', 'wall', 75], ['livingroom', 'totheeast', 'wall', 75], ['livingroom', 'tothesouth', 'bedroom', 75], ['livingroom', 'tothewest', 'officeroom', 75], ['table', 'atlocation', 'livingroom', 75], ['tae', 'atlocation', 'livingroom', 75], ['vincent', 'atlocation', 'livingroom', 75], ['laptop', 'atlocation', 'livingroom', 75], ['phone', 'atlocation', 'livingroom', 75], ['headset', 'atlocation', 'livingroom', 75], ['agent', 'atlocation', 'livingroom', 75]] ['livingroom', 'tothewest', '?', 75] -1 False {}\n",
      "[['livingroom', 'tothenorth', 'wall', 76], ['livingroom', 'totheeast', 'wall', 76], ['livingroom', 'tothesouth', 'bedroom', 76], ['livingroom', 'tothewest', 'officeroom', 76], ['table', 'atlocation', 'livingroom', 76], ['tae', 'atlocation', 'livingroom', 76], ['vincent', 'atlocation', 'livingroom', 76], ['laptop', 'atlocation', 'livingroom', 76], ['phone', 'atlocation', 'livingroom', 76], ['headset', 'atlocation', 'livingroom', 76], ['agent', 'atlocation', 'livingroom', 76]] ['livingroom', 'tothewest', '?', 76] -1 False {}\n",
      "[['livingroom', 'tothenorth', 'wall', 77], ['livingroom', 'totheeast', 'wall', 77], ['livingroom', 'tothesouth', 'bedroom', 77], ['livingroom', 'tothewest', 'officeroom', 77], ['table', 'atlocation', 'livingroom', 77], ['tae', 'atlocation', 'livingroom', 77], ['laptop', 'atlocation', 'livingroom', 77], ['headset', 'atlocation', 'livingroom', 77], ['agent', 'atlocation', 'livingroom', 77]] ['table', '?', 'livingroom', 77] -1 False {}\n",
      "[['livingroom', 'tothenorth', 'wall', 78], ['livingroom', 'totheeast', 'wall', 78], ['livingroom', 'tothesouth', 'bedroom', 78], ['livingroom', 'tothewest', 'officeroom', 78], ['table', 'atlocation', 'livingroom', 78], ['tae', 'atlocation', 'livingroom', 78], ['vincent', 'atlocation', 'livingroom', 78], ['laptop', 'atlocation', 'livingroom', 78], ['headset', 'atlocation', 'livingroom', 78], ['agent', 'atlocation', 'livingroom', 78]] ['table', '?', 'livingroom', 78] -1 False {}\n",
      "[['livingroom', 'tothenorth', 'wall', 79], ['livingroom', 'totheeast', 'wall', 79], ['livingroom', 'tothesouth', 'bedroom', 79], ['livingroom', 'tothewest', 'officeroom', 79], ['table', 'atlocation', 'livingroom', 79], ['tae', 'atlocation', 'livingroom', 79], ['headset', 'atlocation', 'livingroom', 79], ['agent', 'atlocation', 'livingroom', 79]] ['phone', 'atlocation', '?', 79] -1 False {}\n",
      "[['livingroom', 'tothenorth', 'wall', 80], ['livingroom', 'totheeast', 'wall', 80], ['livingroom', 'tothesouth', 'bedroom', 80], ['livingroom', 'tothewest', 'officeroom', 80], ['table', 'atlocation', 'livingroom', 80], ['tae', 'atlocation', 'livingroom', 80], ['headset', 'atlocation', 'livingroom', 80], ['agent', 'atlocation', 'livingroom', 80]] ['headset', 'atlocation', '?', 80] -1 False {}\n",
      "[['livingroom', 'tothenorth', 'wall', 81], ['livingroom', 'totheeast', 'wall', 81], ['livingroom', 'tothesouth', 'bedroom', 81], ['livingroom', 'tothewest', 'officeroom', 81], ['table', 'atlocation', 'livingroom', 81], ['tae', 'atlocation', 'livingroom', 81], ['michael', 'atlocation', 'livingroom', 81], ['vincent', 'atlocation', 'livingroom', 81], ['phone', 'atlocation', 'livingroom', 81], ['headset', 'atlocation', 'livingroom', 81], ['agent', 'atlocation', 'livingroom', 81]] ['michael', 'atlocation', '?', 81] -1 False {}\n",
      "[['livingroom', 'tothenorth', 'wall', 82], ['livingroom', 'totheeast', 'wall', 82], ['livingroom', 'tothesouth', 'bedroom', 82], ['livingroom', 'tothewest', 'officeroom', 82], ['table', 'atlocation', 'livingroom', 82], ['tae', 'atlocation', 'livingroom', 82], ['vincent', 'atlocation', 'livingroom', 82], ['phone', 'atlocation', 'livingroom', 82], ['headset', 'atlocation', 'livingroom', 82], ['agent', 'atlocation', 'livingroom', 82]] ['?', 'tothenorth', 'wall', 82] -1 False {}\n",
      "[['livingroom', 'tothenorth', 'wall', 83], ['livingroom', 'totheeast', 'wall', 83], ['livingroom', 'tothesouth', 'bedroom', 83], ['livingroom', 'tothewest', 'officeroom', 83], ['table', 'atlocation', 'livingroom', 83], ['tae', 'atlocation', 'livingroom', 83], ['vincent', 'atlocation', 'livingroom', 83], ['phone', 'atlocation', 'livingroom', 83], ['headset', 'atlocation', 'livingroom', 83], ['agent', 'atlocation', 'livingroom', 83]] ['bedroom', 'tothewest', '?', 83] -1 False {}\n",
      "[['livingroom', 'tothenorth', 'wall', 84], ['livingroom', 'totheeast', 'wall', 84], ['livingroom', 'tothesouth', 'bedroom', 84], ['livingroom', 'tothewest', 'officeroom', 84], ['table', 'atlocation', 'livingroom', 84], ['tae', 'atlocation', 'livingroom', 84], ['phone', 'atlocation', 'livingroom', 84], ['agent', 'atlocation', 'livingroom', 84]] ['?', 'atlocation', 'livingroom', 84] 1 False {}\n",
      "[['livingroom', 'tothenorth', 'wall', 85], ['livingroom', 'totheeast', 'wall', 85], ['livingroom', 'tothesouth', 'bedroom', 85], ['livingroom', 'tothewest', 'officeroom', 85], ['table', 'atlocation', 'livingroom', 85], ['tae', 'atlocation', 'livingroom', 85], ['phone', 'atlocation', 'livingroom', 85], ['agent', 'atlocation', 'livingroom', 85]] ['bedroom', '?', 'wall', 85] -1 False {}\n",
      "[['livingroom', 'tothenorth', 'wall', 86], ['livingroom', 'totheeast', 'wall', 86], ['livingroom', 'tothesouth', 'bedroom', 86], ['livingroom', 'tothewest', 'officeroom', 86], ['table', 'atlocation', 'livingroom', 86], ['tae', 'atlocation', 'livingroom', 86], ['vincent', 'atlocation', 'livingroom', 86], ['phone', 'atlocation', 'livingroom', 86], ['headset', 'atlocation', 'livingroom', 86], ['agent', 'atlocation', 'livingroom', 86]] ['phone', '?', 'livingroom', 86] -1 False {}\n",
      "[['livingroom', 'tothenorth', 'wall', 87], ['livingroom', 'totheeast', 'wall', 87], ['livingroom', 'tothesouth', 'bedroom', 87], ['livingroom', 'tothewest', 'officeroom', 87], ['table', 'atlocation', 'livingroom', 87], ['tae', 'atlocation', 'livingroom', 87], ['phone', 'atlocation', 'livingroom', 87], ['agent', 'atlocation', 'livingroom', 87]] ['officeroom', '?', 'livingroom', 87] -1 False {}\n",
      "[['livingroom', 'tothenorth', 'wall', 88], ['livingroom', 'totheeast', 'wall', 88], ['livingroom', 'tothesouth', 'bedroom', 88], ['livingroom', 'tothewest', 'officeroom', 88], ['table', 'atlocation', 'livingroom', 88], ['tae', 'atlocation', 'livingroom', 88], ['phone', 'atlocation', 'livingroom', 88], ['agent', 'atlocation', 'livingroom', 88]] ['officeroom', 'tothesouth', '?', 88] -1 False {}\n",
      "[['livingroom', 'tothenorth', 'wall', 89], ['livingroom', 'totheeast', 'wall', 89], ['livingroom', 'tothesouth', 'bedroom', 89], ['livingroom', 'tothewest', 'officeroom', 89], ['table', 'atlocation', 'livingroom', 89], ['tae', 'atlocation', 'livingroom', 89], ['vincent', 'atlocation', 'livingroom', 89], ['phone', 'atlocation', 'livingroom', 89], ['headset', 'atlocation', 'livingroom', 89], ['agent', 'atlocation', 'livingroom', 89]] ['officeroom', 'tothewest', '?', 89] 1 False {}\n",
      "[['livingroom', 'tothenorth', 'wall', 90], ['livingroom', 'totheeast', 'wall', 90], ['livingroom', 'tothesouth', 'bedroom', 90], ['livingroom', 'tothewest', 'officeroom', 90], ['table', 'atlocation', 'livingroom', 90], ['tae', 'atlocation', 'livingroom', 90], ['vincent', 'atlocation', 'livingroom', 90], ['phone', 'atlocation', 'livingroom', 90], ['headset', 'atlocation', 'livingroom', 90], ['agent', 'atlocation', 'livingroom', 90]] ['tae', '?', 'livingroom', 90] 1 False {}\n",
      "[['livingroom', 'tothenorth', 'wall', 91], ['livingroom', 'totheeast', 'wall', 91], ['livingroom', 'tothesouth', 'bedroom', 91], ['livingroom', 'tothewest', 'officeroom', 91], ['table', 'atlocation', 'livingroom', 91], ['tae', 'atlocation', 'livingroom', 91], ['phone', 'atlocation', 'livingroom', 91], ['agent', 'atlocation', 'livingroom', 91]] ['officeroom', '?', 'livingroom', 91] -1 False {}\n",
      "[['livingroom', 'tothenorth', 'wall', 92], ['livingroom', 'totheeast', 'wall', 92], ['livingroom', 'tothesouth', 'bedroom', 92], ['livingroom', 'tothewest', 'officeroom', 92], ['table', 'atlocation', 'livingroom', 92], ['tae', 'atlocation', 'livingroom', 92], ['phone', 'atlocation', 'livingroom', 92], ['agent', 'atlocation', 'livingroom', 92]] ['?', 'tothesouth', 'wall', 92] -1 False {}\n",
      "[['livingroom', 'tothenorth', 'wall', 93], ['livingroom', 'totheeast', 'wall', 93], ['livingroom', 'tothesouth', 'bedroom', 93], ['livingroom', 'tothewest', 'officeroom', 93], ['table', 'atlocation', 'livingroom', 93], ['tae', 'atlocation', 'livingroom', 93], ['vincent', 'atlocation', 'livingroom', 93], ['phone', 'atlocation', 'livingroom', 93], ['headset', 'atlocation', 'livingroom', 93], ['agent', 'atlocation', 'livingroom', 93]] ['headset', 'atlocation', '?', 93] -1 False {}\n",
      "[['livingroom', 'tothenorth', 'wall', 94], ['livingroom', 'totheeast', 'wall', 94], ['livingroom', 'tothesouth', 'bedroom', 94], ['livingroom', 'tothewest', 'officeroom', 94], ['table', 'atlocation', 'livingroom', 94], ['tae', 'atlocation', 'livingroom', 94], ['phone', 'atlocation', 'livingroom', 94], ['agent', 'atlocation', 'livingroom', 94]] ['desk', 'atlocation', '?', 94] -1 False {}\n",
      "[['livingroom', 'tothenorth', 'wall', 95], ['livingroom', 'totheeast', 'wall', 95], ['livingroom', 'tothesouth', 'bedroom', 95], ['livingroom', 'tothewest', 'officeroom', 95], ['table', 'atlocation', 'livingroom', 95], ['tae', 'atlocation', 'livingroom', 95], ['vincent', 'atlocation', 'livingroom', 95], ['phone', 'atlocation', 'livingroom', 95], ['headset', 'atlocation', 'livingroom', 95], ['agent', 'atlocation', 'livingroom', 95]] ['livingroom', 'tothenorth', '?', 95] -1 False {}\n",
      "[['livingroom', 'tothenorth', 'wall', 96], ['livingroom', 'totheeast', 'wall', 96], ['livingroom', 'tothesouth', 'bedroom', 96], ['livingroom', 'tothewest', 'officeroom', 96], ['table', 'atlocation', 'livingroom', 96], ['tae', 'atlocation', 'livingroom', 96], ['vincent', 'atlocation', 'livingroom', 96], ['phone', 'atlocation', 'livingroom', 96], ['headset', 'atlocation', 'livingroom', 96], ['agent', 'atlocation', 'livingroom', 96]] ['officeroom', '?', 'livingroom', 96] 1 False {}\n",
      "[['livingroom', 'tothenorth', 'wall', 97], ['livingroom', 'totheeast', 'wall', 97], ['livingroom', 'tothesouth', 'bedroom', 97], ['livingroom', 'tothewest', 'officeroom', 97], ['table', 'atlocation', 'livingroom', 97], ['tae', 'atlocation', 'livingroom', 97], ['phone', 'atlocation', 'livingroom', 97], ['headset', 'atlocation', 'livingroom', 97], ['agent', 'atlocation', 'livingroom', 97]] ['?', 'tothewest', 'wall', 97] -1 False {}\n",
      "[['livingroom', 'tothenorth', 'wall', 98], ['livingroom', 'totheeast', 'wall', 98], ['livingroom', 'tothesouth', 'bedroom', 98], ['livingroom', 'tothewest', 'officeroom', 98], ['table', 'atlocation', 'livingroom', 98], ['tae', 'atlocation', 'livingroom', 98], ['phone', 'atlocation', 'livingroom', 98], ['headset', 'atlocation', 'livingroom', 98], ['agent', 'atlocation', 'livingroom', 98]] ['officeroom', 'tothenorth', '?', 98] -1 False {}\n",
      "[['livingroom', 'tothenorth', 'wall', 99], ['livingroom', 'totheeast', 'wall', 99], ['livingroom', 'tothesouth', 'bedroom', 99], ['livingroom', 'tothewest', 'officeroom', 99], ['table', 'atlocation', 'livingroom', 99], ['tae', 'atlocation', 'livingroom', 99], ['vincent', 'atlocation', 'livingroom', 99], ['phone', 'atlocation', 'livingroom', 99], ['headset', 'atlocation', 'livingroom', 99], ['agent', 'atlocation', 'livingroom', 99]] ['?', 'tothesouth', 'wall', 99] 1 False {}\n",
      "[['livingroom', 'tothenorth', 'wall', 100], ['livingroom', 'totheeast', 'wall', 100], ['livingroom', 'tothesouth', 'bedroom', 100], ['livingroom', 'tothewest', 'officeroom', 100], ['table', 'atlocation', 'livingroom', 100], ['tae', 'atlocation', 'livingroom', 100], ['michael', 'atlocation', 'livingroom', 100], ['agent', 'atlocation', 'livingroom', 100]] ['bedroom', 'totheeast', '?', 100] -1 True {}\n"
     ]
    }
   ],
   "source": [
    "from room_env.envs.room2 import (\n",
    "    Object,\n",
    "    StaticObject,\n",
    "    IndepdentObject,\n",
    "    DependentObject,\n",
    "    Room,\n",
    "    RoomEnv2,\n",
    ")\n",
    "\n",
    "env = RoomEnv2(**config)\n",
    "(obs, question), info = env.reset()\n",
    "\n",
    "rewards = []\n",
    "while True:\n",
    "    (obs, question), reward, done, info = env.step(\"wall\", \"north\")\n",
    "    print(obs, question, reward, done, info)\n",
    "    rewards.append(reward)\n",
    "    if done:\n",
    "        break"
   ]
  },
  {
   "cell_type": "code",
   "execution_count": 2,
   "metadata": {},
   "outputs": [
    {
     "data": {
      "text/plain": [
       "([['livingroom', 'tothenorth', 'wall', 0],\n",
       "  ['livingroom', 'totheeast', 'wall', 0],\n",
       "  ['livingroom', 'tothesouth', 'bedroom', 0],\n",
       "  ['livingroom', 'tothewest', 'officeroom', 0],\n",
       "  ['table', 'atlocation', 'livingroom', 0],\n",
       "  ['michael', 'atlocation', 'livingroom', 0],\n",
       "  ['phone', 'atlocation', 'livingroom', 0],\n",
       "  ['agent', 'atlocation', 'livingroom', 0]],\n",
       " ['bedroom', '?', 'wall', 0])"
      ]
     },
     "execution_count": 2,
     "metadata": {},
     "output_type": "execute_result"
    }
   ],
   "source": [
    "from room_env.envs.room2 import (\n",
    "    Object,\n",
    "    StaticObject,\n",
    "    IndepdentObject,\n",
    "    DependentObject,\n",
    "    Room,\n",
    "    RoomEnv2,\n",
    ")\n",
    "\n",
    "env = RoomEnv2(**config)\n",
    "(obs, question), info = env.reset()\n",
    "\n",
    "obs, question"
   ]
  },
  {
   "cell_type": "code",
   "execution_count": 3,
   "metadata": {},
   "outputs": [
    {
     "name": "stdout",
     "output_type": "stream",
     "text": [
      "[['livingroom', 'tothenorth', 'wall', 1], ['livingroom', 'totheeast', 'wall', 1], ['livingroom', 'tothesouth', 'bedroom', 1], ['livingroom', 'tothewest', 'officeroom', 1], ['table', 'atlocation', 'livingroom', 1], ['agent', 'atlocation', 'livingroom', 1]] ['?', 'atlocation', 'livingroom', 1] -1 False {}\n",
      "[['livingroom', 'tothenorth', 'wall', 2], ['livingroom', 'totheeast', 'wall', 2], ['livingroom', 'tothesouth', 'bedroom', 2], ['livingroom', 'tothewest', 'officeroom', 2], ['table', 'atlocation', 'livingroom', 2], ['agent', 'atlocation', 'livingroom', 2]] ['phone', 'atlocation', '?', 2] -1 False {}\n",
      "[['livingroom', 'tothenorth', 'wall', 3], ['livingroom', 'totheeast', 'wall', 3], ['livingroom', 'tothesouth', 'bedroom', 3], ['livingroom', 'tothewest', 'officeroom', 3], ['table', 'atlocation', 'livingroom', 3], ['vincent', 'atlocation', 'livingroom', 3], ['phone', 'atlocation', 'livingroom', 3], ['headset', 'atlocation', 'livingroom', 3], ['agent', 'atlocation', 'livingroom', 3]] ['?', 'totheeast', 'livingroom', 3] -1 False {}\n",
      "[['livingroom', 'tothenorth', 'wall', 4], ['livingroom', 'totheeast', 'wall', 4], ['livingroom', 'tothesouth', 'bedroom', 4], ['livingroom', 'tothewest', 'officeroom', 4], ['table', 'atlocation', 'livingroom', 4], ['phone', 'atlocation', 'livingroom', 4], ['agent', 'atlocation', 'livingroom', 4]] ['bed', 'atlocation', '?', 4] -1 False {}\n",
      "[['livingroom', 'tothenorth', 'wall', 5], ['livingroom', 'totheeast', 'wall', 5], ['livingroom', 'tothesouth', 'bedroom', 5], ['livingroom', 'tothewest', 'officeroom', 5], ['table', 'atlocation', 'livingroom', 5], ['phone', 'atlocation', 'livingroom', 5], ['agent', 'atlocation', 'livingroom', 5]] ['livingroom', 'tothenorth', '?', 5] -1 False {}\n",
      "[['livingroom', 'tothenorth', 'wall', 6], ['livingroom', 'totheeast', 'wall', 6], ['livingroom', 'tothesouth', 'bedroom', 6], ['livingroom', 'tothewest', 'officeroom', 6], ['table', 'atlocation', 'livingroom', 6], ['vincent', 'atlocation', 'livingroom', 6], ['phone', 'atlocation', 'livingroom', 6], ['agent', 'atlocation', 'livingroom', 6]] ['phone', '?', 'livingroom', 6] 1 False {}\n",
      "[['livingroom', 'tothenorth', 'wall', 7], ['livingroom', 'totheeast', 'wall', 7], ['livingroom', 'tothesouth', 'bedroom', 7], ['livingroom', 'tothewest', 'officeroom', 7], ['table', 'atlocation', 'livingroom', 7], ['phone', 'atlocation', 'livingroom', 7], ['agent', 'atlocation', 'livingroom', 7]] ['officeroom', '?', 'wall', 7] -1 False {}\n",
      "[['livingroom', 'tothenorth', 'wall', 8], ['livingroom', 'totheeast', 'wall', 8], ['livingroom', 'tothesouth', 'bedroom', 8], ['livingroom', 'tothewest', 'officeroom', 8], ['table', 'atlocation', 'livingroom', 8], ['phone', 'atlocation', 'livingroom', 8], ['agent', 'atlocation', 'livingroom', 8]] ['headset', 'atlocation', '?', 8] -1 False {}\n",
      "[['livingroom', 'tothenorth', 'wall', 9], ['livingroom', 'totheeast', 'wall', 9], ['livingroom', 'tothesouth', 'bedroom', 9], ['livingroom', 'tothewest', 'officeroom', 9], ['table', 'atlocation', 'livingroom', 9], ['phone', 'atlocation', 'livingroom', 9], ['agent', 'atlocation', 'livingroom', 9]] ['officeroom', '?', 'wall', 9] -1 False {}\n",
      "[['livingroom', 'tothenorth', 'wall', 10], ['livingroom', 'totheeast', 'wall', 10], ['livingroom', 'tothesouth', 'bedroom', 10], ['livingroom', 'tothewest', 'officeroom', 10], ['table', 'atlocation', 'livingroom', 10], ['vincent', 'atlocation', 'livingroom', 10], ['phone', 'atlocation', 'livingroom', 10], ['agent', 'atlocation', 'livingroom', 10]] ['officeroom', 'tothesouth', '?', 10] -1 False {}\n",
      "[['livingroom', 'tothenorth', 'wall', 11], ['livingroom', 'totheeast', 'wall', 11], ['livingroom', 'tothesouth', 'bedroom', 11], ['livingroom', 'tothewest', 'officeroom', 11], ['table', 'atlocation', 'livingroom', 11], ['phone', 'atlocation', 'livingroom', 11], ['agent', 'atlocation', 'livingroom', 11]] ['vincent', 'atlocation', '?', 11] 1 False {}\n",
      "[['livingroom', 'tothenorth', 'wall', 12], ['livingroom', 'totheeast', 'wall', 12], ['livingroom', 'tothesouth', 'bedroom', 12], ['livingroom', 'tothewest', 'officeroom', 12], ['table', 'atlocation', 'livingroom', 12], ['phone', 'atlocation', 'livingroom', 12], ['agent', 'atlocation', 'livingroom', 12]] ['?', 'tothewest', 'officeroom', 12] -1 False {}\n",
      "[['livingroom', 'tothenorth', 'wall', 13], ['livingroom', 'totheeast', 'wall', 13], ['livingroom', 'tothesouth', 'bedroom', 13], ['livingroom', 'tothewest', 'officeroom', 13], ['table', 'atlocation', 'livingroom', 13], ['vincent', 'atlocation', 'livingroom', 13], ['phone', 'atlocation', 'livingroom', 13], ['agent', 'atlocation', 'livingroom', 13]] ['officeroom', 'tothesouth', '?', 13] -1 False {}\n",
      "[['livingroom', 'tothenorth', 'wall', 14], ['livingroom', 'totheeast', 'wall', 14], ['livingroom', 'tothesouth', 'bedroom', 14], ['livingroom', 'tothewest', 'officeroom', 14], ['table', 'atlocation', 'livingroom', 14], ['agent', 'atlocation', 'livingroom', 14]] ['bedroom', '?', 'wall', 14] 1 False {}\n",
      "[['livingroom', 'tothenorth', 'wall', 15], ['livingroom', 'totheeast', 'wall', 15], ['livingroom', 'tothesouth', 'bedroom', 15], ['livingroom', 'tothewest', 'officeroom', 15], ['table', 'atlocation', 'livingroom', 15], ['michael', 'atlocation', 'livingroom', 15], ['phone', 'atlocation', 'livingroom', 15], ['agent', 'atlocation', 'livingroom', 15]] ['?', 'tothewest', 'officeroom', 15] -1 False {}\n",
      "[['livingroom', 'tothenorth', 'wall', 16], ['livingroom', 'totheeast', 'wall', 16], ['livingroom', 'tothesouth', 'bedroom', 16], ['livingroom', 'tothewest', 'officeroom', 16], ['table', 'atlocation', 'livingroom', 16], ['vincent', 'atlocation', 'livingroom', 16], ['headset', 'atlocation', 'livingroom', 16], ['agent', 'atlocation', 'livingroom', 16]] ['?', 'tothesouth', 'wall', 16] -1 False {}\n",
      "[['livingroom', 'tothenorth', 'wall', 17], ['livingroom', 'totheeast', 'wall', 17], ['livingroom', 'tothesouth', 'bedroom', 17], ['livingroom', 'tothewest', 'officeroom', 17], ['table', 'atlocation', 'livingroom', 17], ['agent', 'atlocation', 'livingroom', 17]] ['bedroom', '?', 'wall', 17] -1 False {}\n",
      "[['livingroom', 'tothenorth', 'wall', 18], ['livingroom', 'totheeast', 'wall', 18], ['livingroom', 'tothesouth', 'bedroom', 18], ['livingroom', 'tothewest', 'officeroom', 18], ['table', 'atlocation', 'livingroom', 18], ['agent', 'atlocation', 'livingroom', 18]] ['?', 'tothesouth', 'wall', 18] -1 False {}\n",
      "[['livingroom', 'tothenorth', 'wall', 19], ['livingroom', 'totheeast', 'wall', 19], ['livingroom', 'tothesouth', 'bedroom', 19], ['livingroom', 'tothewest', 'officeroom', 19], ['table', 'atlocation', 'livingroom', 19], ['agent', 'atlocation', 'livingroom', 19]] ['?', 'atlocation', 'bedroom', 19] -1 False {}\n",
      "[['livingroom', 'tothenorth', 'wall', 20], ['livingroom', 'totheeast', 'wall', 20], ['livingroom', 'tothesouth', 'bedroom', 20], ['livingroom', 'tothewest', 'officeroom', 20], ['table', 'atlocation', 'livingroom', 20], ['vincent', 'atlocation', 'livingroom', 20], ['agent', 'atlocation', 'livingroom', 20]] ['livingroom', '?', 'officeroom', 20] -1 False {}\n",
      "[['livingroom', 'tothenorth', 'wall', 21], ['livingroom', 'totheeast', 'wall', 21], ['livingroom', 'tothesouth', 'bedroom', 21], ['livingroom', 'tothewest', 'officeroom', 21], ['table', 'atlocation', 'livingroom', 21], ['agent', 'atlocation', 'livingroom', 21]] ['michael', '?', 'bedroom', 21] -1 False {}\n",
      "[['livingroom', 'tothenorth', 'wall', 22], ['livingroom', 'totheeast', 'wall', 22], ['livingroom', 'tothesouth', 'bedroom', 22], ['livingroom', 'tothewest', 'officeroom', 22], ['table', 'atlocation', 'livingroom', 22], ['michael', 'atlocation', 'livingroom', 22], ['vincent', 'atlocation', 'livingroom', 22], ['laptop', 'atlocation', 'livingroom', 22], ['phone', 'atlocation', 'livingroom', 22], ['agent', 'atlocation', 'livingroom', 22]] ['vincent', '?', 'livingroom', 22] -1 False {}\n",
      "[['livingroom', 'tothenorth', 'wall', 23], ['livingroom', 'totheeast', 'wall', 23], ['livingroom', 'tothesouth', 'bedroom', 23], ['livingroom', 'tothewest', 'officeroom', 23], ['table', 'atlocation', 'livingroom', 23], ['agent', 'atlocation', 'livingroom', 23]] ['livingroom', 'tothesouth', '?', 23] -1 False {}\n",
      "[['livingroom', 'tothenorth', 'wall', 24], ['livingroom', 'totheeast', 'wall', 24], ['livingroom', 'tothesouth', 'bedroom', 24], ['livingroom', 'tothewest', 'officeroom', 24], ['table', 'atlocation', 'livingroom', 24], ['agent', 'atlocation', 'livingroom', 24]] ['headset', '?', 'officeroom', 24] -1 False {}\n",
      "[['livingroom', 'tothenorth', 'wall', 25], ['livingroom', 'totheeast', 'wall', 25], ['livingroom', 'tothesouth', 'bedroom', 25], ['livingroom', 'tothewest', 'officeroom', 25], ['table', 'atlocation', 'livingroom', 25], ['agent', 'atlocation', 'livingroom', 25]] ['officeroom', '?', 'livingroom', 25] -1 False {}\n",
      "[['livingroom', 'tothenorth', 'wall', 26], ['livingroom', 'totheeast', 'wall', 26], ['livingroom', 'tothesouth', 'bedroom', 26], ['livingroom', 'tothewest', 'officeroom', 26], ['table', 'atlocation', 'livingroom', 26], ['vincent', 'atlocation', 'livingroom', 26], ['agent', 'atlocation', 'livingroom', 26]] ['desk', 'atlocation', '?', 26] -1 False {}\n",
      "[['livingroom', 'tothenorth', 'wall', 27], ['livingroom', 'totheeast', 'wall', 27], ['livingroom', 'tothesouth', 'bedroom', 27], ['livingroom', 'tothewest', 'officeroom', 27], ['table', 'atlocation', 'livingroom', 27], ['agent', 'atlocation', 'livingroom', 27]] ['desk', 'atlocation', '?', 27] -1 False {}\n",
      "[['livingroom', 'tothenorth', 'wall', 28], ['livingroom', 'totheeast', 'wall', 28], ['livingroom', 'tothesouth', 'bedroom', 28], ['livingroom', 'tothewest', 'officeroom', 28], ['table', 'atlocation', 'livingroom', 28], ['agent', 'atlocation', 'livingroom', 28]] ['?', 'tothewest', 'officeroom', 28] -1 False {}\n",
      "[['livingroom', 'tothenorth', 'wall', 29], ['livingroom', 'totheeast', 'wall', 29], ['livingroom', 'tothesouth', 'bedroom', 29], ['livingroom', 'tothewest', 'officeroom', 29], ['table', 'atlocation', 'livingroom', 29], ['vincent', 'atlocation', 'livingroom', 29], ['agent', 'atlocation', 'livingroom', 29]] ['vincent', '?', 'livingroom', 29] -1 False {}\n",
      "[['livingroom', 'tothenorth', 'wall', 30], ['livingroom', 'totheeast', 'wall', 30], ['livingroom', 'tothesouth', 'bedroom', 30], ['livingroom', 'tothewest', 'officeroom', 30], ['table', 'atlocation', 'livingroom', 30], ['agent', 'atlocation', 'livingroom', 30]] ['?', 'atlocation', 'bedroom', 30] -1 False {}\n",
      "[['livingroom', 'tothenorth', 'wall', 31], ['livingroom', 'totheeast', 'wall', 31], ['livingroom', 'tothesouth', 'bedroom', 31], ['livingroom', 'tothewest', 'officeroom', 31], ['table', 'atlocation', 'livingroom', 31], ['agent', 'atlocation', 'livingroom', 31]] ['?', 'atlocation', 'livingroom', 31] -1 False {}\n",
      "[['livingroom', 'tothenorth', 'wall', 32], ['livingroom', 'totheeast', 'wall', 32], ['livingroom', 'tothesouth', 'bedroom', 32], ['livingroom', 'tothewest', 'officeroom', 32], ['table', 'atlocation', 'livingroom', 32], ['vincent', 'atlocation', 'livingroom', 32], ['phone', 'atlocation', 'livingroom', 32], ['agent', 'atlocation', 'livingroom', 32]] ['agent', 'atlocation', '?', 32] -1 False {}\n",
      "[['livingroom', 'tothenorth', 'wall', 33], ['livingroom', 'totheeast', 'wall', 33], ['livingroom', 'tothesouth', 'bedroom', 33], ['livingroom', 'tothewest', 'officeroom', 33], ['table', 'atlocation', 'livingroom', 33], ['agent', 'atlocation', 'livingroom', 33]] ['table', 'atlocation', '?', 33] -1 False {}\n",
      "[['livingroom', 'tothenorth', 'wall', 34], ['livingroom', 'totheeast', 'wall', 34], ['livingroom', 'tothesouth', 'bedroom', 34], ['livingroom', 'tothewest', 'officeroom', 34], ['table', 'atlocation', 'livingroom', 34], ['agent', 'atlocation', 'livingroom', 34]] ['agent', '?', 'livingroom', 34] -1 False {}\n",
      "[['livingroom', 'tothenorth', 'wall', 35], ['livingroom', 'totheeast', 'wall', 35], ['livingroom', 'tothesouth', 'bedroom', 35], ['livingroom', 'tothewest', 'officeroom', 35], ['table', 'atlocation', 'livingroom', 35], ['michael', 'atlocation', 'livingroom', 35], ['vincent', 'atlocation', 'livingroom', 35], ['laptop', 'atlocation', 'livingroom', 35], ['headset', 'atlocation', 'livingroom', 35], ['agent', 'atlocation', 'livingroom', 35]] ['tae', '?', 'officeroom', 35] -1 False {}\n",
      "[['livingroom', 'tothenorth', 'wall', 36], ['livingroom', 'totheeast', 'wall', 36], ['livingroom', 'tothesouth', 'bedroom', 36], ['livingroom', 'tothewest', 'officeroom', 36], ['table', 'atlocation', 'livingroom', 36], ['vincent', 'atlocation', 'livingroom', 36], ['laptop', 'atlocation', 'livingroom', 36], ['headset', 'atlocation', 'livingroom', 36], ['agent', 'atlocation', 'livingroom', 36]] ['michael', '?', 'bedroom', 36] -1 False {}\n",
      "[['livingroom', 'tothenorth', 'wall', 37], ['livingroom', 'totheeast', 'wall', 37], ['livingroom', 'tothesouth', 'bedroom', 37], ['livingroom', 'tothewest', 'officeroom', 37], ['table', 'atlocation', 'livingroom', 37], ['laptop', 'atlocation', 'livingroom', 37], ['agent', 'atlocation', 'livingroom', 37]] ['phone', 'atlocation', '?', 37] -1 False {}\n",
      "[['livingroom', 'tothenorth', 'wall', 38], ['livingroom', 'totheeast', 'wall', 38], ['livingroom', 'tothesouth', 'bedroom', 38], ['livingroom', 'tothewest', 'officeroom', 38], ['table', 'atlocation', 'livingroom', 38], ['vincent', 'atlocation', 'livingroom', 38], ['laptop', 'atlocation', 'livingroom', 38], ['headset', 'atlocation', 'livingroom', 38], ['agent', 'atlocation', 'livingroom', 38]] ['headset', '?', 'livingroom', 38] -1 False {}\n",
      "[['livingroom', 'tothenorth', 'wall', 39], ['livingroom', 'totheeast', 'wall', 39], ['livingroom', 'tothesouth', 'bedroom', 39], ['livingroom', 'tothewest', 'officeroom', 39], ['table', 'atlocation', 'livingroom', 39], ['laptop', 'atlocation', 'livingroom', 39], ['agent', 'atlocation', 'livingroom', 39]] ['?', 'tothenorth', 'wall', 39] -1 False {}\n",
      "[['livingroom', 'tothenorth', 'wall', 40], ['livingroom', 'totheeast', 'wall', 40], ['livingroom', 'tothesouth', 'bedroom', 40], ['livingroom', 'tothewest', 'officeroom', 40], ['table', 'atlocation', 'livingroom', 40], ['vincent', 'atlocation', 'livingroom', 40], ['laptop', 'atlocation', 'livingroom', 40], ['headset', 'atlocation', 'livingroom', 40], ['agent', 'atlocation', 'livingroom', 40]] ['desk', '?', 'officeroom', 40] -1 False {}\n",
      "[['livingroom', 'tothenorth', 'wall', 41], ['livingroom', 'totheeast', 'wall', 41], ['livingroom', 'tothesouth', 'bedroom', 41], ['livingroom', 'tothewest', 'officeroom', 41], ['table', 'atlocation', 'livingroom', 41], ['vincent', 'atlocation', 'livingroom', 41], ['laptop', 'atlocation', 'livingroom', 41], ['headset', 'atlocation', 'livingroom', 41], ['agent', 'atlocation', 'livingroom', 41]] ['bedroom', '?', 'wall', 41] -1 False {}\n",
      "[['livingroom', 'tothenorth', 'wall', 42], ['livingroom', 'totheeast', 'wall', 42], ['livingroom', 'tothesouth', 'bedroom', 42], ['livingroom', 'tothewest', 'officeroom', 42], ['table', 'atlocation', 'livingroom', 42], ['vincent', 'atlocation', 'livingroom', 42], ['laptop', 'atlocation', 'livingroom', 42], ['headset', 'atlocation', 'livingroom', 42], ['agent', 'atlocation', 'livingroom', 42]] ['bedroom', '?', 'livingroom', 42] -1 False {}\n",
      "[['livingroom', 'tothenorth', 'wall', 43], ['livingroom', 'totheeast', 'wall', 43], ['livingroom', 'tothesouth', 'bedroom', 43], ['livingroom', 'tothewest', 'officeroom', 43], ['table', 'atlocation', 'livingroom', 43], ['vincent', 'atlocation', 'livingroom', 43], ['laptop', 'atlocation', 'livingroom', 43], ['headset', 'atlocation', 'livingroom', 43], ['agent', 'atlocation', 'livingroom', 43]] ['phone', 'atlocation', '?', 43] -1 False {}\n",
      "[['livingroom', 'tothenorth', 'wall', 44], ['livingroom', 'totheeast', 'wall', 44], ['livingroom', 'tothesouth', 'bedroom', 44], ['livingroom', 'tothewest', 'officeroom', 44], ['table', 'atlocation', 'livingroom', 44], ['laptop', 'atlocation', 'livingroom', 44], ['headset', 'atlocation', 'livingroom', 44], ['agent', 'atlocation', 'livingroom', 44]] ['livingroom', '?', 'wall', 44] -1 False {}\n",
      "[['livingroom', 'tothenorth', 'wall', 45], ['livingroom', 'totheeast', 'wall', 45], ['livingroom', 'tothesouth', 'bedroom', 45], ['livingroom', 'tothewest', 'officeroom', 45], ['table', 'atlocation', 'livingroom', 45], ['vincent', 'atlocation', 'livingroom', 45], ['laptop', 'atlocation', 'livingroom', 45], ['headset', 'atlocation', 'livingroom', 45], ['agent', 'atlocation', 'livingroom', 45]] ['?', 'tothenorth', 'livingroom', 45] -1 False {}\n",
      "[['livingroom', 'tothenorth', 'wall', 46], ['livingroom', 'totheeast', 'wall', 46], ['livingroom', 'tothesouth', 'bedroom', 46], ['livingroom', 'tothewest', 'officeroom', 46], ['table', 'atlocation', 'livingroom', 46], ['michael', 'atlocation', 'livingroom', 46], ['vincent', 'atlocation', 'livingroom', 46], ['laptop', 'atlocation', 'livingroom', 46], ['headset', 'atlocation', 'livingroom', 46], ['agent', 'atlocation', 'livingroom', 46]] ['?', 'atlocation', 'officeroom', 46] -1 False {}\n",
      "[['livingroom', 'tothenorth', 'wall', 47], ['livingroom', 'totheeast', 'wall', 47], ['livingroom', 'tothesouth', 'bedroom', 47], ['livingroom', 'tothewest', 'officeroom', 47], ['table', 'atlocation', 'livingroom', 47], ['vincent', 'atlocation', 'livingroom', 47], ['headset', 'atlocation', 'livingroom', 47], ['agent', 'atlocation', 'livingroom', 47]] ['livingroom', '?', 'wall', 47] -1 False {}\n",
      "[['livingroom', 'tothenorth', 'wall', 48], ['livingroom', 'totheeast', 'wall', 48], ['livingroom', 'tothesouth', 'bedroom', 48], ['livingroom', 'tothewest', 'officeroom', 48], ['table', 'atlocation', 'livingroom', 48], ['tae', 'atlocation', 'livingroom', 48], ['vincent', 'atlocation', 'livingroom', 48], ['headset', 'atlocation', 'livingroom', 48], ['agent', 'atlocation', 'livingroom', 48]] ['laptop', 'atlocation', '?', 48] -1 False {}\n",
      "[['livingroom', 'tothenorth', 'wall', 49], ['livingroom', 'totheeast', 'wall', 49], ['livingroom', 'tothesouth', 'bedroom', 49], ['livingroom', 'tothewest', 'officeroom', 49], ['table', 'atlocation', 'livingroom', 49], ['tae', 'atlocation', 'livingroom', 49], ['headset', 'atlocation', 'livingroom', 49], ['agent', 'atlocation', 'livingroom', 49]] ['?', 'atlocation', 'bedroom', 49] -1 False {}\n",
      "[['livingroom', 'tothenorth', 'wall', 50], ['livingroom', 'totheeast', 'wall', 50], ['livingroom', 'tothesouth', 'bedroom', 50], ['livingroom', 'tothewest', 'officeroom', 50], ['table', 'atlocation', 'livingroom', 50], ['tae', 'atlocation', 'livingroom', 50], ['headset', 'atlocation', 'livingroom', 50], ['agent', 'atlocation', 'livingroom', 50]] ['headset', '?', 'livingroom', 50] -1 False {}\n",
      "[['livingroom', 'tothenorth', 'wall', 51], ['livingroom', 'totheeast', 'wall', 51], ['livingroom', 'tothesouth', 'bedroom', 51], ['livingroom', 'tothewest', 'officeroom', 51], ['table', 'atlocation', 'livingroom', 51], ['tae', 'atlocation', 'livingroom', 51], ['headset', 'atlocation', 'livingroom', 51], ['agent', 'atlocation', 'livingroom', 51]] ['laptop', '?', 'bedroom', 51] -1 False {}\n",
      "[['livingroom', 'tothenorth', 'wall', 52], ['livingroom', 'totheeast', 'wall', 52], ['livingroom', 'tothesouth', 'bedroom', 52], ['livingroom', 'tothewest', 'officeroom', 52], ['table', 'atlocation', 'livingroom', 52], ['tae', 'atlocation', 'livingroom', 52], ['vincent', 'atlocation', 'livingroom', 52], ['headset', 'atlocation', 'livingroom', 52], ['agent', 'atlocation', 'livingroom', 52]] ['?', 'tothesouth', 'wall', 52] -1 False {}\n",
      "[['livingroom', 'tothenorth', 'wall', 53], ['livingroom', 'totheeast', 'wall', 53], ['livingroom', 'tothesouth', 'bedroom', 53], ['livingroom', 'tothewest', 'officeroom', 53], ['table', 'atlocation', 'livingroom', 53], ['tae', 'atlocation', 'livingroom', 53], ['agent', 'atlocation', 'livingroom', 53]] ['?', 'atlocation', 'officeroom', 53] -1 False {}\n",
      "[['livingroom', 'tothenorth', 'wall', 54], ['livingroom', 'totheeast', 'wall', 54], ['livingroom', 'tothesouth', 'bedroom', 54], ['livingroom', 'tothewest', 'officeroom', 54], ['table', 'atlocation', 'livingroom', 54], ['tae', 'atlocation', 'livingroom', 54], ['vincent', 'atlocation', 'livingroom', 54], ['headset', 'atlocation', 'livingroom', 54], ['agent', 'atlocation', 'livingroom', 54]] ['?', 'atlocation', 'livingroom', 54] -1 False {}\n",
      "[['livingroom', 'tothenorth', 'wall', 55], ['livingroom', 'totheeast', 'wall', 55], ['livingroom', 'tothesouth', 'bedroom', 55], ['livingroom', 'tothewest', 'officeroom', 55], ['table', 'atlocation', 'livingroom', 55], ['tae', 'atlocation', 'livingroom', 55], ['agent', 'atlocation', 'livingroom', 55]] ['bedroom', 'tothewest', '?', 55] -1 False {}\n",
      "[['livingroom', 'tothenorth', 'wall', 56], ['livingroom', 'totheeast', 'wall', 56], ['livingroom', 'tothesouth', 'bedroom', 56], ['livingroom', 'tothewest', 'officeroom', 56], ['table', 'atlocation', 'livingroom', 56], ['tae', 'atlocation', 'livingroom', 56], ['agent', 'atlocation', 'livingroom', 56]] ['laptop', 'atlocation', '?', 56] 1 False {}\n",
      "[['livingroom', 'tothenorth', 'wall', 57], ['livingroom', 'totheeast', 'wall', 57], ['livingroom', 'tothesouth', 'bedroom', 57], ['livingroom', 'tothewest', 'officeroom', 57], ['table', 'atlocation', 'livingroom', 57], ['tae', 'atlocation', 'livingroom', 57], ['vincent', 'atlocation', 'livingroom', 57], ['headset', 'atlocation', 'livingroom', 57], ['agent', 'atlocation', 'livingroom', 57]] ['?', 'totheeast', 'livingroom', 57] -1 False {}\n",
      "[['livingroom', 'tothenorth', 'wall', 58], ['livingroom', 'totheeast', 'wall', 58], ['livingroom', 'tothesouth', 'bedroom', 58], ['livingroom', 'tothewest', 'officeroom', 58], ['table', 'atlocation', 'livingroom', 58], ['tae', 'atlocation', 'livingroom', 58], ['vincent', 'atlocation', 'livingroom', 58], ['headset', 'atlocation', 'livingroom', 58], ['agent', 'atlocation', 'livingroom', 58]] ['tae', '?', 'livingroom', 58] -1 False {}\n",
      "[['livingroom', 'tothenorth', 'wall', 59], ['livingroom', 'totheeast', 'wall', 59], ['livingroom', 'tothesouth', 'bedroom', 59], ['livingroom', 'tothewest', 'officeroom', 59], ['table', 'atlocation', 'livingroom', 59], ['tae', 'atlocation', 'livingroom', 59], ['vincent', 'atlocation', 'livingroom', 59], ['headset', 'atlocation', 'livingroom', 59], ['agent', 'atlocation', 'livingroom', 59]] ['?', 'tothenorth', 'wall', 59] -1 False {}\n",
      "[['livingroom', 'tothenorth', 'wall', 60], ['livingroom', 'totheeast', 'wall', 60], ['livingroom', 'tothesouth', 'bedroom', 60], ['livingroom', 'tothewest', 'officeroom', 60], ['table', 'atlocation', 'livingroom', 60], ['tae', 'atlocation', 'livingroom', 60], ['michael', 'atlocation', 'livingroom', 60], ['laptop', 'atlocation', 'livingroom', 60], ['agent', 'atlocation', 'livingroom', 60]] ['table', '?', 'livingroom', 60] -1 False {}\n",
      "[['livingroom', 'tothenorth', 'wall', 61], ['livingroom', 'totheeast', 'wall', 61], ['livingroom', 'tothesouth', 'bedroom', 61], ['livingroom', 'tothewest', 'officeroom', 61], ['table', 'atlocation', 'livingroom', 61], ['tae', 'atlocation', 'livingroom', 61], ['laptop', 'atlocation', 'livingroom', 61], ['agent', 'atlocation', 'livingroom', 61]] ['bedroom', 'tothenorth', '?', 61] -1 False {}\n",
      "[['livingroom', 'tothenorth', 'wall', 62], ['livingroom', 'totheeast', 'wall', 62], ['livingroom', 'tothesouth', 'bedroom', 62], ['livingroom', 'tothewest', 'officeroom', 62], ['table', 'atlocation', 'livingroom', 62], ['tae', 'atlocation', 'livingroom', 62], ['vincent', 'atlocation', 'livingroom', 62], ['laptop', 'atlocation', 'livingroom', 62], ['headset', 'atlocation', 'livingroom', 62], ['agent', 'atlocation', 'livingroom', 62]] ['?', 'atlocation', 'livingroom', 62] -1 False {}\n",
      "[['livingroom', 'tothenorth', 'wall', 63], ['livingroom', 'totheeast', 'wall', 63], ['livingroom', 'tothesouth', 'bedroom', 63], ['livingroom', 'tothewest', 'officeroom', 63], ['table', 'atlocation', 'livingroom', 63], ['tae', 'atlocation', 'livingroom', 63], ['laptop', 'atlocation', 'livingroom', 63], ['agent', 'atlocation', 'livingroom', 63]] ['?', 'tothenorth', 'livingroom', 63] -1 False {}\n",
      "[['livingroom', 'tothenorth', 'wall', 64], ['livingroom', 'totheeast', 'wall', 64], ['livingroom', 'tothesouth', 'bedroom', 64], ['livingroom', 'tothewest', 'officeroom', 64], ['table', 'atlocation', 'livingroom', 64], ['tae', 'atlocation', 'livingroom', 64], ['laptop', 'atlocation', 'livingroom', 64], ['agent', 'atlocation', 'livingroom', 64]] ['bed', '?', 'bedroom', 64] -1 False {}\n",
      "[['livingroom', 'tothenorth', 'wall', 65], ['livingroom', 'totheeast', 'wall', 65], ['livingroom', 'tothesouth', 'bedroom', 65], ['livingroom', 'tothewest', 'officeroom', 65], ['table', 'atlocation', 'livingroom', 65], ['tae', 'atlocation', 'livingroom', 65], ['michael', 'atlocation', 'livingroom', 65], ['vincent', 'atlocation', 'livingroom', 65], ['laptop', 'atlocation', 'livingroom', 65], ['headset', 'atlocation', 'livingroom', 65], ['agent', 'atlocation', 'livingroom', 65]] ['agent', '?', 'livingroom', 65] -1 False {}\n",
      "[['livingroom', 'tothenorth', 'wall', 66], ['livingroom', 'totheeast', 'wall', 66], ['livingroom', 'tothesouth', 'bedroom', 66], ['livingroom', 'tothewest', 'officeroom', 66], ['table', 'atlocation', 'livingroom', 66], ['tae', 'atlocation', 'livingroom', 66], ['laptop', 'atlocation', 'livingroom', 66], ['headset', 'atlocation', 'livingroom', 66], ['agent', 'atlocation', 'livingroom', 66]] ['?', 'atlocation', 'livingroom', 66] -1 False {}\n",
      "[['livingroom', 'tothenorth', 'wall', 67], ['livingroom', 'totheeast', 'wall', 67], ['livingroom', 'tothesouth', 'bedroom', 67], ['livingroom', 'tothewest', 'officeroom', 67], ['table', 'atlocation', 'livingroom', 67], ['tae', 'atlocation', 'livingroom', 67], ['vincent', 'atlocation', 'livingroom', 67], ['laptop', 'atlocation', 'livingroom', 67], ['phone', 'atlocation', 'livingroom', 67], ['headset', 'atlocation', 'livingroom', 67], ['agent', 'atlocation', 'livingroom', 67]] ['officeroom', '?', 'wall', 67] -1 False {}\n",
      "[['livingroom', 'tothenorth', 'wall', 68], ['livingroom', 'totheeast', 'wall', 68], ['livingroom', 'tothesouth', 'bedroom', 68], ['livingroom', 'tothewest', 'officeroom', 68], ['table', 'atlocation', 'livingroom', 68], ['tae', 'atlocation', 'livingroom', 68], ['vincent', 'atlocation', 'livingroom', 68], ['laptop', 'atlocation', 'livingroom', 68], ['phone', 'atlocation', 'livingroom', 68], ['headset', 'atlocation', 'livingroom', 68], ['agent', 'atlocation', 'livingroom', 68]] ['?', 'totheeast', 'livingroom', 68] -1 False {}\n",
      "[['livingroom', 'tothenorth', 'wall', 69], ['livingroom', 'totheeast', 'wall', 69], ['livingroom', 'tothesouth', 'bedroom', 69], ['livingroom', 'tothewest', 'officeroom', 69], ['table', 'atlocation', 'livingroom', 69], ['tae', 'atlocation', 'livingroom', 69], ['vincent', 'atlocation', 'livingroom', 69], ['laptop', 'atlocation', 'livingroom', 69], ['phone', 'atlocation', 'livingroom', 69], ['headset', 'atlocation', 'livingroom', 69], ['agent', 'atlocation', 'livingroom', 69]] ['?', 'atlocation', 'livingroom', 69] -1 False {}\n",
      "[['livingroom', 'tothenorth', 'wall', 70], ['livingroom', 'totheeast', 'wall', 70], ['livingroom', 'tothesouth', 'bedroom', 70], ['livingroom', 'tothewest', 'officeroom', 70], ['table', 'atlocation', 'livingroom', 70], ['tae', 'atlocation', 'livingroom', 70], ['laptop', 'atlocation', 'livingroom', 70], ['agent', 'atlocation', 'livingroom', 70]] ['livingroom', 'tothesouth', '?', 70] -1 False {}\n",
      "[['livingroom', 'tothenorth', 'wall', 71], ['livingroom', 'totheeast', 'wall', 71], ['livingroom', 'tothesouth', 'bedroom', 71], ['livingroom', 'tothewest', 'officeroom', 71], ['table', 'atlocation', 'livingroom', 71], ['tae', 'atlocation', 'livingroom', 71], ['vincent', 'atlocation', 'livingroom', 71], ['laptop', 'atlocation', 'livingroom', 71], ['headset', 'atlocation', 'livingroom', 71], ['agent', 'atlocation', 'livingroom', 71]] ['bedroom', 'totheeast', '?', 71] -1 False {}\n",
      "[['livingroom', 'tothenorth', 'wall', 72], ['livingroom', 'totheeast', 'wall', 72], ['livingroom', 'tothesouth', 'bedroom', 72], ['livingroom', 'tothewest', 'officeroom', 72], ['table', 'atlocation', 'livingroom', 72], ['tae', 'atlocation', 'livingroom', 72], ['laptop', 'atlocation', 'livingroom', 72], ['agent', 'atlocation', 'livingroom', 72]] ['livingroom', 'tothesouth', '?', 72] 1 False {}\n",
      "[['livingroom', 'tothenorth', 'wall', 73], ['livingroom', 'totheeast', 'wall', 73], ['livingroom', 'tothesouth', 'bedroom', 73], ['livingroom', 'tothewest', 'officeroom', 73], ['table', 'atlocation', 'livingroom', 73], ['tae', 'atlocation', 'livingroom', 73], ['vincent', 'atlocation', 'livingroom', 73], ['laptop', 'atlocation', 'livingroom', 73], ['headset', 'atlocation', 'livingroom', 73], ['agent', 'atlocation', 'livingroom', 73]] ['officeroom', '?', 'wall', 73] -1 False {}\n",
      "[['livingroom', 'tothenorth', 'wall', 74], ['livingroom', 'totheeast', 'wall', 74], ['livingroom', 'tothesouth', 'bedroom', 74], ['livingroom', 'tothewest', 'officeroom', 74], ['table', 'atlocation', 'livingroom', 74], ['tae', 'atlocation', 'livingroom', 74], ['michael', 'atlocation', 'livingroom', 74], ['laptop', 'atlocation', 'livingroom', 74], ['phone', 'atlocation', 'livingroom', 74], ['agent', 'atlocation', 'livingroom', 74]] ['?', 'atlocation', 'bedroom', 74] -1 False {}\n",
      "[['livingroom', 'tothenorth', 'wall', 75], ['livingroom', 'totheeast', 'wall', 75], ['livingroom', 'tothesouth', 'bedroom', 75], ['livingroom', 'tothewest', 'officeroom', 75], ['table', 'atlocation', 'livingroom', 75], ['tae', 'atlocation', 'livingroom', 75], ['vincent', 'atlocation', 'livingroom', 75], ['laptop', 'atlocation', 'livingroom', 75], ['phone', 'atlocation', 'livingroom', 75], ['headset', 'atlocation', 'livingroom', 75], ['agent', 'atlocation', 'livingroom', 75]] ['livingroom', 'tothewest', '?', 75] -1 False {}\n",
      "[['livingroom', 'tothenorth', 'wall', 76], ['livingroom', 'totheeast', 'wall', 76], ['livingroom', 'tothesouth', 'bedroom', 76], ['livingroom', 'tothewest', 'officeroom', 76], ['table', 'atlocation', 'livingroom', 76], ['tae', 'atlocation', 'livingroom', 76], ['vincent', 'atlocation', 'livingroom', 76], ['laptop', 'atlocation', 'livingroom', 76], ['phone', 'atlocation', 'livingroom', 76], ['headset', 'atlocation', 'livingroom', 76], ['agent', 'atlocation', 'livingroom', 76]] ['livingroom', 'tothewest', '?', 76] -1 False {}\n",
      "[['livingroom', 'tothenorth', 'wall', 77], ['livingroom', 'totheeast', 'wall', 77], ['livingroom', 'tothesouth', 'bedroom', 77], ['livingroom', 'tothewest', 'officeroom', 77], ['table', 'atlocation', 'livingroom', 77], ['tae', 'atlocation', 'livingroom', 77], ['laptop', 'atlocation', 'livingroom', 77], ['headset', 'atlocation', 'livingroom', 77], ['agent', 'atlocation', 'livingroom', 77]] ['table', '?', 'livingroom', 77] -1 False {}\n",
      "[['livingroom', 'tothenorth', 'wall', 78], ['livingroom', 'totheeast', 'wall', 78], ['livingroom', 'tothesouth', 'bedroom', 78], ['livingroom', 'tothewest', 'officeroom', 78], ['table', 'atlocation', 'livingroom', 78], ['tae', 'atlocation', 'livingroom', 78], ['vincent', 'atlocation', 'livingroom', 78], ['laptop', 'atlocation', 'livingroom', 78], ['headset', 'atlocation', 'livingroom', 78], ['agent', 'atlocation', 'livingroom', 78]] ['table', '?', 'livingroom', 78] -1 False {}\n",
      "[['livingroom', 'tothenorth', 'wall', 79], ['livingroom', 'totheeast', 'wall', 79], ['livingroom', 'tothesouth', 'bedroom', 79], ['livingroom', 'tothewest', 'officeroom', 79], ['table', 'atlocation', 'livingroom', 79], ['tae', 'atlocation', 'livingroom', 79], ['headset', 'atlocation', 'livingroom', 79], ['agent', 'atlocation', 'livingroom', 79]] ['phone', 'atlocation', '?', 79] -1 False {}\n",
      "[['livingroom', 'tothenorth', 'wall', 80], ['livingroom', 'totheeast', 'wall', 80], ['livingroom', 'tothesouth', 'bedroom', 80], ['livingroom', 'tothewest', 'officeroom', 80], ['table', 'atlocation', 'livingroom', 80], ['tae', 'atlocation', 'livingroom', 80], ['headset', 'atlocation', 'livingroom', 80], ['agent', 'atlocation', 'livingroom', 80]] ['headset', 'atlocation', '?', 80] -1 False {}\n",
      "[['livingroom', 'tothenorth', 'wall', 81], ['livingroom', 'totheeast', 'wall', 81], ['livingroom', 'tothesouth', 'bedroom', 81], ['livingroom', 'tothewest', 'officeroom', 81], ['table', 'atlocation', 'livingroom', 81], ['tae', 'atlocation', 'livingroom', 81], ['michael', 'atlocation', 'livingroom', 81], ['vincent', 'atlocation', 'livingroom', 81], ['phone', 'atlocation', 'livingroom', 81], ['headset', 'atlocation', 'livingroom', 81], ['agent', 'atlocation', 'livingroom', 81]] ['michael', 'atlocation', '?', 81] -1 False {}\n",
      "[['livingroom', 'tothenorth', 'wall', 82], ['livingroom', 'totheeast', 'wall', 82], ['livingroom', 'tothesouth', 'bedroom', 82], ['livingroom', 'tothewest', 'officeroom', 82], ['table', 'atlocation', 'livingroom', 82], ['tae', 'atlocation', 'livingroom', 82], ['vincent', 'atlocation', 'livingroom', 82], ['phone', 'atlocation', 'livingroom', 82], ['headset', 'atlocation', 'livingroom', 82], ['agent', 'atlocation', 'livingroom', 82]] ['?', 'tothenorth', 'wall', 82] -1 False {}\n",
      "[['livingroom', 'tothenorth', 'wall', 83], ['livingroom', 'totheeast', 'wall', 83], ['livingroom', 'tothesouth', 'bedroom', 83], ['livingroom', 'tothewest', 'officeroom', 83], ['table', 'atlocation', 'livingroom', 83], ['tae', 'atlocation', 'livingroom', 83], ['vincent', 'atlocation', 'livingroom', 83], ['phone', 'atlocation', 'livingroom', 83], ['headset', 'atlocation', 'livingroom', 83], ['agent', 'atlocation', 'livingroom', 83]] ['bedroom', 'tothewest', '?', 83] -1 False {}\n",
      "[['livingroom', 'tothenorth', 'wall', 84], ['livingroom', 'totheeast', 'wall', 84], ['livingroom', 'tothesouth', 'bedroom', 84], ['livingroom', 'tothewest', 'officeroom', 84], ['table', 'atlocation', 'livingroom', 84], ['tae', 'atlocation', 'livingroom', 84], ['phone', 'atlocation', 'livingroom', 84], ['agent', 'atlocation', 'livingroom', 84]] ['?', 'atlocation', 'livingroom', 84] 1 False {}\n",
      "[['livingroom', 'tothenorth', 'wall', 85], ['livingroom', 'totheeast', 'wall', 85], ['livingroom', 'tothesouth', 'bedroom', 85], ['livingroom', 'tothewest', 'officeroom', 85], ['table', 'atlocation', 'livingroom', 85], ['tae', 'atlocation', 'livingroom', 85], ['phone', 'atlocation', 'livingroom', 85], ['agent', 'atlocation', 'livingroom', 85]] ['bedroom', '?', 'wall', 85] -1 False {}\n",
      "[['livingroom', 'tothenorth', 'wall', 86], ['livingroom', 'totheeast', 'wall', 86], ['livingroom', 'tothesouth', 'bedroom', 86], ['livingroom', 'tothewest', 'officeroom', 86], ['table', 'atlocation', 'livingroom', 86], ['tae', 'atlocation', 'livingroom', 86], ['vincent', 'atlocation', 'livingroom', 86], ['phone', 'atlocation', 'livingroom', 86], ['headset', 'atlocation', 'livingroom', 86], ['agent', 'atlocation', 'livingroom', 86]] ['phone', '?', 'livingroom', 86] -1 False {}\n",
      "[['livingroom', 'tothenorth', 'wall', 87], ['livingroom', 'totheeast', 'wall', 87], ['livingroom', 'tothesouth', 'bedroom', 87], ['livingroom', 'tothewest', 'officeroom', 87], ['table', 'atlocation', 'livingroom', 87], ['tae', 'atlocation', 'livingroom', 87], ['phone', 'atlocation', 'livingroom', 87], ['agent', 'atlocation', 'livingroom', 87]] ['officeroom', '?', 'livingroom', 87] -1 False {}\n",
      "[['livingroom', 'tothenorth', 'wall', 88], ['livingroom', 'totheeast', 'wall', 88], ['livingroom', 'tothesouth', 'bedroom', 88], ['livingroom', 'tothewest', 'officeroom', 88], ['table', 'atlocation', 'livingroom', 88], ['tae', 'atlocation', 'livingroom', 88], ['phone', 'atlocation', 'livingroom', 88], ['agent', 'atlocation', 'livingroom', 88]] ['officeroom', 'tothesouth', '?', 88] -1 False {}\n",
      "[['livingroom', 'tothenorth', 'wall', 89], ['livingroom', 'totheeast', 'wall', 89], ['livingroom', 'tothesouth', 'bedroom', 89], ['livingroom', 'tothewest', 'officeroom', 89], ['table', 'atlocation', 'livingroom', 89], ['tae', 'atlocation', 'livingroom', 89], ['vincent', 'atlocation', 'livingroom', 89], ['phone', 'atlocation', 'livingroom', 89], ['headset', 'atlocation', 'livingroom', 89], ['agent', 'atlocation', 'livingroom', 89]] ['officeroom', 'tothewest', '?', 89] 1 False {}\n",
      "[['livingroom', 'tothenorth', 'wall', 90], ['livingroom', 'totheeast', 'wall', 90], ['livingroom', 'tothesouth', 'bedroom', 90], ['livingroom', 'tothewest', 'officeroom', 90], ['table', 'atlocation', 'livingroom', 90], ['tae', 'atlocation', 'livingroom', 90], ['vincent', 'atlocation', 'livingroom', 90], ['phone', 'atlocation', 'livingroom', 90], ['headset', 'atlocation', 'livingroom', 90], ['agent', 'atlocation', 'livingroom', 90]] ['tae', '?', 'livingroom', 90] 1 False {}\n",
      "[['livingroom', 'tothenorth', 'wall', 91], ['livingroom', 'totheeast', 'wall', 91], ['livingroom', 'tothesouth', 'bedroom', 91], ['livingroom', 'tothewest', 'officeroom', 91], ['table', 'atlocation', 'livingroom', 91], ['tae', 'atlocation', 'livingroom', 91], ['phone', 'atlocation', 'livingroom', 91], ['agent', 'atlocation', 'livingroom', 91]] ['officeroom', '?', 'livingroom', 91] -1 False {}\n",
      "[['livingroom', 'tothenorth', 'wall', 92], ['livingroom', 'totheeast', 'wall', 92], ['livingroom', 'tothesouth', 'bedroom', 92], ['livingroom', 'tothewest', 'officeroom', 92], ['table', 'atlocation', 'livingroom', 92], ['tae', 'atlocation', 'livingroom', 92], ['phone', 'atlocation', 'livingroom', 92], ['agent', 'atlocation', 'livingroom', 92]] ['?', 'tothesouth', 'wall', 92] -1 False {}\n",
      "[['livingroom', 'tothenorth', 'wall', 93], ['livingroom', 'totheeast', 'wall', 93], ['livingroom', 'tothesouth', 'bedroom', 93], ['livingroom', 'tothewest', 'officeroom', 93], ['table', 'atlocation', 'livingroom', 93], ['tae', 'atlocation', 'livingroom', 93], ['vincent', 'atlocation', 'livingroom', 93], ['phone', 'atlocation', 'livingroom', 93], ['headset', 'atlocation', 'livingroom', 93], ['agent', 'atlocation', 'livingroom', 93]] ['headset', 'atlocation', '?', 93] -1 False {}\n",
      "[['livingroom', 'tothenorth', 'wall', 94], ['livingroom', 'totheeast', 'wall', 94], ['livingroom', 'tothesouth', 'bedroom', 94], ['livingroom', 'tothewest', 'officeroom', 94], ['table', 'atlocation', 'livingroom', 94], ['tae', 'atlocation', 'livingroom', 94], ['phone', 'atlocation', 'livingroom', 94], ['agent', 'atlocation', 'livingroom', 94]] ['desk', 'atlocation', '?', 94] -1 False {}\n",
      "[['livingroom', 'tothenorth', 'wall', 95], ['livingroom', 'totheeast', 'wall', 95], ['livingroom', 'tothesouth', 'bedroom', 95], ['livingroom', 'tothewest', 'officeroom', 95], ['table', 'atlocation', 'livingroom', 95], ['tae', 'atlocation', 'livingroom', 95], ['vincent', 'atlocation', 'livingroom', 95], ['phone', 'atlocation', 'livingroom', 95], ['headset', 'atlocation', 'livingroom', 95], ['agent', 'atlocation', 'livingroom', 95]] ['livingroom', 'tothenorth', '?', 95] -1 False {}\n",
      "[['livingroom', 'tothenorth', 'wall', 96], ['livingroom', 'totheeast', 'wall', 96], ['livingroom', 'tothesouth', 'bedroom', 96], ['livingroom', 'tothewest', 'officeroom', 96], ['table', 'atlocation', 'livingroom', 96], ['tae', 'atlocation', 'livingroom', 96], ['vincent', 'atlocation', 'livingroom', 96], ['phone', 'atlocation', 'livingroom', 96], ['headset', 'atlocation', 'livingroom', 96], ['agent', 'atlocation', 'livingroom', 96]] ['officeroom', '?', 'livingroom', 96] 1 False {}\n",
      "[['livingroom', 'tothenorth', 'wall', 97], ['livingroom', 'totheeast', 'wall', 97], ['livingroom', 'tothesouth', 'bedroom', 97], ['livingroom', 'tothewest', 'officeroom', 97], ['table', 'atlocation', 'livingroom', 97], ['tae', 'atlocation', 'livingroom', 97], ['phone', 'atlocation', 'livingroom', 97], ['headset', 'atlocation', 'livingroom', 97], ['agent', 'atlocation', 'livingroom', 97]] ['?', 'tothewest', 'wall', 97] -1 False {}\n",
      "[['livingroom', 'tothenorth', 'wall', 98], ['livingroom', 'totheeast', 'wall', 98], ['livingroom', 'tothesouth', 'bedroom', 98], ['livingroom', 'tothewest', 'officeroom', 98], ['table', 'atlocation', 'livingroom', 98], ['tae', 'atlocation', 'livingroom', 98], ['phone', 'atlocation', 'livingroom', 98], ['headset', 'atlocation', 'livingroom', 98], ['agent', 'atlocation', 'livingroom', 98]] ['officeroom', 'tothenorth', '?', 98] -1 False {}\n",
      "[['livingroom', 'tothenorth', 'wall', 99], ['livingroom', 'totheeast', 'wall', 99], ['livingroom', 'tothesouth', 'bedroom', 99], ['livingroom', 'tothewest', 'officeroom', 99], ['table', 'atlocation', 'livingroom', 99], ['tae', 'atlocation', 'livingroom', 99], ['vincent', 'atlocation', 'livingroom', 99], ['phone', 'atlocation', 'livingroom', 99], ['headset', 'atlocation', 'livingroom', 99], ['agent', 'atlocation', 'livingroom', 99]] ['?', 'tothesouth', 'wall', 99] 1 False {}\n",
      "[['livingroom', 'tothenorth', 'wall', 100], ['livingroom', 'totheeast', 'wall', 100], ['livingroom', 'tothesouth', 'bedroom', 100], ['livingroom', 'tothewest', 'officeroom', 100], ['table', 'atlocation', 'livingroom', 100], ['tae', 'atlocation', 'livingroom', 100], ['michael', 'atlocation', 'livingroom', 100], ['agent', 'atlocation', 'livingroom', 100]] ['bedroom', 'totheeast', '?', 100] -1 True {}\n"
     ]
    }
   ],
   "source": [
    "rewards = []\n",
    "while True:\n",
    "    (obs, question), reward, done, info = env.step(\"wall\", \"north\")\n",
    "    print(obs, question, reward, done, info)\n",
    "    rewards.append(reward)\n",
    "    if done:\n",
    "        break"
   ]
  },
  {
   "cell_type": "code",
   "execution_count": 12,
   "metadata": {},
   "outputs": [
    {
     "data": {
      "text/plain": [
       "100"
      ]
     },
     "execution_count": 12,
     "metadata": {},
     "output_type": "execute_result"
    }
   ],
   "source": [
    "len(rewards)"
   ]
  },
  {
   "cell_type": "code",
   "execution_count": 13,
   "metadata": {},
   "outputs": [
    {
     "data": {
      "text/plain": [
       "['bedroom', 'totheeast', '?', 100]"
      ]
     },
     "execution_count": 13,
     "metadata": {},
     "output_type": "execute_result"
    }
   ],
   "source": [
    "env.question"
   ]
  },
  {
   "cell_type": "code",
   "execution_count": 9,
   "metadata": {},
   "outputs": [
    {
     "data": {
      "text/plain": [
       "[['officeroom', 'tothenorth', 'wall', 0],\n",
       " ['officeroom', 'totheeast', 'livingroom', 0],\n",
       " ['officeroom', 'tothesouth', 'wall', 0],\n",
       " ['officeroom', 'tothewest', 'wall', 0],\n",
       " ['livingroom', 'tothenorth', 'wall', 0],\n",
       " ['livingroom', 'totheeast', 'wall', 0],\n",
       " ['livingroom', 'tothesouth', 'bedroom', 0],\n",
       " ['livingroom', 'tothewest', 'officeroom', 0],\n",
       " ['bedroom', 'tothenorth', 'livingroom', 0],\n",
       " ['bedroom', 'totheeast', 'wall', 0],\n",
       " ['bedroom', 'tothesouth', 'wall', 0],\n",
       " ['bedroom', 'tothewest', 'wall', 0],\n",
       " ['bed', 'atlocation', 'bedroom', 0],\n",
       " ['desk', 'atlocation', 'officeroom', 0],\n",
       " ['table', 'atlocation', 'livingroom', 0],\n",
       " ['tae', 'atlocation', 'officeroom', 0],\n",
       " ['michael', 'atlocation', 'livingroom', 0],\n",
       " ['vincent', 'atlocation', 'bedroom', 0],\n",
       " ['laptop', 'atlocation', 'bedroom', 0],\n",
       " ['phone', 'atlocation', 'livingroom', 0],\n",
       " ['headset', 'atlocation', 'bedroom', 0],\n",
       " ['agent', 'atlocation', 'livingroom', 0]]"
      ]
     },
     "execution_count": 9,
     "metadata": {},
     "output_type": "execute_result"
    }
   ],
   "source": [
    "env._get_hidden_global_state()"
   ]
  },
  {
   "cell_type": "code",
   "execution_count": 10,
   "metadata": {},
   "outputs": [
    {
     "data": {
      "text/plain": [
       "(([['livingroom', 'tothenorth', 'wall', 1],\n",
       "   ['livingroom', 'totheeast', 'wall', 1],\n",
       "   ['livingroom', 'tothesouth', 'bedroom', 1],\n",
       "   ['livingroom', 'tothewest', 'officeroom', 1],\n",
       "   ['table', 'atlocation', 'livingroom', 1],\n",
       "   ['agent', 'atlocation', 'livingroom', 1]],\n",
       "  ['agent', '?', 'livingroom', 1]),\n",
       " 1,\n",
       " False,\n",
       " {})"
      ]
     },
     "execution_count": 10,
     "metadata": {},
     "output_type": "execute_result"
    }
   ],
   "source": [
    "(obs, question), reward, done, info = env.step(\"wall\", \"north\")\n",
    "(obs, question), reward, done, info"
   ]
  }
 ],
 "metadata": {
  "interpreter": {
   "hash": "c7c14ce45c674ffbe7e3a8bc18299264a1035542c780d18c0e8f0c585e044f28"
  },
  "kernelspec": {
   "display_name": "Python 3.8.12 ('dev-python3.8')",
   "language": "python",
   "name": "python3"
  },
  "language_info": {
   "codemirror_mode": {
    "name": "ipython",
    "version": 3
   },
   "file_extension": ".py",
   "mimetype": "text/x-python",
   "name": "python",
   "nbconvert_exporter": "python",
   "pygments_lexer": "ipython3",
   "version": "3.9.17"
  },
  "orig_nbformat": 4
 },
 "nbformat": 4,
 "nbformat_minor": 2
}
