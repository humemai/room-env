{
 "cells": [
  {
   "cell_type": "code",
   "execution_count": 1,
   "metadata": {},
   "outputs": [],
   "source": [
    "room_config = {\n",
    "    \"officeroom\": {\n",
    "        \"north\": \"wall\",\n",
    "        \"east\": \"livingroom\",\n",
    "        \"south\": \"wall\",\n",
    "        \"west\": \"wall\",\n",
    "    },\n",
    "    \"livingroom\": {\n",
    "        \"north\": \"wall\",\n",
    "        \"east\": \"wall\",\n",
    "        \"south\": \"bedroom\",\n",
    "        \"west\": \"officeroom\",\n",
    "    },\n",
    "    \"bedroom\": {\n",
    "        \"north\": \"livingroom\",\n",
    "        \"east\": \"wall\",\n",
    "        \"south\": \"wall\",\n",
    "        \"west\": \"wall\",\n",
    "    },\n",
    "}\n",
    "\n",
    "\n",
    "object_transition_config = {\n",
    "    \"static\": {\"bed\": None, \"desk\": None, \"table\": None},\n",
    "    \"independent\": {\n",
    "        \"tae\": {\n",
    "            \"officeroom\": {\"north\": 0, \"east\": 0.1, \"south\": 0, \"west\": 0, \"stay\": 0.9},\n",
    "            \"livingroom\": {\n",
    "                \"north\": 0,\n",
    "                \"east\": 0,\n",
    "                \"south\": 0,\n",
    "                \"west\": 0.1,\n",
    "                \"stay\": 0.9,\n",
    "            },\n",
    "            \"bedroom\": {\"north\": 0, \"east\": 0, \"south\": 0, \"west\": 0, \"stay\": 0},\n",
    "        },\n",
    "        \"michael\": {\n",
    "            \"officeroom\": {\n",
    "                \"north\": 0,\n",
    "                \"east\": 0,\n",
    "                \"south\": 0,\n",
    "                \"west\": 0,\n",
    "                \"stay\": 0,\n",
    "            },\n",
    "            \"livingroom\": {\n",
    "                \"north\": 0,\n",
    "                \"east\": 0,\n",
    "                \"south\": 0.9,\n",
    "                \"west\": 0,\n",
    "                \"stay\": 0.1,\n",
    "            },\n",
    "            \"bedroom\": {\"north\": 0.1, \"east\": 0, \"south\": 0, \"west\": 0, \"stay\": 0.9},\n",
    "        },\n",
    "        \"vincent\": {\n",
    "            \"officeroom\": {\n",
    "                \"north\": 0,\n",
    "                \"east\": 0.5,\n",
    "                \"south\": 0,\n",
    "                \"west\": 0,\n",
    "                \"stay\": 0.5,\n",
    "            },\n",
    "            \"livingroom\": {\n",
    "                \"north\": 0,\n",
    "                \"east\": 0,\n",
    "                \"south\": 0.333,\n",
    "                \"west\": 0.333,\n",
    "                \"stay\": 0.333,\n",
    "            },\n",
    "            \"bedroom\": {\n",
    "                \"north\": 0.5,\n",
    "                \"east\": 0,\n",
    "                \"south\": 0,\n",
    "                \"west\": 0,\n",
    "                \"stay\": 0.5,\n",
    "            },\n",
    "        },\n",
    "    },\n",
    "    \"dependent\": {\n",
    "        \"laptop\": {\"tae\": 0.7, \"michael\": 0.4, \"vincent\": 0.1},\n",
    "        \"phone\": {\"tae\": 0.1, \"michael\": 0.7, \"vincent\": 0.4},\n",
    "        \"headset\": {\"tae\": 0.4, \"michael\": 0.1, \"vincent\": 0.9},\n",
    "    },\n",
    "    \"agent\": {\n",
    "        \"agent\": {\"officeroom\": None, \"livingroom\": None, \"bedroom\": None},\n",
    "    },\n",
    "}\n",
    "\n",
    "object_init_config = {\n",
    "    \"static\": {\n",
    "        \"bed\": {\"officeroom\": 0, \"livingroom\": 0, \"bedroom\": 1},\n",
    "        \"desk\": {\"officeroom\": 1, \"livingroom\": 0, \"bedroom\": 0},\n",
    "        \"table\": {\"officeroom\": 0, \"livingroom\": 1, \"bedroom\": 0},\n",
    "    },\n",
    "    \"independent\": {\n",
    "        \"tae\": {\"officeroom\": 0.5, \"livingroom\": 0.5, \"bedroom\": 0},\n",
    "        \"michael\": {\"officeroom\": 0, \"livingroom\": 0.5, \"bedroom\": 0.5},\n",
    "        \"vincent\": {\"officeroom\": 0.333, \"livingroom\": 0.333, \"bedroom\": 0.333},\n",
    "    },\n",
    "    \"dependent\": {\n",
    "        \"laptop\": {\"officeroom\": 0.333, \"livingroom\": 0.333, \"bedroom\": 0.333},\n",
    "        \"phone\": {\"officeroom\": 0.333, \"livingroom\": 0.333, \"bedroom\": 0.333},\n",
    "        \"headset\": {\"officeroom\": 0.333, \"livingroom\": 0.333, \"bedroom\": 0.333},\n",
    "    },\n",
    "    \"agent\": {\n",
    "        \"agent\": {\"officeroom\": 0.333, \"livingroom\": 0.333, \"bedroom\": 0.333},\n",
    "    },\n",
    "}\n",
    "\n",
    "config = {\n",
    "    \"room_config\": room_config,\n",
    "    \"object_transition_config\": object_transition_config,\n",
    "    \"object_init_config\": object_init_config,\n",
    "    \"question_prob\": 1.0,\n",
    "    \"seed\": 42,\n",
    "}\n"
   ]
  },
  {
   "cell_type": "code",
   "execution_count": 2,
   "metadata": {},
   "outputs": [
    {
     "data": {
      "text/plain": [
       "([['livingroom', 'tothenorth', 'wall', 0],\n",
       "  ['livingroom', 'totheeast', 'wall', 0],\n",
       "  ['livingroom', 'tothesouth', 'bedroom', 0],\n",
       "  ['livingroom', 'tothewest', 'officeroom', 0],\n",
       "  ['table', 'atlocation', 'livingroom', 0],\n",
       "  ['michael', 'atlocation', 'livingroom', 0],\n",
       "  ['phone', 'atlocation', 'livingroom', 0],\n",
       "  ['agent', 'atlocation', 'livingroom', 0]],\n",
       " ['bedroom', '?', 'wall'])"
      ]
     },
     "execution_count": 2,
     "metadata": {},
     "output_type": "execute_result"
    }
   ],
   "source": [
    "from room_env.envs.room2 import (\n",
    "    Object,\n",
    "    StaticObject,\n",
    "    IndepdentObject,\n",
    "    DependentObject,\n",
    "    Room,\n",
    "    RoomEnv2,\n",
    ")\n",
    "\n",
    "env = RoomEnv2(**config)\n",
    "(obs, question), info = env.reset()\n",
    "\n",
    "obs, question\n"
   ]
  },
  {
   "cell_type": "code",
   "execution_count": 3,
   "metadata": {},
   "outputs": [
    {
     "data": {
      "text/plain": [
       "[['officeroom', 'tothenorth', 'wall'],\n",
       " ['officeroom', 'totheeast', 'livingroom'],\n",
       " ['officeroom', 'tothesouth', 'wall'],\n",
       " ['officeroom', 'tothewest', 'wall'],\n",
       " ['livingroom', 'tothenorth', 'wall'],\n",
       " ['livingroom', 'totheeast', 'wall'],\n",
       " ['livingroom', 'tothesouth', 'bedroom'],\n",
       " ['livingroom', 'tothewest', 'officeroom'],\n",
       " ['bedroom', 'tothenorth', 'livingroom'],\n",
       " ['bedroom', 'totheeast', 'wall'],\n",
       " ['bedroom', 'tothesouth', 'wall'],\n",
       " ['bedroom', 'tothewest', 'wall'],\n",
       " ['bed', 'atlocation', 'bedroom'],\n",
       " ['desk', 'atlocation', 'officeroom'],\n",
       " ['table', 'atlocation', 'livingroom'],\n",
       " ['tae', 'atlocation', 'officeroom'],\n",
       " ['michael', 'atlocation', 'livingroom'],\n",
       " ['vincent', 'atlocation', 'bedroom'],\n",
       " ['laptop', 'atlocation', 'bedroom'],\n",
       " ['phone', 'atlocation', 'livingroom'],\n",
       " ['headset', 'atlocation', 'bedroom'],\n",
       " ['agent', 'atlocation', 'livingroom']]"
      ]
     },
     "execution_count": 3,
     "metadata": {},
     "output_type": "execute_result"
    }
   ],
   "source": [
    "env._get_hidden_global_state()\n"
   ]
  },
  {
   "cell_type": "code",
   "execution_count": 4,
   "metadata": {},
   "outputs": [],
   "source": [
    "(obs, question), reward, done, info = env.step(\"tothesouth\", \"south\")\n"
   ]
  },
  {
   "cell_type": "code",
   "execution_count": 5,
   "metadata": {},
   "outputs": [
    {
     "data": {
      "text/plain": [
       "(([['bedroom', 'tothenorth', 'livingroom', 1],\n",
       "   ['bedroom', 'totheeast', 'wall', 1],\n",
       "   ['bedroom', 'tothesouth', 'wall', 1],\n",
       "   ['bedroom', 'tothewest', 'wall', 1],\n",
       "   ['bed', 'atlocation', 'bedroom', 1],\n",
       "   ['michael', 'atlocation', 'bedroom', 1],\n",
       "   ['vincent', 'atlocation', 'bedroom', 1],\n",
       "   ['laptop', 'atlocation', 'bedroom', 1],\n",
       "   ['phone', 'atlocation', 'bedroom', 1],\n",
       "   ['headset', 'atlocation', 'bedroom', 1],\n",
       "   ['agent', 'atlocation', 'bedroom', 1]],\n",
       "  ['?', 'atlocation', 'bedroom']),\n",
       " 1,\n",
       " False,\n",
       " {})"
      ]
     },
     "execution_count": 5,
     "metadata": {},
     "output_type": "execute_result"
    }
   ],
   "source": [
    "(obs, question), reward, done, info\n"
   ]
  },
  {
   "cell_type": "code",
   "execution_count": 6,
   "metadata": {},
   "outputs": [],
   "source": [
    "(obs, question), reward, done, info = env.step(\"laptop\", \"north\")\n"
   ]
  },
  {
   "cell_type": "code",
   "execution_count": 7,
   "metadata": {},
   "outputs": [
    {
     "data": {
      "text/plain": [
       "(([['livingroom', 'tothenorth', 'wall', 2],\n",
       "   ['livingroom', 'totheeast', 'wall', 2],\n",
       "   ['livingroom', 'tothesouth', 'bedroom', 2],\n",
       "   ['livingroom', 'tothewest', 'officeroom', 2],\n",
       "   ['table', 'atlocation', 'livingroom', 2],\n",
       "   ['agent', 'atlocation', 'livingroom', 2]],\n",
       "  ['phone', 'atlocation', '?']),\n",
       " 1,\n",
       " False,\n",
       " {})"
      ]
     },
     "execution_count": 7,
     "metadata": {},
     "output_type": "execute_result"
    }
   ],
   "source": [
    "(obs, question), reward, done, info\n"
   ]
  },
  {
   "cell_type": "code",
   "execution_count": 8,
   "metadata": {},
   "outputs": [
    {
     "data": {
      "text/plain": [
       "[['officeroom', 'tothenorth', 'wall'],\n",
       " ['officeroom', 'totheeast', 'livingroom'],\n",
       " ['officeroom', 'tothesouth', 'wall'],\n",
       " ['officeroom', 'tothewest', 'wall'],\n",
       " ['livingroom', 'tothenorth', 'wall'],\n",
       " ['livingroom', 'totheeast', 'wall'],\n",
       " ['livingroom', 'tothesouth', 'bedroom'],\n",
       " ['livingroom', 'tothewest', 'officeroom'],\n",
       " ['bedroom', 'tothenorth', 'livingroom'],\n",
       " ['bedroom', 'totheeast', 'wall'],\n",
       " ['bedroom', 'tothesouth', 'wall'],\n",
       " ['bedroom', 'tothewest', 'wall'],\n",
       " ['bed', 'atlocation', 'bedroom'],\n",
       " ['desk', 'atlocation', 'officeroom'],\n",
       " ['table', 'atlocation', 'livingroom'],\n",
       " ['tae', 'atlocation', 'officeroom'],\n",
       " ['michael', 'atlocation', 'bedroom'],\n",
       " ['vincent', 'atlocation', 'bedroom'],\n",
       " ['laptop', 'atlocation', 'bedroom'],\n",
       " ['phone', 'atlocation', 'bedroom'],\n",
       " ['headset', 'atlocation', 'bedroom'],\n",
       " ['agent', 'atlocation', 'livingroom']]"
      ]
     },
     "execution_count": 8,
     "metadata": {},
     "output_type": "execute_result"
    }
   ],
   "source": [
    "env._get_hidden_global_state()\n"
   ]
  }
 ],
 "metadata": {
  "interpreter": {
   "hash": "c7c14ce45c674ffbe7e3a8bc18299264a1035542c780d18c0e8f0c585e044f28"
  },
  "kernelspec": {
   "display_name": "Python 3.8.12 ('dev-python3.8')",
   "language": "python",
   "name": "python3"
  },
  "language_info": {
   "codemirror_mode": {
    "name": "ipython",
    "version": 3
   },
   "file_extension": ".py",
   "mimetype": "text/x-python",
   "name": "python",
   "nbconvert_exporter": "python",
   "pygments_lexer": "ipython3",
   "version": "3.9.17"
  },
  "orig_nbformat": 4
 },
 "nbformat": 4,
 "nbformat_minor": 2
}
