{
 "cells": [
  {
   "cell_type": "code",
   "execution_count": 1,
   "metadata": {},
   "outputs": [],
   "source": [
    "room_config = {\n",
    "    \"officeroom\": {\n",
    "        \"north\": \"wall\",\n",
    "        \"east\": \"livingroom\",\n",
    "        \"south\": \"wall\",\n",
    "        \"west\": \"wall\",\n",
    "    },\n",
    "    \"livingroom\": {\n",
    "        \"north\": \"wall\",\n",
    "        \"east\": \"wall\",\n",
    "        \"south\": \"bedroom\",\n",
    "        \"west\": \"officeroom\",\n",
    "    },\n",
    "    \"bedroom\": {\n",
    "        \"north\": \"livingroom\",\n",
    "        \"east\": \"wall\",\n",
    "        \"south\": \"wall\",\n",
    "        \"west\": \"wall\",\n",
    "    },\n",
    "}\n",
    "\n",
    "\n",
    "object_transition_config = {\n",
    "    \"static\": {\"bed\": None, \"desk\": None, \"table\": None},\n",
    "    \"independent\": {\n",
    "        \"tae\": {\n",
    "            \"officeroom\": {\"north\": 0, \"east\": 0.1, \"south\": 0, \"west\": 0, \"stay\": 0.9},\n",
    "            \"livingroom\": {\n",
    "                \"north\": 0,\n",
    "                \"east\": 0,\n",
    "                \"south\": 0,\n",
    "                \"west\": 0.1,\n",
    "                \"stay\": 0.9,\n",
    "            },\n",
    "            \"bedroom\": {\"north\": 0, \"east\": 0, \"south\": 0, \"west\": 0, \"stay\": 0},\n",
    "        },\n",
    "        \"michael\": {\n",
    "            \"officeroom\": {\n",
    "                \"north\": 0,\n",
    "                \"east\": 0,\n",
    "                \"south\": 0,\n",
    "                \"west\": 0,\n",
    "                \"stay\": 0,\n",
    "            },\n",
    "            \"livingroom\": {\n",
    "                \"north\": 0,\n",
    "                \"east\": 0,\n",
    "                \"south\": 0.9,\n",
    "                \"west\": 0,\n",
    "                \"stay\": 0.1,\n",
    "            },\n",
    "            \"bedroom\": {\"north\": 0.1, \"east\": 0, \"south\": 0, \"west\": 0, \"stay\": 0.9},\n",
    "        },\n",
    "        \"vincent\": {\n",
    "            \"officeroom\": {\n",
    "                \"north\": 0,\n",
    "                \"east\": 0.5,\n",
    "                \"south\": 0,\n",
    "                \"west\": 0,\n",
    "                \"stay\": 0.5,\n",
    "            },\n",
    "            \"livingroom\": {\n",
    "                \"north\": 0,\n",
    "                \"east\": 0,\n",
    "                \"south\": 0.333,\n",
    "                \"west\": 0.333,\n",
    "                \"stay\": 0.333,\n",
    "            },\n",
    "            \"bedroom\": {\n",
    "                \"north\": 0.5,\n",
    "                \"east\": 0,\n",
    "                \"south\": 0,\n",
    "                \"west\": 0,\n",
    "                \"stay\": 0.5,\n",
    "            },\n",
    "        },\n",
    "    },\n",
    "    \"dependent\": {\n",
    "        \"laptop\": {\"tae\": 0.7, \"michael\": 0.4, \"vincent\": 0.1},\n",
    "        \"phone\": {\"tae\": 0.1, \"michael\": 0.7, \"vincent\": 0.4},\n",
    "        \"headset\": {\"tae\": 0.4, \"michael\": 0.1, \"vincent\": 0.9},\n",
    "    },\n",
    "    \"agent\": {\n",
    "        \"agent\": {\"officeroom\": None, \"livingroom\": None, \"bedroom\": None},\n",
    "    },\n",
    "}\n",
    "\n",
    "object_init_config = {\n",
    "    \"static\": {\n",
    "        \"bed\": {\"officeroom\": 0, \"livingroom\": 0, \"bedroom\": 1},\n",
    "        \"desk\": {\"officeroom\": 1, \"livingroom\": 0, \"bedroom\": 0},\n",
    "        \"table\": {\"officeroom\": 0, \"livingroom\": 1, \"bedroom\": 0},\n",
    "    },\n",
    "    \"independent\": {\n",
    "        \"tae\": {\"officeroom\": 0.5, \"livingroom\": 0.5, \"bedroom\": 0},\n",
    "        \"michael\": {\"officeroom\": 0, \"livingroom\": 0.5, \"bedroom\": 0.5},\n",
    "        \"vincent\": {\"officeroom\": 0.333, \"livingroom\": 0.333, \"bedroom\": 0.333},\n",
    "    },\n",
    "    \"dependent\": {\n",
    "        \"laptop\": {\"officeroom\": 0.333, \"livingroom\": 0.333, \"bedroom\": 0.333},\n",
    "        \"phone\": {\"officeroom\": 0.333, \"livingroom\": 0.333, \"bedroom\": 0.333},\n",
    "        \"headset\": {\"officeroom\": 0.333, \"livingroom\": 0.333, \"bedroom\": 0.333},\n",
    "    },\n",
    "    \"agent\": {\n",
    "        \"agent\": {\"officeroom\": 0.333, \"livingroom\": 0.333, \"bedroom\": 0.333},\n",
    "    },\n",
    "}\n",
    "\n",
    "config = {\n",
    "    \"room_config\": room_config,\n",
    "    \"object_transition_config\": object_transition_config,\n",
    "    \"object_init_config\": object_init_config,\n",
    "    \"question_prob\": 1.0,\n",
    "    \"seed\": 42,\n",
    "    \"terminates_at\": 99,\n",
    "}"
   ]
  },
  {
   "cell_type": "code",
   "execution_count": 2,
   "metadata": {},
   "outputs": [
    {
     "name": "stderr",
     "output_type": "stream",
     "text": [
      "/home/tk/.virtualenvs/human-memory/lib/python3.9/site-packages/gymnasium/envs/registration.py:491: UserWarning: \u001b[33mWARN: The environment creator metadata doesn't include `render_modes`, contains: ['render.modes']\u001b[0m\n",
      "  logger.warn(\n",
      "/home/tk/.virtualenvs/human-memory/lib/python3.9/site-packages/gymnasium/utils/passive_env_checker.py:197: DeprecationWarning: \u001b[33mWARN: Current gymnasium version requires that `Env.reset` can be passed a `seed` instead of using `Env.seed` for resetting the environment random number generator.\u001b[0m\n",
      "  logger.deprecation(\n",
      "/home/tk/.virtualenvs/human-memory/lib/python3.9/site-packages/gymnasium/utils/passive_env_checker.py:210: DeprecationWarning: \u001b[33mWARN: Current gymnasium version requires that `Env.reset` can be passed `options` to allow the environment initialisation to be passed additional information.\u001b[0m\n",
      "  logger.deprecation(\n",
      "/home/tk/.virtualenvs/human-memory/lib/python3.9/site-packages/gymnasium/utils/passive_env_checker.py:156: UserWarning: \u001b[33mWARN: The obs returned by the `reset()` method should be an int or np.int64, actual type: <class 'tuple'>\u001b[0m\n",
      "  logger.warn(f\"{pre} should be an int or np.int64, actual type: {type(obs)}\")\n",
      "/home/tk/.virtualenvs/human-memory/lib/python3.9/site-packages/gymnasium/utils/passive_env_checker.py:188: UserWarning: \u001b[33mWARN: The obs returned by the `reset()` method is not within the observation space.\u001b[0m\n",
      "  logger.warn(f\"{pre} is not within the observation space.\")\n",
      "/home/tk/.virtualenvs/human-memory/lib/python3.9/site-packages/gymnasium/utils/passive_env_checker.py:156: UserWarning: \u001b[33mWARN: The obs returned by the `step()` method should be an int or np.int64, actual type: <class 'tuple'>\u001b[0m\n",
      "  logger.warn(f\"{pre} should be an int or np.int64, actual type: {type(obs)}\")\n",
      "/home/tk/.virtualenvs/human-memory/lib/python3.9/site-packages/gymnasium/utils/passive_env_checker.py:188: UserWarning: \u001b[33mWARN: The obs returned by the `step()` method is not within the observation space.\u001b[0m\n",
      "  logger.warn(f\"{pre} is not within the observation space.\")\n"
     ]
    }
   ],
   "source": [
    "import gymnasium as gym\n",
    "import random\n",
    "\n",
    "env = gym.make(\"room_env:RoomEnv-v2\", **config)\n",
    "(obs, question), info = env.reset()\n",
    "while True:\n",
    "    action_qa = question[0]\n",
    "    action_explore = random.choice([\"north\", \"east\", \"south\", \"west\", \"stay\"])\n",
    "    (obs, question), reward, done, truncated, info = env.step((\"wall\", action_explore))\n",
    "    if done:\n",
    "        break"
   ]
  },
  {
   "cell_type": "code",
   "execution_count": 3,
   "metadata": {},
   "outputs": [
    {
     "ename": "AttributeError",
     "evalue": "'RoomEnv2' object has no attribute 'stepp'",
     "output_type": "error",
     "traceback": [
      "\u001b[0;31m---------------------------------------------------------------------------\u001b[0m",
      "\u001b[0;31mAttributeError\u001b[0m                            Traceback (most recent call last)",
      "\u001b[1;32m/home/tk/repos/room-env-private/room-env-v2.ipynb Cell 3\u001b[0m line \u001b[0;36m1\n\u001b[0;32m----> <a href='vscode-notebook-cell:/home/tk/repos/room-env-private/room-env-v2.ipynb#W2sZmlsZQ%3D%3D?line=0'>1</a>\u001b[0m env\u001b[39m.\u001b[39;49mstepp()\n",
      "File \u001b[0;32m~/.virtualenvs/human-memory/lib/python3.9/site-packages/gymnasium/core.py:282\u001b[0m, in \u001b[0;36mWrapper.__getattr__\u001b[0;34m(self, name)\u001b[0m\n\u001b[1;32m    280\u001b[0m \u001b[39melif\u001b[39;00m name\u001b[39m.\u001b[39mstartswith(\u001b[39m\"\u001b[39m\u001b[39m_\u001b[39m\u001b[39m\"\u001b[39m):\n\u001b[1;32m    281\u001b[0m     \u001b[39mraise\u001b[39;00m \u001b[39mAttributeError\u001b[39;00m(\u001b[39mf\u001b[39m\u001b[39m\"\u001b[39m\u001b[39maccessing private attribute \u001b[39m\u001b[39m'\u001b[39m\u001b[39m{\u001b[39;00mname\u001b[39m}\u001b[39;00m\u001b[39m'\u001b[39m\u001b[39m is prohibited\u001b[39m\u001b[39m\"\u001b[39m)\n\u001b[0;32m--> 282\u001b[0m \u001b[39mreturn\u001b[39;00m \u001b[39mgetattr\u001b[39;49m(\u001b[39mself\u001b[39;49m\u001b[39m.\u001b[39;49menv, name)\n",
      "File \u001b[0;32m~/.virtualenvs/human-memory/lib/python3.9/site-packages/gymnasium/core.py:282\u001b[0m, in \u001b[0;36mWrapper.__getattr__\u001b[0;34m(self, name)\u001b[0m\n\u001b[1;32m    280\u001b[0m \u001b[39melif\u001b[39;00m name\u001b[39m.\u001b[39mstartswith(\u001b[39m\"\u001b[39m\u001b[39m_\u001b[39m\u001b[39m\"\u001b[39m):\n\u001b[1;32m    281\u001b[0m     \u001b[39mraise\u001b[39;00m \u001b[39mAttributeError\u001b[39;00m(\u001b[39mf\u001b[39m\u001b[39m\"\u001b[39m\u001b[39maccessing private attribute \u001b[39m\u001b[39m'\u001b[39m\u001b[39m{\u001b[39;00mname\u001b[39m}\u001b[39;00m\u001b[39m'\u001b[39m\u001b[39m is prohibited\u001b[39m\u001b[39m\"\u001b[39m)\n\u001b[0;32m--> 282\u001b[0m \u001b[39mreturn\u001b[39;00m \u001b[39mgetattr\u001b[39;49m(\u001b[39mself\u001b[39;49m\u001b[39m.\u001b[39;49menv, name)\n",
      "\u001b[0;31mAttributeError\u001b[0m: 'RoomEnv2' object has no attribute 'stepp'"
     ]
    }
   ],
   "source": [
    "env.step()"
   ]
  },
  {
   "cell_type": "code",
   "execution_count": null,
   "metadata": {},
   "outputs": [],
   "source": [
    "env.answers"
   ]
  },
  {
   "cell_type": "code",
   "execution_count": null,
   "metadata": {},
   "outputs": [],
   "source": [
    "from room_env.envs.room2 import (\n",
    "    Object,\n",
    "    StaticObject,\n",
    "    IndepdentObject,\n",
    "    DependentObject,\n",
    "    Room,\n",
    "    RoomEnv2,\n",
    ")\n",
    "\n",
    "env = RoomEnv2(**config)\n",
    "(obs, question), info = env.reset()\n",
    "\n",
    "rewards = []\n",
    "while True:\n",
    "    (obs, question), reward, done, info = env.step(\"wall\", \"north\")\n",
    "    print(obs, question, reward, done, info)\n",
    "    rewards.append(reward)\n",
    "    if done:\n",
    "        break"
   ]
  },
  {
   "cell_type": "code",
   "execution_count": null,
   "metadata": {},
   "outputs": [],
   "source": [
    "from room_env.envs.room2 import (\n",
    "    Object,\n",
    "    StaticObject,\n",
    "    IndepdentObject,\n",
    "    DependentObject,\n",
    "    Room,\n",
    "    RoomEnv2,\n",
    ")\n",
    "\n",
    "env = RoomEnv2(**config)\n",
    "(obs, question), info = env.reset()\n",
    "\n",
    "obs, question"
   ]
  },
  {
   "cell_type": "code",
   "execution_count": null,
   "metadata": {},
   "outputs": [],
   "source": [
    "rewards = []\n",
    "while True:\n",
    "    (obs, question), reward, done, info = env.step(\"wall\", \"north\")\n",
    "    print(obs, question, reward, done, info)\n",
    "    rewards.append(reward)\n",
    "    if done:\n",
    "        break"
   ]
  },
  {
   "cell_type": "code",
   "execution_count": null,
   "metadata": {},
   "outputs": [],
   "source": [
    "len(rewards)"
   ]
  },
  {
   "cell_type": "code",
   "execution_count": null,
   "metadata": {},
   "outputs": [],
   "source": [
    "env.question"
   ]
  },
  {
   "cell_type": "code",
   "execution_count": null,
   "metadata": {},
   "outputs": [],
   "source": [
    "env._get_hidden_global_state()"
   ]
  },
  {
   "cell_type": "code",
   "execution_count": null,
   "metadata": {},
   "outputs": [],
   "source": [
    "(obs, question), reward, done, info = env.step(\"wall\", \"north\")\n",
    "(obs, question), reward, done, info"
   ]
  }
 ],
 "metadata": {
  "interpreter": {
   "hash": "c7c14ce45c674ffbe7e3a8bc18299264a1035542c780d18c0e8f0c585e044f28"
  },
  "kernelspec": {
   "display_name": "Python 3.8.12 ('dev-python3.8')",
   "language": "python",
   "name": "python3"
  },
  "language_info": {
   "codemirror_mode": {
    "name": "ipython",
    "version": 3
   },
   "file_extension": ".py",
   "mimetype": "text/x-python",
   "name": "python",
   "nbconvert_exporter": "python",
   "pygments_lexer": "ipython3",
   "version": "3.9.18"
  },
  "orig_nbformat": 4
 },
 "nbformat": 4,
 "nbformat_minor": 2
}
